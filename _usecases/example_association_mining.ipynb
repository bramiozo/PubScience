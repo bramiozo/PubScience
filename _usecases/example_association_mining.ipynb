{
 "cells": [
  {
   "cell_type": "code",
   "execution_count": null,
   "metadata": {},
   "outputs": [],
   "source": [
    "import scispacy\n",
    "import spacy\n",
    "import re\n",
    "import pandas as pd \n",
    "import numpy as np\n",
    "from collections import defaultdict\n",
    "from tqdm import tqdm\n",
    "import os\n",
    "from efficient_apriori import apriori"
   ]
  },
  {
   "cell_type": "code",
   "execution_count": null,
   "metadata": {},
   "outputs": [],
   "source": [
    "# en_ner_jnlpba_md, en_ner_bc5cdr_md, en_ner_bionlp13cg_md, en_ner_craft_md, en_core_sci_lg\n",
    "nlp = spacy.load(\"en_core_sci_lg\", disable=['parser','tagger']) # disable=['tagger', ]"
   ]
  },
  {
   "cell_type": "code",
   "execution_count": null,
   "metadata": {},
   "outputs": [],
   "source": [
    "os.chdir(\"/media/bramiozo/DATA-FAST/text_data/pubscience/pubmed\")"
   ]
  },
  {
   "cell_type": "code",
   "execution_count": null,
   "metadata": {},
   "outputs": [],
   "source": [
    "filenames = [(\"cardiovascular_disease\", \"cvd_abstract/cardiovascular_disease.xml.abstract.raw\"),\n",
    "             (\"acute_coronary_syndrome\", \"cvd_abstract/acute_coronary_syndrome.xml.abstract.raw\"),\n",
    "             (\"atrial_fibrillation\", \"cvd_abstract/atrial_fibrillation.xml.abstract.raw\"),\n",
    "             (\"cardiomyopathy\", \"cvd_abstract/cardiomyopathy.xml.abstract.raw\"),\n",
    "             (\"myocardial_ischemia\", \"cvd_abstract/myocardial_ischemia.xml.abstract.raw\"),\n",
    "             (\"tachycardia\", \"cvd_abstract/tachycardia.xml.abstract.raw\"),\n",
    "             (\"rheumatoid_arthritis\", \"ra_abstract/rheumatoid_arthritis.xml.abstract.raw\")]"
   ]
  },
  {
   "cell_type": "markdown",
   "metadata": {},
   "source": []
  },
  {
   "cell_type": "code",
   "execution_count": null,
   "metadata": {},
   "outputs": [],
   "source": [
    "corpora = defaultdict(list)\n",
    "for file in filenames:\n",
    "    with open(file[1], \"r\") as rf:\n",
    "        corpora[file[0]] = rf.readlines()\n",
    "        print(f\"{file[0]} contains {len(corpora[file[0]])} documents\")"
   ]
  },
  {
   "cell_type": "markdown",
   "metadata": {},
   "source": [
    "# NER\n"
   ]
  },
  {
   "cell_type": "markdown",
   "metadata": {},
   "source": [
    "## MedCat"
   ]
  },
  {
   "cell_type": "code",
   "execution_count": null,
   "metadata": {},
   "outputs": [],
   "source": []
  },
  {
   "cell_type": "markdown",
   "metadata": {},
   "source": [
    "## SciSpacy"
   ]
  },
  {
   "cell_type": "code",
   "execution_count": null,
   "metadata": {},
   "outputs": [],
   "source": [
    "token_db = defaultdict(tuple)\n",
    "token_types = set()\n",
    "\n",
    "for k, abstracts in corpora.items():\n",
    "    print(f\"Processing {k}...\")\n",
    "    token_dict = defaultdict(lambda: defaultdict(int))\n",
    "    wv_dict_avg = dict()\n",
    "    wv_dict_ent_avg = dict()\n",
    "    for idx, _doc in tqdm(enumerate(nlp.pipe(abstracts))):\n",
    "        wv_dict_avg[idx] = _doc.vector\n",
    "        vlist = []\n",
    "        for _token in _doc.ents:\n",
    "            vlist.append(_token.vector)            \n",
    "            if len(_token)>2:\n",
    "                txt = _token.lemma_\n",
    "                token_dict[idx][txt] += 1\n",
    "        wv_dict_ent_avg[idx] = np.vstack(vlist).mean(axis=0) if len(vlist)>0 else None\n",
    "    token_db[k] = token_dict, wv_dict_avg, wv_dict_ent_avg"
   ]
  },
  {
   "cell_type": "code",
   "execution_count": null,
   "metadata": {},
   "outputs": [],
   "source": [
    "apriori_results_db = dict()\n",
    "for corpus_key, corpus in token_db.items():\n",
    "    print(f\"Collecting entity tuples and mining associations for :{corpus_key}\")\n",
    "    ent_tuples = [tuple([_v for _v in v.keys()]) for k,v in corpus[0].items()]\n",
    "\n",
    "    apriori_results_db[corpus_key] = apriori(ent_tuples, min_support=0.0025, min_confidence=0.15)"
   ]
  },
  {
   "cell_type": "code",
   "execution_count": null,
   "metadata": {},
   "outputs": [],
   "source": [
    "db = 'rheumatoid_arthritis'\n",
    "apriori_results_db[db][1]"
   ]
  },
  {
   "cell_type": "code",
   "execution_count": null,
   "metadata": {},
   "outputs": [],
   "source": [
    "# check associations for certain term\n",
    "term = 'cholesterol'\n",
    "db = 'cardiomyopathy'\n",
    "\n",
    "for item in apriori_results_db[db][1]:\n",
    "    # first index of the inner list\n",
    "    # Contains base item and add item\n",
    "    if term in str(item):\n",
    "        print(str(item))"
   ]
  },
  {
   "cell_type": "markdown",
   "metadata": {},
   "source": [
    "## BERN (BioBERT-based NER)"
   ]
  },
  {
   "cell_type": "code",
   "execution_count": null,
   "metadata": {},
   "outputs": [],
   "source": [
    "# NER : https://github.com/dmis-lab/bern\n"
   ]
  },
  {
   "cell_type": "markdown",
   "metadata": {},
   "source": [
    "# Embeddings"
   ]
  },
  {
   "cell_type": "code",
   "execution_count": null,
   "metadata": {},
   "outputs": [],
   "source": [
    "import seaborn as sns\n",
    "from rpca import R_pca\n",
    "from umap import UMAP\n",
    "from sklearn.decomposition import FactorAnalysis as FA\n",
    "from sklearn.decomposition import PCA\n",
    "from sklearn.manifold import isomap\n",
    "from random import choices,sample\n",
    "import matplotlib.pyplot as plt\n",
    "import numpy as np\n",
    "import scipy as sc"
   ]
  },
  {
   "cell_type": "code",
   "execution_count": null,
   "metadata": {},
   "outputs": [],
   "source": [
    "def collect_wv(key, sample_size=100, atype=1):    \n",
    "    awv = token_db[key][atype][0]\n",
    "    max_count = len(token_db[key][atype])\n",
    "    rnd_choices = choices(range(1,max_count), k=sample_size)\n",
    "\n",
    "    for sel in rnd_choices:\n",
    "        awv = np.vstack([awv,token_db[key][atype][sel]])\n",
    "    return awv"
   ]
  },
  {
   "cell_type": "code",
   "execution_count": null,
   "metadata": {},
   "outputs": [],
   "source": [
    "def reduce(data, n_dims=2, how=UMAP):\n",
    "    reducer = how(n_components=n_dims).fit(data)\n",
    "    return reducer.transform(data), reducer"
   ]
  },
  {
   "cell_type": "code",
   "execution_count": null,
   "metadata": {},
   "outputs": [],
   "source": [
    "embeddings = dict()\n",
    "sample_size = 10000\n",
    "embeddings['cardiovascular_disease'] = collect_wv('cardiovascular_disease', sample_size=sample_size, atype=1)\n",
    "embeddings['rheumatoid_arthritis'] = collect_wv('rheumatoid_arthritis', sample_size=sample_size, atype=1)\n",
    "embeddings['atrial_fibrillation'] = collect_wv('atrial_fibrillation', sample_size=sample_size, atype=1)\n",
    "embeddings['myocardial_ischemia'] = collect_wv('myocardial_ischemia', sample_size=sample_size, atype=1)"
   ]
  },
  {
   "cell_type": "code",
   "execution_count": null,
   "metadata": {},
   "outputs": [],
   "source": [
    "to_embed = ['cardiovascular_disease', 'rheumatoid_arthritis', 'atrial_fibrillation', 'myocardial_ischemia']\n",
    "\n",
    "embeddings['collected'] = collect_wv(to_embed[0], sample_size=sample_size, atype=1)\n",
    "for idx in range(1,len(to_embed)):\n",
    "    embeddings['collected'] = np.vstack([embeddings['collected'], \n",
    "                                         collect_wv(to_embed[idx], \n",
    "                                                    sample_size=sample_size, atype=1)])"
   ]
  },
  {
   "cell_type": "code",
   "execution_count": null,
   "metadata": {},
   "outputs": [],
   "source": [
    "reduced['collected'] = pd.DataFrame(data=reduce(embeddings['collected'], \n",
    "                                                             n_dims=dimensions)[0],\n",
    "                                                 columns=['dim_'+str(i) for i in range(0,dimensions)],\n",
    "                                                )\n",
    "reduced['collected']['keyword'] = 'unknown'"
   ]
  },
  {
   "cell_type": "code",
   "execution_count": null,
   "metadata": {},
   "outputs": [],
   "source": [
    "for k,v in enumerate(to_embed):\n",
    "    reduced['collected']['keyword'][k*sample_size:(k+1)*sample_size+1] = v"
   ]
  },
  {
   "cell_type": "code",
   "execution_count": null,
   "metadata": {},
   "outputs": [],
   "source": [
    "dimensions = 2\n",
    "reduced['cardiovascular_disease'] = pd.DataFrame(data=reduce(embeddings['cardiovascular_disease'], \n",
    "                                                             n_dims=dimensions)[0],\n",
    "                                                 columns=['dim_'+str(i) for i in range(0,dimensions)],\n",
    "                                                )\n",
    "\n",
    "reduced['rheumatoid_arthritis'] = pd.DataFrame(data=reduce(embeddings['rheumatoid_arthritis'], \n",
    "                                                             n_dims=dimensions)[0],\n",
    "                                                 columns=['dim_'+str(i) for i in range(0,dimensions)],\n",
    "                                                )\n",
    "\n",
    "reduced['atrial_fibrillation'] = pd.DataFrame(data=reduce(embeddings['atrial_fibrillation'], \n",
    "                                                             n_dims=dimensions)[0],\n",
    "                                                 columns=['dim_'+str(i) for i in range(0,dimensions)],\n",
    "                                                )\n",
    "\n",
    "reduced['myocardial_ischemia'] = pd.DataFrame(data=reduce(embeddings['myocardial_ischemia'], \n",
    "                                                             n_dims=dimensions)[0],\n",
    "                                                 columns=['dim_'+str(i) for i in range(0,dimensions)],\n",
    "                                                )"
   ]
  },
  {
   "cell_type": "code",
   "execution_count": null,
   "metadata": {},
   "outputs": [],
   "source": [
    "fig, ax = plt.subplots(figsize=(15,10))\n",
    "sns.scatterplot(data=reduced['cardiovascular_disease'].sample(1500), x='dim_0', y='dim_1', color='red', \n",
    "                alpha=0.45, label='CVD')\n",
    "sns.scatterplot(data=reduced['rheumatoid_arthritis'].sample(1500), x='dim_0', y='dim_1', color='green', \n",
    "                alpha=0.45, label='RA')\n",
    "sns.scatterplot(data=reduced['atrial_fibrillation'].sample(1500), x='dim_0', y='dim_1', color='blue', \n",
    "                alpha=0.45, label='AF')\n",
    "sns.scatterplot(data=reduced['myocardial_ischemia'].sample(1500), x='dim_0', y='dim_1', color='orange', \n",
    "                alpha=0.45, label='MI')\n",
    "plt.legend()"
   ]
  },
  {
   "cell_type": "code",
   "execution_count": null,
   "metadata": {},
   "outputs": [],
   "source": [
    "fig, ax = plt.subplots(figsize=(15,10))\n",
    "sns.scatterplot(data=reduced['collected'].sample(6000), x='dim_0', y='dim_1', hue='keyword', \n",
    "                alpha=0.5)\n",
    "plt.legend()"
   ]
  },
  {
   "cell_type": "code",
   "execution_count": null,
   "metadata": {},
   "outputs": [],
   "source": [
    "def find_similar_docs(data, doc_id=None, how='euclidean', n_select=10):\n",
    "    assert isinstance(doc_id, int), \"doc_is should be a positive integer\"\n",
    "    assert doc_id>=0, \"doc_is should be a positive integer\"\n",
    "    \n",
    "    dists = sc.spatial.distance.cdist(data[doc_id,:].reshape(1,-1), np.delete(data, doc_id, axis=0))\n",
    "    return np.argsort(dists)[0,:n_select]\n",
    "    "
   ]
  },
  {
   "cell_type": "code",
   "execution_count": null,
   "metadata": {},
   "outputs": [],
   "source": [
    "sim_docs = find_similar_docs(embeddings['collected'], doc_id=2, how='euclidean', n_select=5)\n",
    "print(sim_docs)"
   ]
  },
  {
   "cell_type": "code",
   "execution_count": null,
   "metadata": {},
   "outputs": [],
   "source": [
    "corpora_all = []\n",
    "# TODO: incorporate actual index coming from the sampling\n",
    "for k,v in corpora.items():\n",
    "    corpora_all += v"
   ]
  },
  {
   "cell_type": "code",
   "execution_count": null,
   "metadata": {},
   "outputs": [],
   "source": [
    "for sim_doc in sim_docs:\n",
    "    print(corpora_all[sim_doc])\n",
    "    print(\"+-\"*50)"
   ]
  }
 ],
 "metadata": {
  "kernelspec": {
   "display_name": "NLP",
   "language": "python",
   "name": "nlp"
  },
  "language_info": {
   "codemirror_mode": {
    "name": "ipython",
    "version": 3
   },
   "file_extension": ".py",
   "mimetype": "text/x-python",
   "name": "python",
   "nbconvert_exporter": "python",
   "pygments_lexer": "ipython3",
   "version": "3.8.5"
  }
 },
 "nbformat": 4,
 "nbformat_minor": 4
}

{
 "cells": [
  {
   "cell_type": "code",
   "id": "initial_id",
   "metadata": {
    "collapsed": true,
    "ExecuteTime": {
     "end_time": "2024-09-18T14:18:15.247029Z",
     "start_time": "2024-09-18T14:18:11.608390Z"
    }
   },
   "source": [
    "import os\n",
    "import gc\n",
    "import pandas as pd\n",
    "import polars as pl"
   ],
   "outputs": [],
   "execution_count": 1
  },
  {
   "metadata": {
    "ExecuteTime": {
     "end_time": "2024-09-18T14:19:55.811496Z",
     "start_time": "2024-09-18T14:19:55.803997Z"
    }
   },
   "cell_type": "code",
   "source": "loc = r'T://laupodteam/AIOS/SUPPORTING_DATA/OntologyEmbeddings/UMLS_BioLord_2023_16bit.parquet'",
   "id": "56b0ddfd6d6883d4",
   "outputs": [],
   "execution_count": 4
  },
  {
   "metadata": {
    "ExecuteTime": {
     "end_time": "2024-09-18T14:21:36.157991Z",
     "start_time": "2024-09-18T14:19:57.291486Z"
    }
   },
   "cell_type": "code",
   "source": "dcui2biolord = pl.read_parquet(loc, low_memory=True)",
   "id": "522618bdd478a16",
   "outputs": [],
   "execution_count": 5
  },
  {
   "metadata": {
    "ExecuteTime": {
     "end_time": "2024-09-19T12:57:02.019399Z",
     "start_time": "2024-09-19T12:57:01.464891Z"
    }
   },
   "cell_type": "code",
   "source": "cui2biolord.head()",
   "id": "ef31d69ff3cda4ac",
   "outputs": [
    {
     "ename": "NameError",
     "evalue": "name 'cui2biolord' is not defined",
     "output_type": "error",
     "traceback": [
      "\u001B[1;31m---------------------------------------------------------------------------\u001B[0m",
      "\u001B[1;31mNameError\u001B[0m                                 Traceback (most recent call last)",
      "Input \u001B[1;32mIn [1]\u001B[0m, in \u001B[0;36m<cell line: 1>\u001B[1;34m()\u001B[0m\n\u001B[1;32m----> 1\u001B[0m \u001B[43mcui2biolord\u001B[49m\u001B[38;5;241m.\u001B[39mhead()\n",
      "\u001B[1;31mNameError\u001B[0m: name 'cui2biolord' is not defined"
     ]
    }
   ],
   "execution_count": 1
  },
  {
   "metadata": {
    "ExecuteTime": {
     "end_time": "2024-09-18T14:25:56.841572Z",
     "start_time": "2024-09-18T14:25:56.772055Z"
    }
   },
   "cell_type": "code",
   "source": "cui2biolord.with_column('BioLord2002_767')",
   "id": "d460094d09082bfc",
   "outputs": [
    {
     "ename": "AttributeError",
     "evalue": "'str' object has no attribute '_s'",
     "output_type": "error",
     "traceback": [
      "\u001B[1;31m---------------------------------------------------------------------------\u001B[0m",
      "\u001B[1;31mAttributeError\u001B[0m                            Traceback (most recent call last)",
      "Input \u001B[1;32mIn [11]\u001B[0m, in \u001B[0;36m<cell line: 1>\u001B[1;34m()\u001B[0m\n\u001B[1;32m----> 1\u001B[0m \u001B[43mcui2biolord\u001B[49m\u001B[38;5;241;43m.\u001B[39;49m\u001B[43mwith_column\u001B[49m\u001B[43m(\u001B[49m\u001B[38;5;124;43m'\u001B[39;49m\u001B[38;5;124;43mBioLord2002_767\u001B[39;49m\u001B[38;5;124;43m'\u001B[39;49m\u001B[43m)\u001B[49m\n",
      "File \u001B[1;32mD:\\VENVS\\Envs\\nlp_310\\lib\\site-packages\\polars\\internals\\dataframe\\frame.py:3914\u001B[0m, in \u001B[0;36mDataFrame.with_column\u001B[1;34m(self, column)\u001B[0m\n\u001B[0;32m   3912\u001B[0m     \u001B[38;5;28;01mreturn\u001B[39;00m \u001B[38;5;28mself\u001B[39m\u001B[38;5;241m.\u001B[39mwith_columns([column])\n\u001B[0;32m   3913\u001B[0m \u001B[38;5;28;01melse\u001B[39;00m:\n\u001B[1;32m-> 3914\u001B[0m     \u001B[38;5;28;01mreturn\u001B[39;00m \u001B[38;5;28mself\u001B[39m\u001B[38;5;241m.\u001B[39m_from_pydf(\u001B[38;5;28mself\u001B[39m\u001B[38;5;241m.\u001B[39m_df\u001B[38;5;241m.\u001B[39mwith_column(\u001B[43mcolumn\u001B[49m\u001B[38;5;241;43m.\u001B[39;49m\u001B[43m_s\u001B[49m))\n",
      "\u001B[1;31mAttributeError\u001B[0m: 'str' object has no attribute '_s'"
     ]
    }
   ],
   "execution_count": 11
  },
  {
   "metadata": {},
   "cell_type": "code",
   "outputs": [],
   "execution_count": null,
   "source": "",
   "id": "9f823f504c6d217b"
  }
 ],
 "metadata": {
  "kernelspec": {
   "display_name": "Python 3",
   "language": "python",
   "name": "python3"
  },
  "language_info": {
   "codemirror_mode": {
    "name": "ipython",
    "version": 2
   },
   "file_extension": ".py",
   "mimetype": "text/x-python",
   "name": "python",
   "nbconvert_exporter": "python",
   "pygments_lexer": "ipython2",
   "version": "2.7.6"
  }
 },
 "nbformat": 4,
 "nbformat_minor": 5
}

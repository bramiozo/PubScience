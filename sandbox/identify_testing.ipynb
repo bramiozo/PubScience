{
 "cells": [
  {
   "metadata": {},
   "cell_type": "markdown",
   "source": [
    "# Identify medical corpora\n",
    "\n",
    "* SoNaR\n",
    "* OSCAR\n",
    "* COW14\n",
    "* TnwC\n",
    "* CC100\n",
    "* PleIAS\n",
    "* mC4\n",
    "* GigaCorpus\n",
    "* MADLAD-400\n",
    "* FineWeb\n",
    "* RedPajama v2"
   ],
   "id": "164f31acc715e4c"
  },
  {
   "metadata": {},
   "cell_type": "code",
   "outputs": [],
   "execution_count": null,
   "source": "",
   "id": "70c3b62159fddd9"
  }
 ],
 "metadata": {
  "kernelspec": {
   "display_name": "Python 3",
   "language": "python",
   "name": "python3"
  },
  "language_info": {
   "codemirror_mode": {
    "name": "ipython",
    "version": 2
   },
   "file_extension": ".py",
   "mimetype": "text/x-python",
   "name": "python",
   "nbconvert_exporter": "python",
   "pygments_lexer": "ipython2",
   "version": "2.7.6"
  }
 },
 "nbformat": 4,
 "nbformat_minor": 5
}

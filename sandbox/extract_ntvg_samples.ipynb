{
 "cells": [
  {
   "cell_type": "code",
   "execution_count": 81,
   "metadata": {},
   "outputs": [],
   "source": [
    "import os\n",
    "import pandas as pd\n",
    "import json\n",
    "\n",
    "os.chdir(r'T:\\laupodteam\\AIOS\\Bram\\language_modeling\\MEDICAL_TEXT\\RAW\\NtvG')"
   ]
  },
  {
   "cell_type": "code",
   "execution_count": 3,
   "metadata": {},
   "outputs": [],
   "source": [
    "nvtg = pd.read_feather(\"./ntvg_articles.feather\")"
   ]
  },
  {
   "cell_type": "code",
   "execution_count": 71,
   "metadata": {},
   "outputs": [],
   "source": [
    "# make function to pull out a list of dictionaries with the following keys:\n",
    "# - body_clean\n",
    "# - summary_clean\n",
    "# - category\n",
    "# - domain\n",
    "\n",
    "# parameters:\n",
    "# - stratified\n",
    "# - fraction\n",
    "# - random_state\n",
    "\n",
    "def pull_dictionaries(df: pd.DataFrame, \n",
    "                      stratified: bool,\n",
    "                      fraction: float, \n",
    "                      random_state: int, \n",
    "                      exclude_dict: dict=None):\n",
    "    \n",
    "    if isinstance(exclude_dict, dict):\n",
    "        for k,v in exclude_dict.items():\n",
    "            for _v in v:\n",
    "                df = df.loc[df[k]!=_v]\n",
    "    \n",
    "    if stratified:\n",
    "        # TODO: implement stratified sampling\n",
    "        df = df.sample(frac=fraction, random_state=random_state)\n",
    "    else:\n",
    "        df = df.sample(frac=fraction, random_state=random_state)\n",
    "    df = df.reset_index(drop=True)\n",
    "    dictionaries = []\n",
    "    for i in range(len(df)):\n",
    "        summaries = df.loc[i, \"summary_clean\"]\n",
    "        explanation = df.loc[i, \"explanation_clean\"]\n",
    "        information_framework = df.loc[i, \"information_framework_clean\"]\n",
    "        intro = df.loc[i, \"intro_clean\"]\n",
    "        \n",
    "        summary_string = \"\\r\\n\".join(summaries) if summaries is not None else None\n",
    "        explanation_string = \"\\r\\n\".join(explanation) if explanation is not None else None\n",
    "        information_framework_string = \"\\r\\n\".join(information_framework) if information_framework is not None else None\n",
    "        intro_string = \"\\r\\n\".join(intro) if intro is not None else None\n",
    "        \n",
    "        txts = \"\\r\\n\".join(df.loc[i, \"body_clean\"])\n",
    "        \n",
    "        id = df.loc[i, \"id\"]        \n",
    "        dictionary = {\n",
    "                    \"id\": id,\n",
    "                    \"body_clean\": txts,\n",
    "                    \"summary_clean\": summary_string,\n",
    "                    'explanation_clean': explanation_string,\n",
    "                    'information_framework_clean': information_framework_string,\n",
    "                    'intro_clean': intro_string,\n",
    "                    \"category\": df.loc[i, \"category\"],\n",
    "                    \"domain\": df.loc[i, \"domain\"]\n",
    "                }\n",
    "        dictionaries.append(dictionary)\n",
    "    return dictionaries"
   ]
  },
  {
   "cell_type": "code",
   "execution_count": 79,
   "metadata": {},
   "outputs": [],
   "source": [
    "dicts = pull_dictionaries(nvtg, stratified=True, fraction=0.05, random_state=42, exclude_dict={'category':['Redactioneel'], 'domain': []})"
   ]
  },
  {
   "cell_type": "code",
   "execution_count": 90,
   "metadata": {},
   "outputs": [],
   "source": [
    "pd.DataFrame(dicts).to_json('./samples.jsonl', orient='records', lines=True, force_ascii=False)"
   ]
  }
 ],
 "metadata": {
  "kernelspec": {
   "display_name": "nlp_310",
   "language": "python",
   "name": "python3"
  },
  "language_info": {
   "codemirror_mode": {
    "name": "ipython",
    "version": 3
   },
   "file_extension": ".py",
   "mimetype": "text/x-python",
   "name": "python",
   "nbconvert_exporter": "python",
   "pygments_lexer": "ipython3",
   "version": "3.10.5"
  }
 },
 "nbformat": 4,
 "nbformat_minor": 2
}

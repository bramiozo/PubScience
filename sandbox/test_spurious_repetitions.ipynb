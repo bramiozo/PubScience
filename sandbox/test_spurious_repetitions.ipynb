{
 "cells": [
  {
   "cell_type": "code",
   "execution_count": 52,
   "metadata": {},
   "outputs": [],
   "source": [
    "import math\n",
    "from collections import Counter\n",
    "import seaborn as sns\n",
    "from dotenv import load_dotenv\n",
    "import os\n",
    "import matplotlib.pyplot as plt\n",
    "\n",
    "from tokenizers import ByteLevelBPETokenizer"
   ]
  },
  {
   "cell_type": "code",
   "execution_count": 2,
   "metadata": {},
   "outputs": [
    {
     "data": {
      "text/plain": [
       "True"
      ]
     },
     "execution_count": 2,
     "metadata": {},
     "output_type": "execute_result"
    }
   ],
   "source": [
    "load_dotenv('../.env')"
   ]
  },
  {
   "cell_type": "code",
   "execution_count": 3,
   "metadata": {},
   "outputs": [],
   "source": [
    "tokenizer_path = os.getenv('TOKENIZER_PATH')"
   ]
  },
  {
   "cell_type": "code",
   "execution_count": 4,
   "metadata": {},
   "outputs": [
    {
     "data": {
      "text/plain": [
       "'L://lab_research/RES-Folder-UPOD/CarTeksten/G_Output/3_OtherOutput/Tokenizer/tokenizer/tokenizer_deid'"
      ]
     },
     "execution_count": 4,
     "metadata": {},
     "output_type": "execute_result"
    }
   ],
   "source": [
    "tokenizer_path"
   ]
  },
  {
   "cell_type": "code",
   "execution_count": null,
   "metadata": {},
   "outputs": [],
   "source": [
    "# Use pre-trained tokenizer to get token id's, use for entropy calculation\n",
    "tokenizer = ByteLevelBPETokenizer.from_file(merges_filename=os.path.join(tokenizer_path, \"merges.txt\"), \n",
    "                                            vocab_filename=os.path.join(tokenizer_path, \"vocab.json\"))"
   ]
  },
  {
   "cell_type": "code",
   "execution_count": 84,
   "metadata": {},
   "outputs": [],
   "source": [
    "def get_char_seq(txt):\n",
    "    \"\"\"\n",
    "    Convert the text string into a list (sequence) of character IDs.\n",
    "    Here we simply use the built-in `ord` to get the ASCII/Unicode code.\n",
    "    \"\"\"\n",
    "    return [ord(ch) for ch in txt]\n",
    "\n",
    "def get_tok_seq(txt):\n",
    "    \"\"\"\n",
    "    Convert the text string into a list (sequence) of token IDs.\n",
    "    Here we split the text by whitespace to get tokens.\n",
    "    \"\"\"\n",
    "    return tokenizer.encode(txt).ids\n",
    "\n",
    "def compute_entropy(counter):\n",
    "    \"\"\"\n",
    "    Given a frequency counter of items in a window, compute Shannon entropy.\n",
    "    \"\"\"\n",
    "    total = sum(counter.values())\n",
    "    if total == 0:\n",
    "        return 0.0\n",
    "    \n",
    "    entropy = 0.0\n",
    "    for count in counter.values():\n",
    "        p = count / total\n",
    "        entropy -= p * math.log2(p)\n",
    "    return entropy\n",
    "\n",
    "def get_char_entr(char_id_seq, window=5, stride=1):\n",
    "    \"\"\"\n",
    "    Compute local entropies over a sliding window, and record the spans (start, end).\n",
    "    Returns:\n",
    "        char_id_entr (list[float]): A list of entropy values for each window.\n",
    "        spans (list[tuple]): Corresponding (start, end) indices for each window.\n",
    "    \"\"\"\n",
    "    char_id_entr = []\n",
    "    spans = []\n",
    "    n = len(char_id_seq)\n",
    "    \n",
    "    for start in range(0, n - window + 1, stride):\n",
    "        end = start + window\n",
    "        # Count frequencies of each character ID in the window\n",
    "        window_ids = char_id_seq[start:end]\n",
    "        freq_counter = Counter(window_ids)\n",
    "        \n",
    "        e = compute_entropy(freq_counter)\n",
    "        char_id_entr.append(e)\n",
    "        spans.append((start, end))\n",
    "    \n",
    "    return char_id_entr, spans\n",
    "\n",
    "def get_cand_dupl(char_id_entr, spans, threshold=1.0):\n",
    "    \"\"\"\n",
    "    Identify spans of low entropy (potential spurious repetition).\n",
    "    \n",
    "    Args:\n",
    "        char_id_entr: A list of entropy values for each window.\n",
    "        spans: The corresponding spans (start, end) for each window.\n",
    "        threshold: Entropy threshold below which a span is considered \"repetitive\".\n",
    "    \n",
    "    Returns:\n",
    "        candidate_spans (list[tuple]): Spans that may be spurious duplicates.\n",
    "    \"\"\"\n",
    "    candidate_spans = []\n",
    "    entropy_list = []\n",
    "    for e, (start, end) in zip(char_id_entr, spans):\n",
    "        entropy_list.append(e)\n",
    "        if e < threshold:\n",
    "            candidate_spans.append((start, end))\n",
    "    return candidate_spans, entropy_list\n",
    "\n",
    "def recombine(spans, candidate_spans, text):\n",
    "    \"\"\"\n",
    "    Removes characters in all candidate_spans from the original text.\n",
    "    \n",
    "    Args:\n",
    "        spans (list[tuple]): Not strictly necessary if we already have candidate_spans,\n",
    "                             but sometimes you might use 'spans' to figure out something else.\n",
    "        candidate_spans (list[tuple]): The (start, end) index ranges to remove.\n",
    "        text (str): The original text string.\n",
    "\n",
    "    Returns:\n",
    "        new_text (str): Reconstructed text with spurious spans removed.\n",
    "    \"\"\"\n",
    "    to_remove = set()\n",
    "    for (start, end) in candidate_spans:\n",
    "        # Mark all indices in the range [start, end) for removal\n",
    "        to_remove.update(range(start, end))\n",
    "\n",
    "    # Build new text by skipping removed indices\n",
    "    new_chars = []\n",
    "    for i, ch in enumerate(text):\n",
    "        if i not in to_remove:\n",
    "            new_chars.append(ch)\n",
    "    \n",
    "    return \"\".join(new_chars)\n",
    "\n",
    "def spurious_repetitions(txt):\n",
    "    '''\n",
    "        Takes in text and removes spurious repetitions\n",
    "        txt: text to process\n",
    "    '''\n",
    "    # using regex is too expensive (search space very large)\n",
    "    # better to look at character entropy first.\n",
    "\n",
    "    char_id_seq = get_char_seq(txt)\n",
    "    char_id_entr, spans = get_char_entr(char_id_seq, window=5, stride=1)\n",
    "    get_candidate_spans, _ = get_cand_dupl(char_id_entr, spans, threshold=1)\n",
    "    txt = recombine(spans, get_candidate_spans, txt)\n",
    "\n",
    "    return txt"
   ]
  },
  {
   "cell_type": "code",
   "execution_count": 87,
   "metadata": {},
   "outputs": [
    {
     "name": "stdout",
     "output_type": "stream",
     "text": [
      "het mogelijk is de stopweek over te slaan en direct aaip, vaginale ring of pleister te starten (zie Details)\n",
      "gebruik van een tweedegeneratiepreparaat de voorkeur heeft (zie ook NHG-Standaard Anticonceptie)\n",
      "continu gebruik van deze vormen van anticonceptie veilig aaa aaa aaa aaa aaa aaa aaa aaa aaa is bevonden voor de periode van 1 jaar (langere termijn is niet onderzocht)\n",
      "er theoretisch geen redenen zijn om aan te nemen dat continu gebruik meer risico’s met zich meebrengt dan cyclisch gebruik\n",
      "bij continu gebruik van anticonceptie de kans op doorbraakbloedingen toeneemt met de duur van het gebruik; in dat geval wordt geadviseerd 4 tot 7 stopdagen in te lassen.\n"
     ]
    },
    {
     "data": {
      "text/plain": [
       "[<matplotlib.lines.Line2D at 0x20d07c91e80>]"
      ]
     },
     "execution_count": 87,
     "metadata": {},
     "output_type": "execute_result"
    },
    {
     "data": {
      "image/png": "[encoded data removed]",
      "text/plain": [
       "<Figure size 640x480 with 1 Axes>"
      ]
     },
     "metadata": {},
     "output_type": "display_data"
    }
   ],
   "source": [
    "example_text = \"\"\"het mogelijk is de stopweek over te slaan en direct aansluitend met een nieuwe pilstrip, vaginale ring of pleister te starten (zie Details)\n",
    "gebruik van een tweedegeneratiepreparaat de voorkeur heeft (zie ook NHG-Standaard Anticonceptie)\n",
    "continu gebruik van deze vormen van anticonceptie veilig aaa aaa aaa aaa aaa aaa aaa aaa aaa is bevonden voor de periode van 1 jaar (langere termijn is niet onderzocht)\n",
    "er theoretisch geen redenen zijn om aan te nemen dat continu gebruik meer risico’s met zich meebrengt dan cyclisch gebruik\n",
    "bij continu gebruik van anticonceptie de kans op doorbraakbloedingen toeneemt met de duur van het gebruik; in dat geval wordt geadviseerd 4 tot 7 stopdagen in te lassen.\"\"\"\n",
    "\n",
    "char_id_seq = get_tok_seq(example_text)\n",
    "char_id_entr, spans = get_char_entr(char_id_seq, window=20, stride=1)\n",
    "get_candidate_spans, entropy_list = get_cand_dupl(char_id_entr, spans, 3)\n",
    "txt = recombine(spans, get_candidate_spans, example_text)\n",
    "\n",
    "print(txt)\n",
    "\n",
    "plt.plot(entropy_list)\n"
   ]
  },
  {
   "cell_type": "code",
   "execution_count": 79,
   "metadata": {},
   "outputs": [
    {
     "data": {
      "text/plain": [
       "[0, 10, 20, 30, 40, 50, 60, 70, 80, 90]"
      ]
     },
     "execution_count": 79,
     "metadata": {},
     "output_type": "execute_result"
    }
   ],
   "source": [
    "list(range(0, 100,10))"
   ]
  },
  {
   "cell_type": "code",
   "execution_count": null,
   "metadata": {},
   "outputs": [],
   "source": []
  }
 ],
 "metadata": {
  "kernelspec": {
   "display_name": "pubscience-GFzZkKDp-py3.12",
   "language": "python",
   "name": "python3"
  },
  "language_info": {
   "codemirror_mode": {
    "name": "ipython",
    "version": 3
   },
   "file_extension": ".py",
   "mimetype": "text/x-python",
   "name": "python",
   "nbconvert_exporter": "python",
   "pygments_lexer": "ipython3",
   "version": "3.12.6"
  }
 },
 "nbformat": 4,
 "nbformat_minor": 2
}

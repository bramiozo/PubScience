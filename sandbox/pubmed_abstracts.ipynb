{
 "cells": [
  {
   "cell_type": "code",
   "execution_count": 1,
   "metadata": {},
   "outputs": [],
   "source": [
    "import pandas as pd"
   ]
  },
  {
   "cell_type": "code",
   "execution_count": 2,
   "metadata": {},
   "outputs": [],
   "source": [
    "pubmed_abstract = pd.read_parquet(r'L:\\lab_research\\RES-Folder-UPOD\\CarTeksten\\G_Output\\2_Data\\GENERIC\\PUBMED_ABSTRACTS.parquet')"
   ]
  },
  {
   "cell_type": "code",
   "execution_count": null,
   "metadata": {},
   "outputs": [],
   "source": [
    "pubmed_abstract.iloc[0:1_500_000].to_parquet(r'L:\\lab_research\\RES-Folder-UPOD\\CarTeksten\\G_Output\\2_Data\\GENERIC\\PUBMED_ABSTRACTS_0_1.5M.parquet')"
   ]
  },
  {
   "cell_type": "code",
   "execution_count": 9,
   "metadata": {},
   "outputs": [
    {
     "name": "stdout",
     "output_type": "stream",
     "text": [
      "1500000\n",
      "3000000\n",
      "4500000\n",
      "6000000\n",
      "7500000\n",
      "9000000\n",
      "10500000\n",
      "12000000\n",
      "13500000\n",
      "15000000\n"
     ]
    }
   ],
   "source": [
    "stepsize =1_500_000\n",
    "for k in range(stepsize, pubmed_abstract.shape[0], stepsize):\n",
    "    print(k)\n",
    "    pubmed_abstract.iloc[k-stepsize:k].to_parquet(f'L://lab_research/RES-Folder-UPOD/CarTeksten/G_Output/2_Data/GENERIC/PUBMED_ABSTRACTS_{k}.parquet')"
   ]
  },
  {
   "cell_type": "code",
   "execution_count": 10,
   "metadata": {},
   "outputs": [],
   "source": [
    "pubmed_abstract.iloc[k:pubmed_abstract.shape[0]].to_parquet(f'L://lab_research/RES-Folder-UPOD/CarTeksten/G_Output/2_Data/GENERIC/PUBMED_ABSTRACTS_{pubmed_abstract.shape[0]}.parquet')"
   ]
  }
 ],
 "metadata": {
  "kernelspec": {
   "display_name": "pubscience-GFzZkKDp-py3.12",
   "language": "python",
   "name": "python3"
  },
  "language_info": {
   "codemirror_mode": {
    "name": "ipython",
    "version": 3
   },
   "file_extension": ".py",
   "mimetype": "text/x-python",
   "name": "python",
   "nbconvert_exporter": "python",
   "pygments_lexer": "ipython3",
   "version": "3.12.6"
  }
 },
 "nbformat": 4,
 "nbformat_minor": 2
}

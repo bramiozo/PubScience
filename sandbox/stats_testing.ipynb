{
 "cells": [
  {
   "cell_type": "markdown",
   "id": "c6eded6174482e23",
   "metadata": {},
   "source": [
    "We extract stats for the following corpora\n",
    "\n",
    "# EHRs\n",
    "**Cardiology**\n",
    "* [x] CarTeksten\n",
    "* [x] SCAD\n",
    "* [x] DataTools4Heart\n",
    "* [x] DIGIN\n",
    "* [x] PobTriage\n",
    "* ARGUS\n",
    "* [x] CCN\n",
    "* [x] HMC\n",
    "\n",
    "**IBD**\n",
    "* MDL_hackathon $\\rightarrow$ prefix with 'IBD_'\n",
    "\n",
    "**Kidney**\n",
    "* [x] ODIN  $\\rightarrow$ prefix with 'NEFRO_'\n",
    "\n",
    "**RA**\n",
    "* D2TRA hackathon  $\\rightarrow$ prefix with 'RA_'\n",
    "* STRATAFIT $\\rightarrow$ prefix with 'RA_'\n",
    "\n",
    "# Other\n",
    "\n",
    "* NtvG  $\\rightarrow$ prefix with 'GEN_'\n",
    "* HenW $\\rightarrow$ prefix with 'GEN_'\n",
    "* NHG $\\rightarrow$ prefix with 'GEN_'\n",
    "* Pubmed-abstract translation  $\\rightarrow$ prefix with 'GEN_'\n",
    "\n",
    "Translations\n",
    "* MIMIC III/IV \n",
    "* eICU\n",
    "* Apollo corpus\n",
    "* Meditron guidelines"
   ]
  },
  {
   "cell_type": "code",
   "execution_count": 87,
   "id": "1c7ae42ddbd9a35c",
   "metadata": {
    "ExecuteTime": {
     "end_time": "2024-09-02T11:57:09.253569Z",
     "start_time": "2024-09-02T11:57:07.594057Z"
    }
   },
   "outputs": [
    {
     "name": "stdout",
     "output_type": "stream",
     "text": [
      "The autoreload extension is already loaded. To reload it, use:\n",
      "  %reload_ext autoreload\n"
     ]
    }
   ],
   "source": [
    "%load_ext autoreload\n",
    "%autoreload 2\n",
    "\n",
    "import numpy as np\n",
    "import re\n",
    "import gc\n",
    "import os\n",
    "import pandas as pd\n",
    "import numpy as np"
   ]
  },
  {
   "cell_type": "code",
   "execution_count": 89,
   "id": "414a9e45",
   "metadata": {},
   "outputs": [],
   "source": [
    "def striprtf(text, simple=True):\n",
    "   if simple:\n",
    "    remove_re = re.compile(r'\\{\\*?\\\\[^{}]+}|[{}]|\\\\\\n?[A-Za-z]+\\n?(?:-?\\d+)?[ ]?')\n",
    "    return remove_re.sub('', text)\n",
    "   else:\n",
    "    pattern = re.compile(r\"\\\\([a-z]{1,32})(-?\\d{1,10})?[ ]?|\\\\'([0-9a-f]{2})|\\\\([^a-z])|([{}])|[\\r\\n]+|(.)\", re.I)\n",
    "    # control words which specify a \"destionation\".\n",
    "    destinations = frozenset((\n",
    "        'aftncn','aftnsep','aftnsepc','annotation','atnauthor','atndate','atnicn','atnid',\n",
    "        'atnparent','atnref','atntime','atrfend','atrfstart','author','background',\n",
    "        'bkmkend','bkmkstart','blipuid','buptim','category','colorschememapping',\n",
    "        'colortbl','comment','company','creatim','datafield','datastore','defchp','defpap',\n",
    "        'do','doccomm','docvar','dptxbxtext','ebcend','ebcstart','factoidname','falt',\n",
    "        'fchars','ffdeftext','ffentrymcr','ffexitmcr','ffformat','ffhelptext','ffl',\n",
    "        'ffname','ffstattext','field','file','filetbl','fldinst','fldrslt','fldtype',\n",
    "        'fname','fontemb','fontfile','fonttbl','footer','footerf','footerl','footerr',\n",
    "        'footnote','formfield','ftncn','ftnsep','ftnsepc','g','generator','gridtbl',\n",
    "        'header','headerf','headerl','headerr','hl','hlfr','hlinkbase','hlloc','hlsrc',\n",
    "        'hsv','htmltag','info','keycode','keywords','latentstyles','lchars','levelnumbers',\n",
    "        'leveltext','lfolevel','linkval','list','listlevel','listname','listoverride',\n",
    "        'listoverridetable','listpicture','liststylename','listtable','listtext',\n",
    "        'lsdlockedexcept','macc','maccPr','mailmerge','maln','malnScr','manager','margPr',\n",
    "        'mbar','mbarPr','mbaseJc','mbegChr','mborderBox','mborderBoxPr','mbox','mboxPr',\n",
    "        'mchr','mcount','mctrlPr','md','mdeg','mdegHide','mden','mdiff','mdPr','me',\n",
    "        'mendChr','meqArr','meqArrPr','mf','mfName','mfPr','mfunc','mfuncPr','mgroupChr',\n",
    "        'mgroupChrPr','mgrow','mhideBot','mhideLeft','mhideRight','mhideTop','mhtmltag',\n",
    "        'mlim','mlimloc','mlimlow','mlimlowPr','mlimupp','mlimuppPr','mm','mmaddfieldname',\n",
    "        'mmath','mmathPict','mmathPr','mmaxdist','mmc','mmcJc','mmconnectstr',\n",
    "        'mmconnectstrdata','mmcPr','mmcs','mmdatasource','mmheadersource','mmmailsubject',\n",
    "        'mmodso','mmodsofilter','mmodsofldmpdata','mmodsomappedname','mmodsoname',\n",
    "        'mmodsorecipdata','mmodsosort','mmodsosrc','mmodsotable','mmodsoudl',\n",
    "        'mmodsoudldata','mmodsouniquetag','mmPr','mmquery','mmr','mnary','mnaryPr',\n",
    "        'mnoBreak','mnum','mobjDist','moMath','moMathPara','moMathParaPr','mopEmu',\n",
    "        'mphant','mphantPr','mplcHide','mpos','mr','mrad','mradPr','mrPr','msepChr',\n",
    "        'mshow','mshp','msPre','msPrePr','msSub','msSubPr','msSubSup','msSubSupPr','msSup',\n",
    "        'msSupPr','mstrikeBLTR','mstrikeH','mstrikeTLBR','mstrikeV','msub','msubHide',\n",
    "        'msup','msupHide','mtransp','mtype','mvertJc','mvfmf','mvfml','mvtof','mvtol',\n",
    "        'mzeroAsc','mzeroDesc','mzeroWid','nesttableprops','nextfile','nonesttables',\n",
    "        'objalias','objclass','objdata','object','objname','objsect','objtime','oldcprops',\n",
    "        'oldpprops','oldsprops','oldtprops','oleclsid','operator','panose','password',\n",
    "        'passwordhash','pgp','pgptbl','picprop','pict','pn','pnseclvl','pntext','pntxta',\n",
    "        'pntxtb','printim','private','propname','protend','protstart','protusertbl','pxe',\n",
    "        'result','revtbl','revtim','rsidtbl','rxe','shp','shpgrp','shpinst',\n",
    "        'shppict','shprslt','shptxt','sn','sp','staticval','stylesheet','subject','sv',\n",
    "        'svb','tc','template','themedata','title','txe','ud','upr','userprops',\n",
    "        'wgrffmtfilter','windowcaption','writereservation','writereservhash','xe','xform',\n",
    "        'xmlattrname','xmlattrvalue','xmlclose','xmlname','xmlnstbl',\n",
    "        'xmlopen',\n",
    "    ))\n",
    "    # Translation of some special characters.\n",
    "    specialchars = {\n",
    "        'par': '\\n',\n",
    "        'sect': '\\n\\n',\n",
    "        'page': '\\n\\n',\n",
    "        'line': '\\n',\n",
    "        'tab': '\\t',\n",
    "        'emdash': u'\\u2014',\n",
    "        'endash': u'\\u2013',\n",
    "        'emspace': u'\\u2003',\n",
    "        'enspace': u'\\u2002',\n",
    "        'qmspace': u'\\u2005',\n",
    "        'bullet': u'\\u2022',\n",
    "        'lquote': u'\\u2018',\n",
    "        'rquote': u'\\u2019',\n",
    "        'ldblquote': u'\\201C',\n",
    "        'rdblquote': u'\\u201D', \n",
    "    }\n",
    "    stack = []\n",
    "    ignorable = False       # Whether this group (and all inside it) are \"ignorable\".\n",
    "    ucskip = 1              # Number of ASCII characters to skip after a unicode character.\n",
    "    curskip = 0             # Number of ASCII characters left to skip\n",
    "    out = []                # Output buffer.\n",
    "    for match in pattern.finditer(text):\n",
    "        word,arg,hex,char,brace,tchar = match.groups()\n",
    "        if brace:\n",
    "            curskip = 0\n",
    "            if brace == '{':\n",
    "                # Push state\n",
    "                stack.append((ucskip,ignorable))\n",
    "            elif brace == '}':\n",
    "                # Pop state\n",
    "                ucskip,ignorable = stack.pop()\n",
    "        elif char: # \\x (not a letter)\n",
    "            curskip = 0\n",
    "            if char == '~':\n",
    "                if not ignorable:\n",
    "                    out.append(u'\\xA0')\n",
    "            elif char in '{}\\\\':\n",
    "                if not ignorable:\n",
    "                    out.append(char)\n",
    "            elif char == '*':\n",
    "                ignorable = True\n",
    "        elif word: # \\foo\n",
    "            curskip = 0\n",
    "            if word in destinations:\n",
    "                ignorable = True\n",
    "            elif ignorable:\n",
    "                pass\n",
    "            elif word in specialchars:\n",
    "                out.append(specialchars[word])\n",
    "            elif word == 'uc':\n",
    "                ucskip = int(arg)\n",
    "            elif word == 'u':\n",
    "                c = int(arg)\n",
    "                if c < 0: c += 0x10000\n",
    "                if c > 127: out.append(unichr(c))\n",
    "                else: out.append(chr(c))\n",
    "                curskip = ucskip\n",
    "        elif hex: # \\'xx\n",
    "            if curskip > 0:\n",
    "                curskip -= 1\n",
    "            elif not ignorable:\n",
    "                c = int(hex,16)\n",
    "                if c > 127: out.append(unichr(c))\n",
    "                else: out.append(chr(c))\n",
    "        elif tchar:\n",
    "            if curskip > 0:\n",
    "                curskip -= 1\n",
    "            elif not ignorable:\n",
    "                out.append(tchar)\n",
    "    return ''.join(out)"
   ]
  },
  {
   "cell_type": "code",
   "execution_count": 3,
   "id": "af5002e8be213480",
   "metadata": {
    "ExecuteTime": {
     "end_time": "2024-09-02T11:57:09.424071Z",
     "start_time": "2024-09-02T11:57:09.257570Z"
    }
   },
   "outputs": [],
   "source": [
    "re_split = re.compile(r\"\\W\")\n",
    "splitter = lambda x: re_split.split(x)"
   ]
  },
  {
   "cell_type": "code",
   "execution_count": 4,
   "id": "44c8f3536d798647",
   "metadata": {
    "ExecuteTime": {
     "end_time": "2024-09-02T11:57:09.579071Z",
     "start_time": "2024-09-02T11:57:09.427071Z"
    }
   },
   "outputs": [],
   "source": [
    "output_folder = r'L:\\lab_research\\RES-Folder-UPOD\\CarTeksten\\G_Output\\2_Data'"
   ]
  },
  {
   "cell_type": "markdown",
   "id": "7085e1a819968f90",
   "metadata": {},
   "source": [
    "# [x] SCAD\n",
    "\n",
    "4Million tokens"
   ]
  },
  {
   "cell_type": "code",
   "execution_count": null,
   "id": "8517b0c850e85d56",
   "metadata": {},
   "outputs": [],
   "source": [
    "folder = r'T:\\lab_research\\RES-Folder-UPOD\\SCAD\\E_ResearchData\\2_ResearchData\\20240312'\n",
    "SCAD = pd.read_sas(folder+\"/carokverslag_20240312.sas7bdat\")"
   ]
  },
  {
   "cell_type": "code",
   "execution_count": null,
   "id": "5ff65621b7e51dc7",
   "metadata": {},
   "outputs": [],
   "source": [
    "SCAD['QRI_Stelling'] = SCAD['QRI_Stelling'].str.decode(encoding='latin1')\n",
    "SCAD['QRI_ValueAnswerTxt'] = SCAD['QRI_ValueAnswerTxt'].str.decode(encoding='latin1')\n",
    "SCAD = SCAD.loc[SCAD.QRI_ValueAnswerTxt.notna()]\n",
    "SCAD['Age'] = SCAD['Age'].astype(str)\n",
    "SCAD['gender'] = SCAD['gender'].str.decode(encoding='latin1')\n",
    "SCAD['gender'] = SCAD['gender'].map({'male': 'man', 'female': 'vrouw'})\n",
    "SCAD['gender'] = \"Geslacht:\"+ SCAD['gender']"
   ]
  },
  {
   "cell_type": "code",
   "execution_count": null,
   "id": "251269aec46e9872",
   "metadata": {},
   "outputs": [],
   "source": [
    "SCAD_TEXT = (SCAD.loc[SCAD['QRI_ValueAnswerTxt'].notna(), ['QRI_Stelling', 'QRI_ValueAnswerTxt', 'gender']]\\\n",
    "                .apply(lambda x: x[0]+\":\"+x[1]+\", \"+x[2], axis=1).to_frame().rename(columns={0:'text'}))"
   ]
  },
  {
   "cell_type": "code",
   "execution_count": null,
   "id": "c6c0c2c3624b5f9e",
   "metadata": {},
   "outputs": [],
   "source": [
    "NEW_SCAD = SCAD[['studyId_0818', 'index1_date']].join(SCAD_TEXT, how='inner')"
   ]
  },
  {
   "cell_type": "code",
   "execution_count": null,
   "id": "d9e302e071c2e506",
   "metadata": {},
   "outputs": [],
   "source": [
    "TEXT_GROUPED = NEW_SCAD.groupby(['studyId_0818', 'index1_date']).text.apply(lambda x: '\\n'.join(x)).reset_index()"
   ]
  },
  {
   "cell_type": "markdown",
   "id": "38caf350a6c1cc5",
   "metadata": {},
   "source": []
  },
  {
   "cell_type": "code",
   "execution_count": null,
   "id": "3b1776b278b35a7d",
   "metadata": {},
   "outputs": [],
   "source": [
    "TEXT_GROUPED['text_words'] = TEXT_GROUPED['text'].apply(splitter)\n",
    "TEXT_GROUPED['text_len'] = TEXT_GROUPED['text_words'].apply(len)"
   ]
  },
  {
   "cell_type": "code",
   "execution_count": null,
   "id": "a4589585c0c157fe",
   "metadata": {},
   "outputs": [],
   "source": [
    "TEXT_GROUPED['text_len'].hist(bins=30)"
   ]
  },
  {
   "cell_type": "code",
   "execution_count": null,
   "id": "224e206f212358ae",
   "metadata": {},
   "outputs": [],
   "source": [
    "print(f\"Number of words: {TEXT_GROUPED.text_len.sum()}\")"
   ]
  },
  {
   "cell_type": "code",
   "execution_count": null,
   "id": "53c453593f37cb5",
   "metadata": {},
   "outputs": [],
   "source": [
    "unique_words = set()\n",
    "for l in TEXT_GROUPED['text_words'].values:\n",
    "    for w in l:\n",
    "        unique_words.add(w)"
   ]
  },
  {
   "cell_type": "code",
   "execution_count": null,
   "id": "54546871931a6779",
   "metadata": {},
   "outputs": [],
   "source": [
    "print(f\"Number of unique words: {len(unique_words)}\")"
   ]
  },
  {
   "cell_type": "code",
   "execution_count": null,
   "id": "9ec36eeda1428ec6",
   "metadata": {},
   "outputs": [],
   "source": [
    "TEXT_GROUPED[['index1_date', 'text']].to_parquet(output_folder+'\\SCAD.parquet')"
   ]
  },
  {
   "cell_type": "code",
   "execution_count": null,
   "id": "326da18c1f71bc59",
   "metadata": {},
   "outputs": [],
   "source": [
    "del SCAD, SCAD_TEXT, TEXT_GROUPED"
   ]
  },
  {
   "cell_type": "code",
   "execution_count": null,
   "id": "7c3c8c9e3d8ff7c7",
   "metadata": {},
   "outputs": [],
   "source": [
    "gc.collect()"
   ]
  },
  {
   "cell_type": "markdown",
   "id": "e507081be09f9f77",
   "metadata": {},
   "source": [
    "# [x] CarTeksten\n",
    "\n",
    "400Million tokens"
   ]
  },
  {
   "cell_type": "code",
   "execution_count": 11,
   "id": "2913609c1b270d0e",
   "metadata": {
    "ExecuteTime": {
     "end_time": "2024-08-23T11:30:44.649879Z",
     "start_time": "2024-08-23T11:30:26.017184Z"
    }
   },
   "outputs": [],
   "source": [
    "folder = r'L:\\lab_research\\RES-Folder-UPOD\\CarTeksten\\E_ResearchData\\2_ResearchData\\20240321'\n",
    "CarTeksten = pd.read_parquet(folder+\"/vrglijsten_20240321.parquet\")"
   ]
  },
  {
   "cell_type": "code",
   "execution_count": null,
   "id": "408c446d502bfb11",
   "metadata": {},
   "outputs": [],
   "source": [
    "CarTeksten = CarTeksten[CarTeksten['QRI_ValueAnswerTxt'].apply(lambda x: x is not None)]"
   ]
  },
  {
   "cell_type": "code",
   "execution_count": null,
   "id": "7cd0ce30dc2ab815",
   "metadata": {},
   "outputs": [],
   "source": [
    "CarTeksten = CarTeksten.assign(TEXT= CarTeksten[['QRE_description', 'QRE_category_display', 'QRE_name', 'QRI_Stelling','QRI_ValueAnswerTxt']].apply(lambda x: \n",
    "                                                                                                                f'Omschrijving:{x['QRE_description']}'+\\\n",
    "                                                                                                                f', Categorie:{x['QRE_category_display']}'+\\\n",
    "                                                                                                                f', Thema:{x['QRE_name']}'+\\\n",
    "                                                                                                                f', Stelling:{x['QRI_Stelling']}'+\\\n",
    "                                                                                                                f', Antwoord:{x['QRI_ValueAnswerTxt']}'\n",
    "                                                                                                               , axis=1))"
   ]
  },
  {
   "cell_type": "code",
   "execution_count": null,
   "id": "1254eba30d3d7ee3",
   "metadata": {},
   "outputs": [],
   "source": [
    "CarTeksten['text_words'] = CarTeksten['TEXT'].apply(splitter)\n",
    "CarTeksten['text_len'] = CarTeksten['text_words'].apply(len)"
   ]
  },
  {
   "cell_type": "code",
   "execution_count": null,
   "id": "237822e5e809cb06",
   "metadata": {},
   "outputs": [],
   "source": [
    "print(f\"Number of words: {CarTeksten.text_len.sum()}\")\n",
    "\n",
    "unique_words = set()\n",
    "for l in CarTeksten['text_words'].values:\n",
    "    for w in l:\n",
    "        unique_words.add(w)\n",
    "        \n",
    "print(f\"Number of unique words: {len(unique_words)}\")"
   ]
  },
  {
   "cell_type": "code",
   "execution_count": null,
   "id": "4142d4111ea486df",
   "metadata": {},
   "outputs": [],
   "source": [
    "CarTeksten['text_len'].hist(bins=30)\n"
   ]
  },
  {
   "cell_type": "code",
   "execution_count": null,
   "id": "2adb2b172d8fca91",
   "metadata": {},
   "outputs": [],
   "source": [
    "CarTeksten[['QRR_created', 'TEXT']].to_parquet(output_folder+'/CARQ.parquet')"
   ]
  },
  {
   "cell_type": "code",
   "execution_count": null,
   "id": "8c9a828d380e03eb",
   "metadata": {},
   "outputs": [],
   "source": [
    "del CarTeksten\n",
    "gc.collect()"
   ]
  },
  {
   "cell_type": "markdown",
   "id": "eda9501d56b80783",
   "metadata": {},
   "source": [
    "# [x] DIGIN\n",
    "\n",
    "145Million tokens"
   ]
  },
  {
   "cell_type": "code",
   "execution_count": 14,
   "id": "a40268a411e2c2c9",
   "metadata": {
    "ExecuteTime": {
     "end_time": "2024-08-23T11:32:31.555071Z",
     "start_time": "2024-08-23T11:31:22.838347Z"
    }
   },
   "outputs": [],
   "source": [
    "DIGIN_ECHO = pd.read_sas(r'L:\\lab_research\\RES-Folder-UPOD\\DIGIN\\E_ResearchData\\2_ResearchData\\pat_echo_brief_20231018.sas7bdat')"
   ]
  },
  {
   "cell_type": "code",
   "execution_count": null,
   "id": "99b1fff1d90846d7",
   "metadata": {},
   "outputs": [],
   "source": [
    "DIGIN_ECHO['DOCOMSCHR'] = DIGIN_ECHO['DOCOMSCHR'].str.decode('latin1')\n",
    "DIGIN_ECHO['Brief_txt'] = DIGIN_ECHO['Brief_txt'].str.decode('latin1')\n",
    "DIGIN_ECHO['Conclusions_ECHO'] = DIGIN_ECHO['Conclusions_ECHO'].str.decode('latin1')\n",
    "DIGIN_ECHO['gender'] = DIGIN_ECHO['gender'].str.decode('latin1')"
   ]
  },
  {
   "cell_type": "code",
   "execution_count": null,
   "id": "d4823426f59ac72f",
   "metadata": {},
   "outputs": [],
   "source": [
    "DIGIN_ECHO = DIGIN_ECHO.assign(TEXT = DIGIN_ECHO[['DOCOMSCHR', 'Brief_txt', 'Conclusions_ECHO', 'gender', 'age']].apply(lambda x:\n",
    "                                                        f\"Document type:{x['DOCOMSCHR']}\\n\"+\\\n",
    "                                                        f\"Brief:{x['Brief_txt']}\\n\"+\\\n",
    "                                                        f\"Echo:{x['Conclusions_ECHO']}\\n\"+\\\n",
    "                                                        f\"Geslacht:{x['gender']}, Leeftijd:{str(x['age'])}\", axis=1))"
   ]
  },
  {
   "cell_type": "code",
   "execution_count": null,
   "id": "c8c77abf888c4f3",
   "metadata": {},
   "outputs": [],
   "source": [
    "DIGIN_ECHO.head()"
   ]
  },
  {
   "cell_type": "code",
   "execution_count": null,
   "id": "9b96f5ab3a0f32ea",
   "metadata": {},
   "outputs": [],
   "source": [
    "DIGIN_ECHO['text_words'] = DIGIN_ECHO['TEXT'].apply(splitter)\n",
    "DIGIN_ECHO['text_len'] = DIGIN_ECHO['text_words'].apply(len)"
   ]
  },
  {
   "cell_type": "code",
   "execution_count": null,
   "id": "55fd27f2ccb437d3",
   "metadata": {},
   "outputs": [],
   "source": [
    "print(f\"Number of words: {DIGIN_ECHO.text_len.sum()}\")\n",
    "unique_words = set()\n",
    "for l in DIGIN_ECHO['text_words'].values:\n",
    "    for w in l:\n",
    "        unique_words.add(w)\n",
    "print(f\"Number of unique words: {len(unique_words)}\")"
   ]
  },
  {
   "cell_type": "code",
   "execution_count": null,
   "id": "20173acda71dc5b6",
   "metadata": {},
   "outputs": [],
   "source": [
    "DIGIN_ECHO[['create_dt', 'TEXT']].to_parquet(output_folder+\"/DIGIN_echo.parquet\")\n",
    "del DIGIN_ECHO\n",
    "gc.collect()"
   ]
  },
  {
   "cell_type": "code",
   "execution_count": null,
   "id": "5791b470d2cda758",
   "metadata": {},
   "outputs": [],
   "source": [
    "DIGIN_POLI = pd.read_sas(r'L:\\lab_research\\RES-Folder-UPOD\\DIGIN\\E_ResearchData\\2_ResearchData\\pat_poli_brief_20231018.sas7bdat')"
   ]
  },
  {
   "cell_type": "code",
   "execution_count": null,
   "id": "529685037c2d95db",
   "metadata": {},
   "outputs": [],
   "source": [
    "# poli_date, age, gender\n",
    "DIGIN_POLI = DIGIN_POLI.assign(DOCOMSCHR=DIGIN_POLI.DOCOMSCHR.str.decode('latin1'))\n",
    "DIGIN_POLI = DIGIN_POLI.assign(SPECIALISM=DIGIN_POLI.SPECIALISM.str.decode('latin1'))\n",
    "DIGIN_POLI = DIGIN_POLI.assign(Brief_txt=DIGIN_POLI.Brief_txt.str.decode('latin1'))\n",
    "DIGIN_POLI = DIGIN_POLI.assign(OMSCHR_AGENDA=DIGIN_POLI.OMSCHR_AGENDA.str.decode('latin1'))\n",
    "DIGIN_POLI = DIGIN_POLI.assign(NAAM_AGENDA=DIGIN_POLI.NAAM_AGENDA.str.decode('latin1'))\n",
    "DIGIN_POLI = DIGIN_POLI.assign(gender=DIGIN_POLI.gender.str.decode('latin1'))\n",
    "DIGIN_POLI = DIGIN_POLI.assign(OMSCHR_Afspraak=DIGIN_POLI.OMSCHR_Afspraak.str.decode('latin1'))"
   ]
  },
  {
   "cell_type": "code",
   "execution_count": null,
   "id": "5aea9eadf6d72cfe",
   "metadata": {},
   "outputs": [],
   "source": [
    "DIGIN_POLI = DIGIN_POLI.assign(TEXT=DIGIN_POLI[['DOCOMSCHR', 'SPECIALISM', 'NAAM_AGENDA', 'OMSCHR_Afspraak', 'gender', 'age', 'Brief_txt']].apply(lambda x:\n",
    "                                            f\"Document: {x['DOCOMSCHR']}\\n\"\\\n",
    "                                            f\"Specialisme: {x['SPECIALISM']}\\n\"\\\n",
    "                                            f\"Specialisme: {x['NAAM_AGENDA']}\\n\"\\\n",
    "                                            f\"Afspraak: {x['OMSCHR_Afspraak']}\\n\"\\\n",
    "                                            f\"Geslacht: {x['gender']}, Leeftijd: {str(x['age'])}\\n\"\\\n",
    "                                            f\"Brief: {x['Brief_txt']}\" ,axis=1))"
   ]
  },
  {
   "cell_type": "code",
   "execution_count": null,
   "id": "f93c8e4428d481e1",
   "metadata": {},
   "outputs": [],
   "source": [
    "DIGIN_POLI['text_words'] = DIGIN_POLI['TEXT'].apply(splitter)\n",
    "DIGIN_POLI['text_len'] = DIGIN_POLI['text_words'].apply(len)"
   ]
  },
  {
   "cell_type": "code",
   "execution_count": null,
   "id": "e3e5dd575050c7ab",
   "metadata": {},
   "outputs": [],
   "source": [
    "print(f\"Number of words: {DIGIN_POLI.text_len.sum()}\")\n",
    "unique_words = set()\n",
    "for l in DIGIN_POLI['text_words'].values:\n",
    "    for w in l:\n",
    "        unique_words.add(w)\n",
    "print(f\"Number of unique words: {len(unique_words)}\")"
   ]
  },
  {
   "cell_type": "code",
   "execution_count": null,
   "id": "c98c81b63f4e4aa",
   "metadata": {},
   "outputs": [],
   "source": [
    "DIGIN_POLI[['poli_date', 'TEXT']].to_parquet(output_folder+\"/DIGIN_POLI.parquet\")\n",
    "del DIGIN_POLI\n",
    "gc.collect()"
   ]
  },
  {
   "cell_type": "markdown",
   "id": "d0cee777a78eba9",
   "metadata": {},
   "source": [
    " # [x] DataTools4Heart\n",
    " 150.000 tokens"
   ]
  },
  {
   "cell_type": "code",
   "execution_count": null,
   "id": "14c3fd83022bd5e6",
   "metadata": {},
   "outputs": [],
   "source": [
    "folder = r'T:\\lab_research\\RES-Folder-UPOD\\DataTools4Heart\\E_ResearchData\\2_ResearchData\\20240709'\n",
    "echo_conc = pd.read_sas(folder+\"/echo_concl_20240709.sas7bdat\")\n",
    "\n",
    "folder = r'T:\\lab_research\\RES-Folder-UPOD\\DataTools4Heart\\E_ResearchData\\2_ResearchData\\20240715'\n",
    "echo = pd.read_sas(folder+\"/echo_20240715.sas7bdat\")\n",
    "\n",
    "#ecg = pd.read_sas(folder+'/ecg_20240610.sas7bdat')\n",
    "#vital = pd.read_sas(folder+'/vitalsign_20240610.sas7bdat')"
   ]
  },
  {
   "cell_type": "code",
   "execution_count": null,
   "id": "968230c68657ad5b",
   "metadata": {},
   "outputs": [],
   "source": [
    "echo.groupby(['studyId_0763', 'identifier_value']).size().hist(bins=20)"
   ]
  },
  {
   "cell_type": "code",
   "execution_count": null,
   "id": "a3b323a4f5952bb7",
   "metadata": {},
   "outputs": [],
   "source": [
    "echo_conc = echo_conc.assign(datum=echo_conc.effectiveDateTime.dt.date)\n",
    "echo_conc = echo_conc.assign(conclusion=echo_conc.conclusion.str.decode('latin1'))"
   ]
  },
  {
   "cell_type": "code",
   "execution_count": null,
   "id": "f861e6f9137ec4be",
   "metadata": {},
   "outputs": [],
   "source": [
    "echo_conc['text_words'] = echo_conc['conclusion'].apply(splitter)\n",
    "echo_conc['text_len'] = echo_conc['text_words'].apply(len)"
   ]
  },
  {
   "cell_type": "code",
   "execution_count": null,
   "id": "9a84cbeb615c5a15",
   "metadata": {},
   "outputs": [],
   "source": [
    "echo_conc.text_len.sum()"
   ]
  },
  {
   "cell_type": "code",
   "execution_count": null,
   "id": "39dc9081cedab17",
   "metadata": {},
   "outputs": [],
   "source": [
    "echo_conc[['datum', 'conclusion']].to_parquet(output_folder+\"/dt4h_echo.parquet\")"
   ]
  },
  {
   "cell_type": "markdown",
   "id": "62d2d5d94de7ee92",
   "metadata": {},
   "source": [
    "# [x] PobTriage"
   ]
  },
  {
   "cell_type": "code",
   "execution_count": null,
   "id": "4b7a9649650b6792",
   "metadata": {},
   "outputs": [],
   "source": [
    "zdbrieven = r'T:\\lab_research\\RES-Folder-UPOD\\PobTriage\\E_ResearchData\\2_ResearchData\\20230130\\ZD_brieven_20230130.parquet'\n",
    "inkbrieven = r'T:\\lab_research\\RES-Folder-UPOD\\PobTriage\\E_ResearchData\\2_ResearchData\\Old\\inkomendebrieven.sas7bdat'\n",
    "verslagen = r'T:\\lab_research\\RES-Folder-UPOD\\PobTriage\\E_ResearchData\\2_ResearchData\\20230216\\verslagen_20230216.sas7bdat'\n",
    "ontslagbrieven = r'T:\\lab_research\\RES-Folder-UPOD\\PobTriage\\E_ResearchData\\2_ResearchData\\20230216\\ontslagbrieven_20230216.sas7bdat'\n",
    "\n",
    "zdbrieven_df = pd.read_parquet(zdbrieven)\n",
    "inkbrieven_df = pd.read_sas(inkbrieven)\n",
    "verslagen_df = pd.read_sas(verslagen)\n",
    "ontslagbrieven_df = pd.read_sas(ontslagbrieven)"
   ]
  },
  {
   "cell_type": "markdown",
   "id": "2fb7420a6cf65ede",
   "metadata": {},
   "source": [
    "### ZDbrieven\n",
    "\n",
    "6.4Million tokens"
   ]
  },
  {
   "cell_type": "code",
   "execution_count": null,
   "id": "afd370074b4f0edd",
   "metadata": {},
   "outputs": [],
   "source": [
    "zdbrieven_df['text_words'] = zdbrieven_df['InkomendeBriefTekst_DOC'].apply(splitter)\n",
    "zdbrieven_df['text_len'] = zdbrieven_df['text_words'].apply(len)"
   ]
  },
  {
   "cell_type": "code",
   "execution_count": null,
   "id": "f891901d08ca61ca",
   "metadata": {},
   "outputs": [],
   "source": [
    "zdbrieven_df['text_len'].sum()"
   ]
  },
  {
   "cell_type": "code",
   "execution_count": null,
   "id": "38a43aac90bae2f2",
   "metadata": {},
   "outputs": [],
   "source": [
    "zdbrieven_df.text_len.hist(bins=30)"
   ]
  },
  {
   "cell_type": "code",
   "execution_count": null,
   "id": "d4b21483a8384294",
   "metadata": {},
   "outputs": [],
   "source": [
    "zdbrieven_df[['jaar', 'InkomendeBriefTekst_DOC']].to_parquet(output_folder+\"/ZDBrieven_PoBTriage.parquet\")"
   ]
  },
  {
   "cell_type": "markdown",
   "id": "703467510190e03a",
   "metadata": {},
   "source": [
    "### Inkomende brieven\n",
    "\n",
    "190.000 tokens"
   ]
  },
  {
   "cell_type": "code",
   "execution_count": null,
   "id": "9aa353d83a082e8",
   "metadata": {},
   "outputs": [],
   "source": [
    "inkbrieven_df = inkbrieven_df.assign(reporttxt=inkbrieven_df.reporttxt.str.decode('latin1'))"
   ]
  },
  {
   "cell_type": "code",
   "execution_count": null,
   "id": "95e97b93fd7adbf8",
   "metadata": {},
   "outputs": [],
   "source": [
    "inkbrieven_df = inkbrieven_df.dropna(subset=['reporttxt'])"
   ]
  },
  {
   "cell_type": "code",
   "execution_count": null,
   "id": "2909236d5f6746b2",
   "metadata": {},
   "outputs": [],
   "source": [
    "inkbrieven_df = inkbrieven_df.assign(text_words=inkbrieven_df['reporttxt'].apply(splitter))\n",
    "\n",
    "inkbrieven_df  = inkbrieven_df.assign(text_len = inkbrieven_df['text_words'].apply(len))"
   ]
  },
  {
   "cell_type": "code",
   "execution_count": null,
   "id": "97556a1c7eee70f7",
   "metadata": {},
   "outputs": [],
   "source": [
    "inkbrieven_df.text_len.sum()"
   ]
  },
  {
   "cell_type": "code",
   "execution_count": null,
   "id": "66e108b7ecbe9405",
   "metadata": {},
   "outputs": [],
   "source": [
    "inkbrieven_df[['reporttxt']].to_parquet(output_folder+\"/INKBrieven_PoBTriage.parquet\")"
   ]
  },
  {
   "cell_type": "markdown",
   "id": "8f6b218abba523d6",
   "metadata": {},
   "source": [
    "### Verslagen\n",
    "\n",
    "1.75Million tokens"
   ]
  },
  {
   "cell_type": "code",
   "execution_count": null,
   "id": "26419c03474b8f7c",
   "metadata": {},
   "outputs": [],
   "source": [
    "verslagen_df = verslagen_df.assign(indicatie=verslagen_df.indicatie.str.decode('latin1'))\n",
    "\n",
    "verslagen_df = verslagen_df.assign(transtext=verslagen_df.transtext.str.decode('latin1'))\n",
    "\n",
    "verslagen_df = verslagen_df.assign(plattetext=verslagen_df.plattetext.str.decode('latin1'))\n",
    "\n",
    "verslagen_df = verslagen_df.assign(tekst=verslagen_df.tekst.str.decode('latin1'))\n"
   ]
  },
  {
   "cell_type": "code",
   "execution_count": null,
   "id": "739ca8e9036f0ab1",
   "metadata": {},
   "outputs": [],
   "source": [
    "def stitch_text(x):\n",
    "    txt = \"\"\n",
    "    if (isinstance(x['indicatie'], str)):\n",
    "        txt += \"Indicatie: \" + x['indicatie']\n",
    "    if (isinstance(x['transtext'], str)):\n",
    "        txt += \"\\nTransText: \" + x['transtext']\n",
    "    if (isinstance(x['plattetext'], str)):\n",
    "        txt += \"\\nPlatteText: \" + x['plattetext']\n",
    "    return txt"
   ]
  },
  {
   "cell_type": "code",
   "execution_count": null,
   "id": "c863cbfbc651fbc2",
   "metadata": {},
   "outputs": [],
   "source": [
    "verslagen_df = verslagen_df.assign(text=verslagen_df[['indicatie', 'transtext', 'plattetext']].apply(stitch_text, axis=1))"
   ]
  },
  {
   "cell_type": "code",
   "execution_count": null,
   "id": "d7b8d86ae5d0a86c",
   "metadata": {},
   "outputs": [],
   "source": [
    "verslagen_df = verslagen_df.assign(text_words=verslagen_df['text'].apply(splitter))\n",
    "\n",
    "verslagen_df  = verslagen_df.assign(text_len = verslagen_df['text_words'].apply(len))"
   ]
  },
  {
   "cell_type": "code",
   "execution_count": null,
   "id": "6021cd917bcf631e",
   "metadata": {},
   "outputs": [],
   "source": [
    "verslagen_df.text_len.sum()"
   ]
  },
  {
   "cell_type": "code",
   "execution_count": null,
   "id": "16e11fbe42cbd0b0",
   "metadata": {},
   "outputs": [],
   "source": [
    "verslagen_df[['indexdate', 'text']].to_parquet(output_folder+\"/verslagen_PoBTriage.parquet\")"
   ]
  },
  {
   "cell_type": "markdown",
   "id": "9bb2762b216ceefb",
   "metadata": {},
   "source": [
    "### Ontslagbrieven\n",
    "\n",
    "15Million tokens"
   ]
  },
  {
   "cell_type": "code",
   "execution_count": null,
   "id": "664cb318c306ad17",
   "metadata": {},
   "outputs": [],
   "source": [
    "ontslagbrieven_df = ontslagbrieven_df.assign(docOmsch=ontslagbrieven_df.docOmsch.str.decode('latin1'))\n",
    "\n",
    "ontslagbrieven_df = ontslagbrieven_df.assign(plattetext=ontslagbrieven_df.plattetext.str.decode('latin1'))\n"
   ]
  },
  {
   "cell_type": "code",
   "execution_count": null,
   "id": "24344b5a2710d1d1",
   "metadata": {},
   "outputs": [],
   "source": [
    "def stitch_text(x):\n",
    "    txt = \"\"\n",
    "    if (isinstance(x['docOmsch'], str)):\n",
    "        txt += \"Specialisme: \" + x['docOmsch']\n",
    "    if (isinstance(x['plattetext'], str)):\n",
    "        txt += \"\\nPlatteText: \" + x['plattetext']\n",
    "    return txt"
   ]
  },
  {
   "cell_type": "code",
   "execution_count": null,
   "id": "90cf8a577dbac322",
   "metadata": {},
   "outputs": [],
   "source": [
    "ontslagbrieven_df = ontslagbrieven_df.assign(text=ontslagbrieven_df[['docOmsch', 'plattetext']].apply(stitch_text, axis=1))"
   ]
  },
  {
   "cell_type": "code",
   "execution_count": null,
   "id": "4e1a827b0f9ce5b",
   "metadata": {},
   "outputs": [],
   "source": [
    "ontslagbrieven_df = ontslagbrieven_df.assign(text_words=ontslagbrieven_df['text'].apply(splitter))\n",
    "\n",
    "ontslagbrieven_df  = ontslagbrieven_df.assign(text_len = ontslagbrieven_df['text_words'].apply(len))"
   ]
  },
  {
   "cell_type": "code",
   "execution_count": null,
   "id": "e83a863153f06566",
   "metadata": {},
   "outputs": [],
   "source": [
    "ontslagbrieven_df.text_len.sum()"
   ]
  },
  {
   "cell_type": "code",
   "execution_count": null,
   "id": "4c0783f4f25e2332",
   "metadata": {},
   "outputs": [],
   "source": [
    "ontslagbrieven_df.to_parquet(output_folder+\"/ontslagbrieven_PoBTriage.parquet\")"
   ]
  },
  {
   "cell_type": "markdown",
   "id": "fa2241e34465d41b",
   "metadata": {},
   "source": [
    "# [x] CCN"
   ]
  },
  {
   "cell_type": "markdown",
   "id": "102fb5fdd38b0962",
   "metadata": {},
   "source": [
    "### Decursus\n",
    "\n",
    "26Million tokens"
   ]
  },
  {
   "cell_type": "code",
   "execution_count": 37,
   "id": "b15cdaae90959485",
   "metadata": {
    "ExecuteTime": {
     "end_time": "2024-09-02T11:26:09.387486Z",
     "start_time": "2024-09-02T11:26:05.180950Z"
    }
   },
   "outputs": [],
   "source": [
    "ccn_decursus_df = pd.read_csv(r'T:\\laupodteam\\AIOS\\Bram\\data\\Argus\\external_validation\\ccn\\C_Data\\4 Final_data\\FINAL_CSV\\RAW_2\\decursus_15jan2019.csv', sep=';', encoding='latin1', low_memory=False)"
   ]
  },
  {
   "cell_type": "code",
   "execution_count": null,
   "id": "4002c9f1ecf43f33",
   "metadata": {
    "ExecuteTime": {
     "end_time": "2024-09-02T11:26:12.441014Z",
     "start_time": "2024-09-02T11:26:09.390487Z"
    }
   },
   "outputs": [],
   "source": [
    "# TODO: PROCESS\n",
    "folderCheck = r'T:\\laupodteam\\AIOS\\Bram\\data\\Argus\\external_validation\\ccn\\C_Data\\1 Raw_data\\CSV datafiles february 2018'\n",
    "\n",
    "decursus_extra_list = []\n",
    "for f in os.listdir(folderCheck):\n",
    "    if (f.endswith(\".csv\")) & ('ExamData_Zorgtraject_Keuring_Decursus' in f):\n",
    "        print(f\"Loading {f}...\")\n",
    "        df = pd.read_csv(os.path.join(folderCheck, f), sep=',', encoding='latin1', low_memory=False)\n",
    "        decursus_extra_list.append(df[['PATIENT_NUMBER', 'REGISTRATION_REASON', 'APPOINTMENT_DATE', 'REDEN_VAN_VERWIJZING', 'DECURSUS', 'BELEID', 'DIAGNOSE']])\n",
    "decursus_extra_df = pd.concat(decursus_extra_list)\n"
   ]
  },
  {
   "cell_type": "code",
   "execution_count": null,
   "id": "d0ef328d59df4739",
   "metadata": {
    "ExecuteTime": {
     "end_time": "2024-09-02T11:26:17.601306Z",
     "start_time": "2024-09-02T11:26:12.443515Z"
    }
   },
   "outputs": [],
   "source": [
    "# TODO: PROCESS\n",
    "consult_extra_list = []\n",
    "for f in os.listdir(folderCheck):\n",
    "    if (f.endswith(\".csv\")) & ('ExamData_Zorgtraject_Keuring_Consult' in f):\n",
    "        print(f\"Loading {f}...\")\n",
    "        df = pd.read_csv(os.path.join(folderCheck, f), sep=',', encoding='latin1', low_memory=False)\n",
    "        consult_extra_list.append(df)\n",
    "consult_extra_df = pd.concat(consult_extra_list)"
   ]
  },
  {
   "cell_type": "code",
   "execution_count": 40,
   "id": "711dfc43fed8c653",
   "metadata": {
    "ExecuteTime": {
     "end_time": "2024-09-02T11:26:17.709807Z",
     "start_time": "2024-09-02T11:26:17.605313Z"
    }
   },
   "outputs": [],
   "source": [
    "# TODO: merge decursus_extra_df and consult_extra_df"
   ]
  },
  {
   "cell_type": "code",
   "execution_count": 41,
   "id": "88d3ec3f9a9e498f",
   "metadata": {
    "ExecuteTime": {
     "end_time": "2024-09-02T11:26:18.050866Z",
     "start_time": "2024-09-02T11:26:17.713308Z"
    }
   },
   "outputs": [],
   "source": [
    "ccn_external = pd.read_csv(r'T:\\laupodteam\\AIOS\\Bram\\data\\Argus\\external_validation\\ccn\\C_Data\\4 Final_data\\FINAL_CSV\\RAW_2\\external_15jan2019.csv', sep=';', encoding='latin1', low_memory=False)\n",
    "\n",
    "ccn_external = ccn_external.dropna(subset=['EXT_REPORT'])\n"
   ]
  },
  {
   "cell_type": "code",
   "execution_count": 42,
   "id": "83a6011ce222f35f",
   "metadata": {
    "ExecuteTime": {
     "end_time": "2024-09-02T11:26:18.143810Z",
     "start_time": "2024-09-02T11:26:18.053310Z"
    }
   },
   "outputs": [],
   "source": [
    "def stitch_text(x):\n",
    "    txt = \"\"\n",
    "    if (isinstance(x['EXT_PROCEDURE'], str)):\n",
    "        txt += \"Procedure: \" + x['EXT_PROCEDURE']\n",
    "    if (isinstance(x['EXT_REPORT'], str)):\n",
    "        txt += \" Uitslag: \" + x['EXT_REPORT']\n",
    "    return txt"
   ]
  },
  {
   "cell_type": "code",
   "execution_count": 43,
   "id": "7fc6f3340f8cb40b",
   "metadata": {
    "ExecuteTime": {
     "end_time": "2024-09-02T11:26:18.577813Z",
     "start_time": "2024-09-02T11:26:18.146312Z"
    }
   },
   "outputs": [],
   "source": [
    "ccn_external = ccn_external.assign(ProcedureText=ccn_external[['EXT_PROCEDURE', 'EXT_REPORT']].apply(stitch_text, axis=1))"
   ]
  },
  {
   "cell_type": "code",
   "execution_count": 44,
   "id": "124c60e22c67aca4",
   "metadata": {
    "ExecuteTime": {
     "end_time": "2024-09-02T11:26:18.872315Z",
     "start_time": "2024-09-02T11:26:18.580315Z"
    }
   },
   "outputs": [],
   "source": [
    "ccn_decursus_df = pd.merge_asof(ccn_decursus_df, ccn_external[['studyId_CCN_Sophie', 'ProcedureText', 'EXT_DATE']],\n",
    "           on='studyId_CCN_Sophie',\n",
    "           allow_exact_matches=True,\n",
    "           left_by='APPOINTMENT_DATE',\n",
    "           right_by='EXT_DATE',\n",
    "           direction='nearest'\n",
    "           )\n",
    "\n"
   ]
  },
  {
   "cell_type": "code",
   "execution_count": 45,
   "id": "14c63632eac20949",
   "metadata": {
    "ExecuteTime": {
     "end_time": "2024-09-02T11:26:19.011817Z",
     "start_time": "2024-09-02T11:26:18.874816Z"
    }
   },
   "outputs": [],
   "source": [
    "def stitch_text(x):\n",
    "    txt = \"\"\n",
    "    if (isinstance(x['DECURSUS'], str)):\n",
    "        txt += \"Decursus: \" + x['DECURSUS']\n",
    "    if (isinstance(x['ProcedureText'], str)):\n",
    "        txt += \"Procedure: \" + x['ProcedureText']\n",
    "    if (isinstance(x['TREATMENT_PLAN'], str)):\n",
    "        txt += \"\\nBehandelplan: \" + x['TREATMENT_PLAN']\n",
    "    return txt"
   ]
  },
  {
   "cell_type": "code",
   "execution_count": 46,
   "id": "d0a9677b8a3c18e6",
   "metadata": {
    "ExecuteTime": {
     "end_time": "2024-09-02T11:26:24.669369Z",
     "start_time": "2024-09-02T11:26:19.016318Z"
    }
   },
   "outputs": [],
   "source": [
    "ccn_decursus_df = ccn_decursus_df.assign(text=ccn_decursus_df[['DECURSUS', 'TREATMENT_PLAN', 'ProcedureText']].apply(stitch_text, axis=1))\n",
    "ccn_decursus_df = ccn_decursus_df.dropna(subset=['DECURSUS', 'TREATMENT_PLAN'], how='all')"
   ]
  },
  {
   "cell_type": "code",
   "execution_count": 47,
   "id": "32ae4122f6e0c077",
   "metadata": {
    "ExecuteTime": {
     "end_time": "2024-09-02T11:26:34.558455Z",
     "start_time": "2024-09-02T11:26:24.672366Z"
    }
   },
   "outputs": [],
   "source": [
    "ccn_decursus_df = ccn_decursus_df.assign(text_words=ccn_decursus_df['text'].apply(splitter))\n",
    "ccn_decursus_df  = ccn_decursus_df.assign(text_len = ccn_decursus_df['text_words'].apply(len))\n",
    "ccn_decursus_df.text_len.sum()"
   ]
  },
  {
   "cell_type": "code",
   "execution_count": null,
   "id": "291e8ceccf55d76e",
   "metadata": {},
   "outputs": [],
   "source": [
    "ccn_decursus_df[['APPOINTMENT_DATE', 'text']].to_parquet(output_folder+\"/CCN_decursus.parquet\")"
   ]
  },
  {
   "cell_type": "markdown",
   "id": "fc0f3e60ab2dd39a",
   "metadata": {},
   "source": [
    "### Consult\n",
    "\n",
    "1.5Million words"
   ]
  },
  {
   "cell_type": "code",
   "execution_count": 4,
   "id": "cd0a99d339665188",
   "metadata": {
    "ExecuteTime": {
     "end_time": "2024-09-02T11:11:11.390984Z",
     "start_time": "2024-09-02T11:11:05.541418Z"
    }
   },
   "outputs": [],
   "source": [
    "# TODO: add to ccn_decursus_df with merge_asof\n",
    "ccn_consult_df = pd.read_csv(r'T:\\laupodteam\\AIOS\\Bram\\data\\Argus\\external_validation\\ccn\\C_Data\\4 Final_data\\FINAL_CSV\\PROCESSED\\20210601_consult.csv', sep=\";\", encoding='latin1', low_memory=False)"
   ]
  },
  {
   "cell_type": "code",
   "execution_count": 8,
   "id": "a996f82dc457ba86",
   "metadata": {
    "ExecuteTime": {
     "end_time": "2024-09-02T11:14:42.156839Z",
     "start_time": "2024-09-02T11:14:42.040339Z"
    }
   },
   "outputs": [],
   "source": [
    "# TODO: process the contents of the consult columns into text."
   ]
  },
  {
   "cell_type": "code",
   "execution_count": 34,
   "id": "87c70e3e75a2afa0",
   "metadata": {
    "ExecuteTime": {
     "end_time": "2024-09-02T11:24:58.386879Z",
     "start_time": "2024-09-02T11:24:55.492319Z"
    }
   },
   "outputs": [],
   "source": [
    "# MH_EXTRA\n",
    "ConsultTexts = ccn_consult_df.sort_values(by='APPOINTMENT_DATE')[['PATIENT_NUMBER', 'MH_EXTRA']].dropna().groupby('PATIENT_NUMBER').MH_EXTRA.apply(lambda x: \"\\n\".join(x)).to_frame()"
   ]
  },
  {
   "cell_type": "code",
   "execution_count": 36,
   "id": "fbd52b24a79650d8",
   "metadata": {
    "ExecuteTime": {
     "end_time": "2024-09-02T11:25:02.724713Z",
     "start_time": "2024-09-02T11:25:01.514380Z"
    }
   },
   "outputs": [],
   "source": [
    "ConsultTexts.to_parquet(output_folder+\"/CCN_consults.parquet\")"
   ]
  },
  {
   "cell_type": "code",
   "execution_count": null,
   "id": "2d80b9491e588e4e",
   "metadata": {
    "ExecuteTime": {
     "end_time": "2024-09-02T11:30:58.206118Z",
     "start_time": "2024-09-02T11:30:57.093110Z"
    }
   },
   "outputs": [],
   "source": [
    "ConsultTexts = ConsultTexts.assign(text_words=ConsultTexts['MH_EXTRA'].apply(splitter))\n",
    "ConsultTexts  = ConsultTexts.assign(text_len = ConsultTexts['text_words'].apply(len))\n",
    "ConsultTexts.text_len.sum()"
   ]
  },
  {
   "cell_type": "markdown",
   "id": "ca91615cedd4e083",
   "metadata": {},
   "source": [
    "## [x] HMC "
   ]
  },
  {
   "cell_type": "code",
   "execution_count": null,
   "id": "592973e6d7726c82",
   "metadata": {},
   "outputs": [],
   "source": [
    "HMC_RAD_df = pd.read_feather(r'T:\\laupodteam\\AIOS\\Bram\\data\\Argus\\external_validation\\hmc\\radiology_txt.feather')\n",
    "HMC_RAD_CARDIO_df = pd.read_feather(r'T:\\laupodteam\\AIOS\\Bram\\data\\Argus\\external_validation\\hmc\\radiology_cardio_txt.feather')\n",
    "HMC_Decursus_df = pd.read_feather(r'T:\\laupodteam\\AIOS\\Bram\\data\\Argus\\external_validation\\hmc\\decursus_txt.feather')"
   ]
  },
  {
   "cell_type": "markdown",
   "id": "f5ec58efe81c7444",
   "metadata": {},
   "source": [
    "### Radiology\n",
    "\n",
    "44Million tokens"
   ]
  },
  {
   "cell_type": "code",
   "execution_count": null,
   "id": "5b4c208289b4804e",
   "metadata": {},
   "outputs": [],
   "source": [
    "HMC_RAD_df = HMC_RAD_df.assign(text_words=HMC_RAD_df['ReportTxt'].apply(splitter))\n",
    "HMC_RAD_df  = HMC_RAD_df.assign(text_len = HMC_RAD_df['text_words'].apply(len))"
   ]
  },
  {
   "cell_type": "code",
   "execution_count": null,
   "id": "4bb19f1b085e45e1",
   "metadata": {},
   "outputs": [],
   "source": [
    "HMC_RAD_df.text_len.sum()"
   ]
  },
  {
   "cell_type": "code",
   "execution_count": null,
   "id": "92a31a42f31eaea1",
   "metadata": {},
   "outputs": [],
   "source": [
    "HMC_RAD_df[['Onderz_dt', 'ReportTxt']].to_parquet(output_folder+\"/HMC_radio.parquet\")"
   ]
  },
  {
   "cell_type": "markdown",
   "id": "453b4f58212ce925",
   "metadata": {},
   "source": [
    "### Radiology cardio\n",
    "\n",
    "14Million tokens"
   ]
  },
  {
   "cell_type": "code",
   "execution_count": null,
   "id": "ef3ec07d36913926",
   "metadata": {},
   "outputs": [],
   "source": [
    "HMC_RAD_CARDIO_df = HMC_RAD_CARDIO_df.assign(text_words=HMC_RAD_CARDIO_df['ReportTxt'].apply(splitter))\n",
    "HMC_RAD_CARDIO_df  = HMC_RAD_CARDIO_df.assign(text_len = HMC_RAD_CARDIO_df['text_words'].apply(len))"
   ]
  },
  {
   "cell_type": "code",
   "execution_count": null,
   "id": "35b7f36705db60a1",
   "metadata": {},
   "outputs": [],
   "source": [
    "HMC_RAD_CARDIO_df.text_len.sum()"
   ]
  },
  {
   "cell_type": "code",
   "execution_count": null,
   "id": "fd6631769297df96",
   "metadata": {},
   "outputs": [],
   "source": [
    "HMC_RAD_CARDIO_df[['Onderz_dt', 'ReportTxt']].to_parquet(output_folder+\"/HMC_radio_cardio.parquet\")"
   ]
  },
  {
   "cell_type": "markdown",
   "id": "6e136d42f3550ae1",
   "metadata": {},
   "source": [
    "### Decursus\n",
    "\n",
    "110Million tokens"
   ]
  },
  {
   "cell_type": "code",
   "execution_count": null,
   "id": "ab08210b925489a6",
   "metadata": {},
   "outputs": [],
   "source": [
    "HMC_Decursus_df = HMC_Decursus_df.assign(text_words=HMC_Decursus_df['ReportTxt'].apply(splitter))\n",
    "HMC_Decursus_df  = HMC_Decursus_df.assign(text_len = HMC_Decursus_df['text_words'].apply(len))"
   ]
  },
  {
   "cell_type": "code",
   "execution_count": null,
   "id": "f58d224acfdf32d5",
   "metadata": {},
   "outputs": [],
   "source": [
    "HMC_Decursus_df.text_len.sum()"
   ]
  },
  {
   "cell_type": "code",
   "execution_count": null,
   "id": "c25d8df1a660d354",
   "metadata": {},
   "outputs": [],
   "source": [
    "HMC_Decursus_df[['create_dt', 'ReportTxt']].to_parquet(output_folder+\"/HMC_decursus.parquet\")"
   ]
  },
  {
   "cell_type": "markdown",
   "id": "a505a3e81f5d9fd1",
   "metadata": {},
   "source": [
    "## ARGUS NOT FINISHED\n",
    "\n",
    "* Radio\n",
    "* Echo\n",
    "* Decursus\n",
    "* Inkomende brieven"
   ]
  },
  {
   "cell_type": "code",
   "execution_count": null,
   "id": "ef220ef14337f09c",
   "metadata": {},
   "outputs": [],
   "source": []
  },
  {
   "cell_type": "markdown",
   "id": "7469888c96518d43",
   "metadata": {},
   "source": [
    "# [x] SMART\n",
    "\n",
    "9.3Million tokens"
   ]
  },
  {
   "cell_type": "code",
   "execution_count": null,
   "id": "6992d713b22741e2",
   "metadata": {},
   "outputs": [],
   "source": [
    "smart_df = pd.read_csv(r\"T:\\laupodteam\\AIOS\\Bram\\data\\Argus\\text_data\\SMART\\output_dataset_cardio.csv\", sep=\";\", encoding='latin1')\n",
    "\n",
    "smart_df = smart_df.assign(text=smart_df.text.str.replace(\"..\", \"\\n\"))\n",
    "\n",
    "smart_df = smart_df.assign(text_words=smart_df['text'].apply(splitter))\n",
    "smart_df  = smart_df.assign(text_len = smart_df['text_words'].apply(len))"
   ]
  },
  {
   "cell_type": "code",
   "execution_count": null,
   "id": "20a22a53eb09c828",
   "metadata": {},
   "outputs": [],
   "source": [
    "smart_df.text_len.sum()"
   ]
  },
  {
   "cell_type": "code",
   "execution_count": null,
   "id": "a2856f558a2c23b3",
   "metadata": {},
   "outputs": [],
   "source": [
    "smart_df.to_parquet(output_folder+\"/SMART.parquet\")"
   ]
  },
  {
   "cell_type": "markdown",
   "id": "7aa6573ad1ed2bb9",
   "metadata": {},
   "source": [
    "# [x] Kidney\n",
    "\n",
    "19.000.000"
   ]
  },
  {
   "cell_type": "code",
   "execution_count": 14,
   "id": "3fd881a0b4b823c7",
   "metadata": {
    "ExecuteTime": {
     "end_time": "2024-08-26T14:36:26.962222Z",
     "start_time": "2024-08-26T14:36:15.703498Z"
    }
   },
   "outputs": [],
   "source": [
    "consults  = pd.read_sas(r'T:\\lab_research\\RES-Folder-UPOD\\ODIN-UC4\\E_ResearchData\\2_ResearchData\\20240826\\consult_20240826.sas7bdat', encoding='latin1')"
   ]
  },
  {
   "cell_type": "code",
   "execution_count": 15,
   "id": "e366d2048721e61f",
   "metadata": {
    "ExecuteTime": {
     "end_time": "2024-08-26T14:45:49.048170Z",
     "start_time": "2024-08-26T14:45:48.883176Z"
    }
   },
   "outputs": [],
   "source": [
    "consults = consults.assign(date=consults['date'].dt.date)"
   ]
  },
  {
   "cell_type": "code",
   "execution_count": 16,
   "id": "816d9fc62cecf222",
   "metadata": {
    "ExecuteTime": {
     "end_time": "2024-08-26T14:49:08.309716Z",
     "start_time": "2024-08-26T14:49:07.045705Z"
    }
   },
   "outputs": [],
   "source": [
    "# 'Geriatrie' title, section_title_display_original, section_text, date\n",
    "def stitch_text(x):\n",
    "    txt = \"Geriatrie. \\n\"\n",
    "    if (isinstance(x['title'], str)):\n",
    "        txt += \"Betreft: \" + x['title']\n",
    "    if (isinstance(x['section_title_display_original'], str)):\n",
    "        txt += \"\\nBetreft: \" + x['section_title_display_original']\n",
    "    if (isinstance(x['section_text'], str)):\n",
    "        txt += \"\\nInhoud: \" + x['section_text']\n",
    "    return txt\n",
    "\n",
    "consults['text'] = consults[['title', 'section_title_display_original', 'section_text']].apply(stitch_text, axis=1)\n",
    "consults = consults.assign(txtlen=consults.text.str.len())"
   ]
  },
  {
   "cell_type": "code",
   "execution_count": 17,
   "id": "38c30ec8",
   "metadata": {},
   "outputs": [],
   "source": [
    "consults['text_words'] = consults['text'].apply(splitter)\n",
    "consults['text_len'] = consults['text_words'].apply(len)"
   ]
  },
  {
   "cell_type": "code",
   "execution_count": null,
   "id": "e8a253fe",
   "metadata": {},
   "outputs": [],
   "source": [
    "consults.text_len.sum()"
   ]
  },
  {
   "cell_type": "code",
   "execution_count": null,
   "id": "cb4228a7985d3bdc",
   "metadata": {
    "ExecuteTime": {
     "end_time": "2024-08-26T14:51:34.403285Z",
     "start_time": "2024-08-26T14:51:34.066281Z"
    }
   },
   "outputs": [],
   "source": [
    "consults.txtlen.hist(bins=100)"
   ]
  },
  {
   "cell_type": "code",
   "execution_count": 33,
   "id": "5fde7889b3bcecce",
   "metadata": {
    "ExecuteTime": {
     "end_time": "2024-08-26T14:55:33.628396Z",
     "start_time": "2024-08-26T14:55:31.915385Z"
    }
   },
   "outputs": [],
   "source": [
    "consults.loc[consults.txtlen>200,['date', 'text']].to_parquet(output_folder+\"/ODIN_CONSULTS.parquet\")"
   ]
  },
  {
   "cell_type": "markdown",
   "id": "70e1ec0e",
   "metadata": {},
   "source": [
    "# IBD NOT FINISHED"
   ]
  },
  {
   "cell_type": "code",
   "execution_count": 22,
   "id": "b1a31674",
   "metadata": {},
   "outputs": [],
   "source": [
    "decursus_hmc = pd.read_feather(r'L:\\lab_research\\RES-Folder-UPOD\\MDL_hackathon\\E_ResearchData\\4_Prepped\\hmc_decursus.feather')\n",
    "decursus_umcu = pd.read_feather(r'L:\\lab_research\\RES-Folder-UPOD\\MDL_hackathon\\E_ResearchData\\4_Prepped\\umcu_decursus.feather')"
   ]
  },
  {
   "cell_type": "code",
   "execution_count": 25,
   "id": "f1de283b",
   "metadata": {},
   "outputs": [],
   "source": [
    "endoscopy_hmc = pd.read_feather(r'L:\\lab_research\\RES-Folder-UPOD\\MDL_hackathon\\E_ResearchData\\4_Prepped\\hmc_endoscopy.feather')\n",
    "endoscopy_umcu = pd.read_feather(r'L:\\lab_research\\RES-Folder-UPOD\\MDL_hackathon\\E_ResearchData\\4_Prepped\\umcu_endoscopy.feather')"
   ]
  },
  {
   "cell_type": "code",
   "execution_count": 30,
   "id": "12fa3564",
   "metadata": {},
   "outputs": [],
   "source": [
    "pathology_hmc = pd.read_feather(r'L:\\lab_research\\RES-Folder-UPOD\\MDL_hackathon\\E_ResearchData\\4_Prepped\\hmc_pathology.feather')\n",
    "pathology_umcu = pd.read_feather(r'L:\\lab_research\\RES-Folder-UPOD\\MDL_hackathon\\E_ResearchData\\4_Prepped\\umcu_pathology.feather')"
   ]
  },
  {
   "cell_type": "code",
   "execution_count": 31,
   "id": "eb9ee410",
   "metadata": {},
   "outputs": [],
   "source": [
    "radiology_hmc = pd.read_feather(r'L:\\lab_research\\RES-Folder-UPOD\\MDL_hackathon\\E_ResearchData\\4_Prepped\\hmc_pathology.feather')\n",
    "radiology_umcu = pd.read_feather(r'L:\\lab_research\\RES-Folder-UPOD\\MDL_hackathon\\E_ResearchData\\4_Prepped\\umcu_pathology.feather')"
   ]
  },
  {
   "cell_type": "code",
   "execution_count": 73,
   "id": "e58af0e1",
   "metadata": {},
   "outputs": [],
   "source": [
    "decursus_hmc = pd.read_feather(r'L:\\lab_research\\RES-Folder-UPOD\\MDL_hackathon\\E_ResearchData\\4_Prepped\\hmc_decursus.feather')\n",
    "decursus_umcu = pd.read_feather(r'L:\\lab_research\\RES-Folder-UPOD\\MDL_hackathon\\E_ResearchData\\4_Prepped\\umcu_decursus.feather')\n",
    "\n",
    "decursus_umcu['text_words'] = decursus_umcu['ANTWOORD_def'].apply(splitter)\n",
    "decursus_umcu['text_len'] = decursus_umcu['text_words'].apply(len)\n",
    "decursus_umcu = decursus_umcu.rename(columns={'DATUM':'date', 'ANTWOORD_def':'text'})\n",
    "decursus_umcu = decursus_umcu.assign(text=decursus_umcu[['STELLING','text']].apply(lambda x: x['STELLING']+\":\"+x['text'], axis=1))\n",
    "decursus_umcu = decursus_umcu.groupby(['StudyID', 'date'])['text'].apply(lambda x: '\\n'.join(x)).reset_index()"
   ]
  },
  {
   "cell_type": "code",
   "execution_count": 75,
   "id": "d8491364",
   "metadata": {},
   "outputs": [],
   "source": [
    "decursus_hmc = decursus_hmc[decursus_hmc.STELLING.str.contains('telefoon', case=False)==False]\n",
    "decursus_hmc = decursus_hmc.rename(columns={'DATUM':'date', 'ANTWOORD_def':'text'})\n",
    "decursus_hmc = decursus_hmc.assign(text=decursus_hmc[['STELLING','text']].apply(lambda x: x['STELLING']+\":\"+x['text'], axis=1))\n",
    "decursus_hmc = decursus_hmc.groupby(['studyID', 'date'])['text'].apply(lambda x: '\\n'.join(x)).reset_index()"
   ]
  },
  {
   "cell_type": "code",
   "execution_count": null,
   "id": "19841e9b",
   "metadata": {},
   "outputs": [],
   "source": [
    "decursus_umcu"
   ]
  },
  {
   "cell_type": "markdown",
   "id": "afa06a14",
   "metadata": {},
   "source": [
    "# RA NOT FINISHED\n",
    "\n",
    "**40.000.000**"
   ]
  },
  {
   "cell_type": "code",
   "execution_count": 51,
   "id": "248f9a00",
   "metadata": {},
   "outputs": [
    {
     "name": "stdout",
     "output_type": "stream",
     "text": [
      "10943883\n"
     ]
    }
   ],
   "source": [
    "base_dir_d2tra = '//ds/Data/IGD/Onderzoek/Reumatologie/20-724_D2TRA_Hackaton/E_ResearchData/2_ResearchData'\n",
    "\n",
    "ra_brieven = pd.read_sas(base_dir_d2tra+'/ra_brieven_uncompressed.sas7bdat', encoding='latin1')\n",
    "ra_brieven = ra_brieven[ra_brieven['OMSCH'].notna()]\n",
    "ra_brieven = ra_brieven[ra_brieven['plattetext_new'].notna()]\n",
    "\n",
    "ra_brieven = ra_brieven.assign(text=ra_brieven[['DOCOMSCHR', 'OMSCH', 'plattetext_new']].apply(lambda x: x['DOCOMSCHR']+\":\"+x['plattetext_new'], axis=1))\n",
    "ra_brieven.reset_index(drop=True)[['text']].to_parquet(output_folder+\"/RA_brieven_fromSAS.parquet\")\n",
    "ra_brieven = ra_brieven.assign(text_words=ra_brieven['text'].apply(splitter))\n",
    "ra_brieven  = ra_brieven.assign(text_len = ra_brieven['text_words'].apply(len))\n",
    "print(ra_brieven.text_len.sum())"
   ]
  },
  {
   "cell_type": "code",
   "execution_count": 57,
   "id": "a70d1c67",
   "metadata": {},
   "outputs": [],
   "source": [
    "ra_vragen = pd.read_sas(base_dir_d2tra+'/vragenlijsten_new_uncompressed.sas7bdat', encoding='latin1')\n",
    "ra_vragen = ra_vragen.assign(STELLING=ra_vragen['STELLING'].apply(lambda x: 'Reden van komst' if 'reden' in x.lower() else x))\n",
    "ra_vragen = ra_vragen.assign(ANTWOORD=ra_vragen.ANTWOORD.apply(striprtf))\n",
    "ra_vragen = ra_vragen[['studyId_RA_hackathon', 'create_dt', 'STELLING', 'ANTWOORD']]\n",
    "ra_vragen = ra_vragen.assign(text_words=ra_vragen['ANTWOORD'].apply(splitter))\n",
    "ra_vragen  = ra_vragen.assign(text_len = ra_vragen['text_words'].apply(len))"
   ]
  },
  {
   "cell_type": "code",
   "execution_count": 90,
   "id": "08abbdef",
   "metadata": {},
   "outputs": [],
   "source": [
    "ra_vragen = ra_vragen.assign(ANTWOORD=ra_vragen.ANTWOORD.apply(striprtf))"
   ]
  },
  {
   "cell_type": "code",
   "execution_count": 92,
   "id": "64006ef8",
   "metadata": {},
   "outputs": [
    {
     "data": {
      "text/plain": [
       "STELLING\n",
       "Toelichting slokdarm                          2711\n",
       "VAS arts (mm)                                 2630\n",
       "Opdrachten aan verpleegkundigen - Algemeen    2538\n",
       "Protheses / arthrodeses                       2414\n",
       "Algemeen                                      2264\n",
       "Toelichting                                   2195\n",
       "VAS arts                                      2105\n",
       "DAS 28 Gezwollen gewrichten                   2034\n",
       "DAS 28 Pijnlijke gewrichten                   2034\n",
       "Diagnose                                      1986\n",
       "Zijn er beperkingen t.a.v. mobiliseren?       1960\n",
       "Bloeddruk                                     1932\n",
       "VRC 30 min afspraak over                      1843\n",
       "Lichamelijk onderzoek - interne breed (+)     1658\n",
       "Opmerking                                     1654\n",
       "Pols                                          1652\n",
       "Is het gewrichtsonderzoek uitgevoerd?         1590\n",
       "Medisch relevante gegevens                    1478\n",
       "Rookt de patiënt                              1381\n",
       "ICC moet plaats vinden in ander ziekenhuis    1368\n",
       "Name: count, dtype: int64"
      ]
     },
     "execution_count": 92,
     "metadata": {},
     "output_type": "execute_result"
    }
   ],
   "source": [
    "ra_vragen[['STELLING', 'ANTWOORD', 'CATEGORIE','omschr']].STELLING.value_counts()[40:60]"
   ]
  },
  {
   "cell_type": "code",
   "execution_count": null,
   "id": "2b0ec309",
   "metadata": {},
   "outputs": [],
   "source": [
    "#  Voorgeschiedenis, Algemeen, Toelichting, Toelichting slokdarm, Reden van komst, Overdracht, Lichamelijk onderzoek, Aanvullend onderzoek, Anamnese, Tractus anamnese, Samenvatting, Conclusie, Beleid\n",
    "ra_vragen[['STELLING', 'ANTWOORD', 'CATEGORIE','omschr']].STELLING.value_counts()[40:60]"
   ]
  },
  {
   "cell_type": "code",
   "execution_count": 52,
   "id": "1efe0b4f",
   "metadata": {},
   "outputs": [
    {
     "name": "stdout",
     "output_type": "stream",
     "text": [
      "11682461\n"
     ]
    }
   ],
   "source": [
    "with open(r'T:\\laupodteam\\AIOS\\Bram\\language_modeling\\MEDICAL_TEXT\\CLEANED\\RA.txt', 'r') as f:\n",
    "    ra_stratafit = f.readlines()\n",
    "    ra_stratafit = [{'text': x.strip()} for x in ra_stratafit]\n",
    "    ra_stratafit_df = pd.DataFrame(ra_stratafit)\n",
    "    ra_stratafit_df.to_parquet(os.path.join(output_folder, 'RA.parquet'))\n",
    "    ra_stratafit_df = ra_stratafit_df.assign(text_words=ra_stratafit_df['text'].apply(splitter))\n",
    "    ra_stratafit_df  = ra_stratafit_df.assign(text_len = ra_stratafit_df['text_words'].apply(len))\n",
    "    print(ra_stratafit_df.text_len.sum())"
   ]
  },
  {
   "cell_type": "code",
   "execution_count": 53,
   "id": "0ac20ce1",
   "metadata": {},
   "outputs": [
    {
     "name": "stdout",
     "output_type": "stream",
     "text": [
      "10547930\n"
     ]
    }
   ],
   "source": [
    "with open(r'T:\\laupodteam\\AIOS\\Bram\\language_modeling\\MEDICAL_TEXT\\CLEANED\\RA_radio.txt', 'r') as f:\n",
    "    ra_stratafit_radio = f.readlines()\n",
    "    ra_stratafit_radio = [{'text': x.strip()} for x in ra_stratafit_radio]\n",
    "    ra_stratafit_radio_df = pd.DataFrame(ra_stratafit_radio)\n",
    "    ra_stratafit_radio_df.to_parquet(os.path.join(output_folder, 'RA_radio.parquet'))\n",
    "    ra_stratafit_radio_df = ra_stratafit_radio_df.assign(text_words=ra_stratafit_radio_df['text'].apply(splitter))\n",
    "    ra_stratafit_radio_df  = ra_stratafit_radio_df.assign(text_len = ra_stratafit_radio_df['text_words'].apply(len))\n",
    "    print(ra_stratafit_radio_df.text_len.sum())"
   ]
  },
  {
   "cell_type": "code",
   "execution_count": 54,
   "id": "37931374",
   "metadata": {},
   "outputs": [
    {
     "name": "stdout",
     "output_type": "stream",
     "text": [
      "19649210\n"
     ]
    }
   ],
   "source": [
    "with open(r'T:\\laupodteam\\AIOS\\Bram\\language_modeling\\MEDICAL_TEXT\\CLEANED\\RA_SMK.txt', 'r') as f:\n",
    "    ra_smk = f.readlines()\n",
    "    ra_smk = [{'text': x.strip()} for x in ra_smk]\n",
    "    ra_smk_df = pd.DataFrame(ra_smk)\n",
    "    ra_smk_df.to_parquet(os.path.join(output_folder, 'RA_OTHER.parquet'))\n",
    "    ra_smk_df = ra_smk_df.assign(text_words=ra_smk_df['text'].apply(splitter))\n",
    "    ra_smk_df  = ra_smk_df.assign(text_len = ra_smk_df['text_words'].apply(len))\n",
    "    print(ra_smk_df.text_len.sum())"
   ]
  },
  {
   "cell_type": "markdown",
   "id": "f266cfb4",
   "metadata": {},
   "source": [
    "# MDS NOT FINISHED"
   ]
  },
  {
   "cell_type": "code",
   "execution_count": null,
   "id": "54e3b63a",
   "metadata": {},
   "outputs": [],
   "source": [
    "base_dir = 'L://lab_research/RES-Folder-UPOD/DiagHematoMal_22-751/E_ResearchData/2_ResearchData'"
   ]
  },
  {
   "cell_type": "markdown",
   "id": "c7ecb06456bea1d6",
   "metadata": {},
   "source": [
    "# GENERIC DUTCH MEDICAL CORPORA"
   ]
  },
  {
   "cell_type": "markdown",
   "id": "a9538c1eb748b5bb",
   "metadata": {},
   "source": [
    "## NtVG\n",
    "\n",
    "**33M words**"
   ]
  },
  {
   "cell_type": "code",
   "execution_count": 61,
   "id": "d58e6c04aa8d341c",
   "metadata": {
    "ExecuteTime": {
     "end_time": "2024-09-02T15:26:41.061169Z",
     "start_time": "2024-09-02T15:26:38.340087Z"
    }
   },
   "outputs": [],
   "source": [
    "ntvg = pd.read_feather(r'T:\\laupodteam\\AIOS\\Bram\\language_modeling\\MEDICAL_TEXT\\RAW\\NtvG\\ntvg_articles.feather')"
   ]
  },
  {
   "cell_type": "code",
   "execution_count": 62,
   "id": "6663660d9f1eee66",
   "metadata": {
    "ExecuteTime": {
     "end_time": "2024-09-02T15:26:41.899675Z",
     "start_time": "2024-09-02T15:26:41.064669Z"
    }
   },
   "outputs": [],
   "source": [
    "def concat_text(x):\n",
    "    if isinstance(x, np.ndarray):\n",
    "        if len(x)>=2:\n",
    "            if len(x)==2:\n",
    "                return x[1]+\":\"+x[0]\n",
    "            elif len(x)==3:\n",
    "                return x[1]+\":\"+x[0]+\"\\n\"+x[2]\n",
    "            elif len(x)>3:\n",
    "                return \"\\n\".join(x)\n",
    "        else:\n",
    "            return x\n",
    "    else:\n",
    "        return x\n",
    "ntvg = ntvg.assign(text=ntvg.body_clean.apply(concat_text))\n",
    "ntvg = ntvg.assign(category = ntvg.category.replace('Diagnose in beeld', 'Diagnose'))\n"
   ]
  },
  {
   "cell_type": "code",
   "execution_count": 63,
   "id": "6915fae8309fd867",
   "metadata": {
    "ExecuteTime": {
     "end_time": "2024-09-02T15:26:42.254676Z",
     "start_time": "2024-09-02T15:26:41.904180Z"
    }
   },
   "outputs": [],
   "source": [
    "ntvg = ntvg.assign(category = ntvg.category.astype('str'))\n",
    "ntvg = ntvg.assign(domain = ntvg.domain.astype('str'))\n",
    "ntvg = ntvg.assign(text = ntvg.text.astype('str'))"
   ]
  },
  {
   "cell_type": "code",
   "execution_count": 64,
   "id": "6f29af97b9015f9a",
   "metadata": {
    "ExecuteTime": {
     "end_time": "2024-09-02T15:26:42.859180Z",
     "start_time": "2024-09-02T15:26:42.682678Z"
    }
   },
   "outputs": [],
   "source": [
    "def concat_summaries(x):\n",
    "    if x is not None:\n",
    "        if isinstance(x, np.ndarray):\n",
    "            return \"\\n\".join(x)\n",
    "        else:\n",
    "            return \"\"\n",
    "    else:\n",
    "        return \"\"\n",
    "ntvg = ntvg.assign(summary_text = \"\")\n",
    "ntvg = ntvg.assign(summary_text = ntvg.summary_clean.apply(concat_summaries))"
   ]
  },
  {
   "cell_type": "code",
   "execution_count": 69,
   "id": "acf1d68eb4e602f9",
   "metadata": {
    "ExecuteTime": {
     "end_time": "2024-09-02T15:28:41.908047Z",
     "start_time": "2024-09-02T15:28:40.377541Z"
    }
   },
   "outputs": [],
   "source": [
    "ntvg = ntvg.assign(total_text = ntvg[['text', 'summary_text']].apply(lambda x: \"\\n\".join(x), axis=1))"
   ]
  },
  {
   "cell_type": "code",
   "execution_count": 70,
   "id": "3058e64a3827f96e",
   "metadata": {
    "ExecuteTime": {
     "end_time": "2024-09-02T15:29:17.474873Z",
     "start_time": "2024-09-02T15:29:09.237973Z"
    }
   },
   "outputs": [],
   "source": [
    "ntvg[['category', 'domain', 'total_text']].to_parquet(output_folder+\"/ntvg.parquet\")\n",
    "ntvg = ntvg.assign(num_contents = ntvg.body_clean.apply(lambda x: len(x)))\n",
    "ntvg = ntvg.assign(txtlen=ntvg.total_text.str.split().apply(lambda x: len(x)))"
   ]
  },
  {
   "cell_type": "code",
   "execution_count": null,
   "id": "a11eb2d672aa1023",
   "metadata": {
    "ExecuteTime": {
     "end_time": "2024-09-02T15:29:19.684707Z",
     "start_time": "2024-09-02T15:29:19.571206Z"
    }
   },
   "outputs": [],
   "source": [
    "ntvg.txtlen.sum()"
   ]
  },
  {
   "cell_type": "code",
   "execution_count": null,
   "id": "ba729a4243c8b97a",
   "metadata": {},
   "outputs": [],
   "source": [
    "# concat with summary_clean, if available"
   ]
  },
  {
   "cell_type": "markdown",
   "id": "54497a95ad0284e8",
   "metadata": {},
   "source": [
    "## NHG NOT FINISHED"
   ]
  },
  {
   "cell_type": "code",
   "execution_count": null,
   "id": "9a25b7e709c2f938",
   "metadata": {},
   "outputs": [],
   "source": []
  },
  {
   "cell_type": "markdown",
   "id": "3bff4163721142f6",
   "metadata": {},
   "source": [
    "## HeNW NOT FINISHED"
   ]
  },
  {
   "cell_type": "code",
   "execution_count": null,
   "id": "16f3b87f29f58d31",
   "metadata": {},
   "outputs": [],
   "source": []
  },
  {
   "cell_type": "markdown",
   "id": "fe40c236bb4ee045",
   "metadata": {},
   "source": [
    "## Medical Wiki NOT FINISHED"
   ]
  },
  {
   "cell_type": "code",
   "execution_count": null,
   "id": "ac99a5172ba62d04",
   "metadata": {},
   "outputs": [],
   "source": []
  }
 ],
 "metadata": {
  "kernelspec": {
   "display_name": "pubscience-GFzZkKDp-py3.12",
   "language": "python",
   "name": "python3"
  },
  "language_info": {
   "codemirror_mode": {
    "name": "ipython",
    "version": 3
   },
   "file_extension": ".py",
   "mimetype": "text/x-python",
   "name": "python",
   "nbconvert_exporter": "python",
   "pygments_lexer": "ipython3",
   "version": "3.12.6"
  }
 },
 "nbformat": 4,
 "nbformat_minor": 5
}

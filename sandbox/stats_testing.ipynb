{
 "cells": [
  {
   "metadata": {},
   "cell_type": "markdown",
   "source": [
    "We extract stats for the following corpora\n",
    "\n",
    "# EHRs\n",
    "**Cardiology**\n",
    "* [x] CarTeksten\n",
    "* [x] SCAD\n",
    "* [x] DataTools4Heart\n",
    "* [x] DIGIN\n",
    "* [x] PobTriage\n",
    "* ARGUS\n",
    "* [/] CCN\n",
    "* [x] HMC\n",
    "\n",
    "**IBD**\n",
    "* MDL_hackathon $\\rightarrow$ prefix with 'IBD_'\n",
    "\n",
    "**Kidney**\n",
    "* [x] ODIN  $\\rightarrow$ prefix with 'NEFRO_'\n",
    "\n",
    "**RA**\n",
    "* D2TRA hackathon  $\\rightarrow$ prefix with 'RA_'\n",
    "* STRATAFIT $\\rightarrow$ prefix with 'RA_'\n",
    "\n",
    "# Other\n",
    "\n",
    "* NtvG  $\\rightarrow$ prefix with 'GEN_'\n",
    "* HenW $\\rightarrow$ prefix with 'GEN_'\n",
    "* NHG $\\rightarrow$ prefix with 'GEN_'\n",
    "* Pubmed-abstract translation  $\\rightarrow$ prefix with 'GEN_'\n",
    "\n",
    "Translations\n",
    "* MIMIC III/IV \n",
    "* eICU\n",
    "* Apollo corpus\n",
    "* Meditron guidelines"
   ],
   "id": "c6eded6174482e23"
  },
  {
   "metadata": {
    "ExecuteTime": {
     "end_time": "2024-09-02T11:57:09.253569Z",
     "start_time": "2024-09-02T11:57:07.594057Z"
    }
   },
   "cell_type": "code",
   "source": [
    "%load_ext autoreload\n",
    "%autoreload 2\n",
    "\n",
    "import numpy as np\n",
    "import re\n",
    "import gc\n",
    "import os\n",
    "import pandas as pd\n",
    "import numpy as np"
   ],
   "id": "1c7ae42ddbd9a35c",
   "outputs": [],
   "execution_count": 2
  },
  {
   "metadata": {
    "ExecuteTime": {
     "end_time": "2024-09-02T11:57:09.424071Z",
     "start_time": "2024-09-02T11:57:09.257570Z"
    }
   },
   "cell_type": "code",
   "source": [
    "re_split = re.compile(r\"\\W\")\n",
    "splitter = lambda x: re_split.split(x)"
   ],
   "id": "af5002e8be213480",
   "outputs": [],
   "execution_count": 3
  },
  {
   "metadata": {
    "ExecuteTime": {
     "end_time": "2024-09-02T11:57:09.579071Z",
     "start_time": "2024-09-02T11:57:09.427071Z"
    }
   },
   "cell_type": "code",
   "source": "output_folder = r'L:\\lab_research\\RES-Folder-UPOD\\CarTeksten\\G_Output\\2_Data'",
   "id": "44c8f3536d798647",
   "outputs": [],
   "execution_count": 4
  },
  {
   "metadata": {},
   "cell_type": "markdown",
   "source": [
    "# [x] SCAD\n",
    "\n",
    "4Million tokens"
   ],
   "id": "7085e1a819968f90"
  },
  {
   "metadata": {},
   "cell_type": "code",
   "source": [
    "folder = r'T:\\lab_research\\RES-Folder-UPOD\\SCAD\\E_ResearchData\\2_ResearchData\\20240312'\n",
    "SCAD = pd.read_sas(folder+\"/carokverslag_20240312.sas7bdat\")"
   ],
   "id": "8517b0c850e85d56",
   "outputs": [],
   "execution_count": null
  },
  {
   "metadata": {},
   "cell_type": "code",
   "source": [
    "SCAD['QRI_Stelling'] = SCAD['QRI_Stelling'].str.decode(encoding='latin1')\n",
    "SCAD['QRI_ValueAnswerTxt'] = SCAD['QRI_ValueAnswerTxt'].str.decode(encoding='latin1')\n",
    "SCAD = SCAD.loc[SCAD.QRI_ValueAnswerTxt.notna()]\n",
    "SCAD['Age'] = SCAD['Age'].astype(str)\n",
    "SCAD['gender'] = SCAD['gender'].str.decode(encoding='latin1')\n",
    "SCAD['gender'] = SCAD['gender'].map({'male': 'man', 'female': 'vrouw'})\n",
    "SCAD['gender'] = \"Geslacht:\"+ SCAD['gender']"
   ],
   "id": "5ff65621b7e51dc7",
   "outputs": [],
   "execution_count": null
  },
  {
   "metadata": {},
   "cell_type": "code",
   "source": [
    "SCAD_TEXT = (SCAD.loc[SCAD['QRI_ValueAnswerTxt'].notna(), ['QRI_Stelling', 'QRI_ValueAnswerTxt', 'gender']]\\\n",
    "                .apply(lambda x: x[0]+\":\"+x[1]+\", \"+x[2], axis=1).to_frame().rename(columns={0:'text'}))"
   ],
   "id": "251269aec46e9872",
   "outputs": [],
   "execution_count": null
  },
  {
   "metadata": {},
   "cell_type": "code",
   "source": "NEW_SCAD = SCAD[['studyId_0818', 'index1_date']].join(SCAD_TEXT, how='inner')",
   "id": "c6c0c2c3624b5f9e",
   "outputs": [],
   "execution_count": null
  },
  {
   "metadata": {},
   "cell_type": "code",
   "source": "TEXT_GROUPED = NEW_SCAD.groupby(['studyId_0818', 'index1_date']).text.apply(lambda x: '\\n'.join(x)).reset_index()",
   "id": "d9e302e071c2e506",
   "outputs": [],
   "execution_count": null
  },
  {
   "metadata": {},
   "cell_type": "markdown",
   "source": "",
   "id": "38caf350a6c1cc5"
  },
  {
   "metadata": {},
   "cell_type": "code",
   "source": [
    "TEXT_GROUPED['text_words'] = TEXT_GROUPED['text'].apply(splitter)\n",
    "TEXT_GROUPED['text_len'] = TEXT_GROUPED['text_words'].apply(len)"
   ],
   "id": "3b1776b278b35a7d",
   "outputs": [],
   "execution_count": null
  },
  {
   "metadata": {},
   "cell_type": "code",
   "source": "TEXT_GROUPED['text_len'].hist(bins=30)",
   "id": "a4589585c0c157fe",
   "outputs": [],
   "execution_count": null
  },
  {
   "metadata": {},
   "cell_type": "code",
   "source": "print(f\"Number of words: {TEXT_GROUPED.text_len.sum()}\")",
   "id": "224e206f212358ae",
   "outputs": [],
   "execution_count": null
  },
  {
   "metadata": {},
   "cell_type": "code",
   "source": [
    "unique_words = set()\n",
    "for l in TEXT_GROUPED['text_words'].values:\n",
    "    for w in l:\n",
    "        unique_words.add(w)"
   ],
   "id": "53c453593f37cb5",
   "outputs": [],
   "execution_count": null
  },
  {
   "metadata": {},
   "cell_type": "code",
   "source": "print(f\"Number of unique words: {len(unique_words)}\")",
   "id": "54546871931a6779",
   "outputs": [],
   "execution_count": null
  },
  {
   "metadata": {},
   "cell_type": "code",
   "source": "TEXT_GROUPED[['index1_date', 'text']].to_parquet(output_folder+'\\SCAD.parquet')",
   "id": "9ec36eeda1428ec6",
   "outputs": [],
   "execution_count": null
  },
  {
   "metadata": {},
   "cell_type": "code",
   "source": "del SCAD, SCAD_TEXT, TEXT_GROUPED",
   "id": "326da18c1f71bc59",
   "outputs": [],
   "execution_count": null
  },
  {
   "metadata": {},
   "cell_type": "code",
   "source": "gc.collect()",
   "id": "7c3c8c9e3d8ff7c7",
   "outputs": [],
   "execution_count": null
  },
  {
   "metadata": {},
   "cell_type": "markdown",
   "source": [
    "# [x] CarTeksten\n",
    "\n",
    "400Million tokens"
   ],
   "id": "e507081be09f9f77"
  },
  {
   "metadata": {
    "ExecuteTime": {
     "end_time": "2024-08-23T11:30:44.649879Z",
     "start_time": "2024-08-23T11:30:26.017184Z"
    }
   },
   "cell_type": "code",
   "source": [
    "folder = r'L:\\lab_research\\RES-Folder-UPOD\\CarTeksten\\E_ResearchData\\2_ResearchData\\20240321'\n",
    "CarTeksten = pd.read_parquet(folder+\"/vrglijsten_20240321.parquet\")"
   ],
   "id": "2913609c1b270d0e",
   "outputs": [],
   "execution_count": 11
  },
  {
   "metadata": {},
   "cell_type": "code",
   "source": "CarTeksten = CarTeksten[CarTeksten['QRI_ValueAnswerTxt'].apply(lambda x: x is not None)]",
   "id": "408c446d502bfb11",
   "outputs": [],
   "execution_count": null
  },
  {
   "metadata": {},
   "cell_type": "code",
   "source": [
    "CarTeksten = CarTeksten.assign(TEXT= CarTeksten[['QRE_description', 'QRE_category_display', 'QRE_name', 'QRI_Stelling','QRI_ValueAnswerTxt']].apply(lambda x: \n",
    "                                                                                                                f'Omschrijving:{x['QRE_description']}'+\\\n",
    "                                                                                                                f', Categorie:{x['QRE_category_display']}'+\\\n",
    "                                                                                                                f', Thema:{x['QRE_name']}'+\\\n",
    "                                                                                                                f', Stelling:{x['QRI_Stelling']}'+\\\n",
    "                                                                                                                f', Antwoord:{x['QRI_ValueAnswerTxt']}'\n",
    "                                                                                                               , axis=1))"
   ],
   "id": "7cd0ce30dc2ab815",
   "outputs": [],
   "execution_count": null
  },
  {
   "metadata": {},
   "cell_type": "code",
   "source": [
    "CarTeksten['text_words'] = CarTeksten['TEXT'].apply(splitter)\n",
    "CarTeksten['text_len'] = CarTeksten['text_words'].apply(len)"
   ],
   "id": "1254eba30d3d7ee3",
   "outputs": [],
   "execution_count": null
  },
  {
   "metadata": {},
   "cell_type": "code",
   "source": [
    "print(f\"Number of words: {CarTeksten.text_len.sum()}\")\n",
    "\n",
    "unique_words = set()\n",
    "for l in CarTeksten['text_words'].values:\n",
    "    for w in l:\n",
    "        unique_words.add(w)\n",
    "        \n",
    "print(f\"Number of unique words: {len(unique_words)}\")"
   ],
   "id": "237822e5e809cb06",
   "outputs": [],
   "execution_count": null
  },
  {
   "metadata": {},
   "cell_type": "code",
   "source": "CarTeksten['text_len'].hist(bins=30)\n",
   "id": "4142d4111ea486df",
   "outputs": [],
   "execution_count": null
  },
  {
   "metadata": {},
   "cell_type": "code",
   "source": "CarTeksten[['QRR_created', 'TEXT']].to_parquet(output_folder+'/CARQ.parquet')",
   "id": "2adb2b172d8fca91",
   "outputs": [],
   "execution_count": null
  },
  {
   "metadata": {},
   "cell_type": "code",
   "source": [
    "del CarTeksten\n",
    "gc.collect()"
   ],
   "id": "8c9a828d380e03eb",
   "outputs": [],
   "execution_count": null
  },
  {
   "metadata": {},
   "cell_type": "markdown",
   "source": [
    "# [x] DIGIN\n",
    "\n",
    "145Million tokens"
   ],
   "id": "eda9501d56b80783"
  },
  {
   "metadata": {
    "ExecuteTime": {
     "end_time": "2024-08-23T11:32:31.555071Z",
     "start_time": "2024-08-23T11:31:22.838347Z"
    }
   },
   "cell_type": "code",
   "source": "DIGIN_ECHO = pd.read_sas(r'L:\\lab_research\\RES-Folder-UPOD\\DIGIN\\E_ResearchData\\2_ResearchData\\pat_echo_brief_20231018.sas7bdat')",
   "id": "a40268a411e2c2c9",
   "outputs": [],
   "execution_count": 14
  },
  {
   "metadata": {},
   "cell_type": "code",
   "source": [
    "DIGIN_ECHO['DOCOMSCHR'] = DIGIN_ECHO['DOCOMSCHR'].str.decode('latin1')\n",
    "DIGIN_ECHO['Brief_txt'] = DIGIN_ECHO['Brief_txt'].str.decode('latin1')\n",
    "DIGIN_ECHO['Conclusions_ECHO'] = DIGIN_ECHO['Conclusions_ECHO'].str.decode('latin1')\n",
    "DIGIN_ECHO['gender'] = DIGIN_ECHO['gender'].str.decode('latin1')"
   ],
   "id": "99b1fff1d90846d7",
   "outputs": [],
   "execution_count": null
  },
  {
   "metadata": {},
   "cell_type": "code",
   "source": [
    "DIGIN_ECHO = DIGIN_ECHO.assign(TEXT = DIGIN_ECHO[['DOCOMSCHR', 'Brief_txt', 'Conclusions_ECHO', 'gender', 'age']].apply(lambda x:\n",
    "                                                        f\"Document type:{x['DOCOMSCHR']}\\n\"+\\\n",
    "                                                        f\"Brief:{x['Brief_txt']}\\n\"+\\\n",
    "                                                        f\"Echo:{x['Conclusions_ECHO']}\\n\"+\\\n",
    "                                                        f\"Geslacht:{x['gender']}, Leeftijd:{str(x['age'])}\", axis=1))"
   ],
   "id": "d4823426f59ac72f",
   "outputs": [],
   "execution_count": null
  },
  {
   "metadata": {},
   "cell_type": "code",
   "source": "DIGIN_ECHO.head()",
   "id": "c8c77abf888c4f3",
   "outputs": [],
   "execution_count": null
  },
  {
   "metadata": {},
   "cell_type": "code",
   "source": [
    "DIGIN_ECHO['text_words'] = DIGIN_ECHO['TEXT'].apply(splitter)\n",
    "DIGIN_ECHO['text_len'] = DIGIN_ECHO['text_words'].apply(len)"
   ],
   "id": "9b96f5ab3a0f32ea",
   "outputs": [],
   "execution_count": null
  },
  {
   "metadata": {},
   "cell_type": "code",
   "source": [
    "print(f\"Number of words: {DIGIN_ECHO.text_len.sum()}\")\n",
    "unique_words = set()\n",
    "for l in DIGIN_ECHO['text_words'].values:\n",
    "    for w in l:\n",
    "        unique_words.add(w)\n",
    "print(f\"Number of unique words: {len(unique_words)}\")"
   ],
   "id": "55fd27f2ccb437d3",
   "outputs": [],
   "execution_count": null
  },
  {
   "metadata": {},
   "cell_type": "code",
   "source": [
    "DIGIN_ECHO[['create_dt', 'TEXT']].to_parquet(output_folder+\"/DIGIN_echo.parquet\")\n",
    "del DIGIN_ECHO\n",
    "gc.collect()"
   ],
   "id": "20173acda71dc5b6",
   "outputs": [],
   "execution_count": null
  },
  {
   "metadata": {},
   "cell_type": "code",
   "source": "DIGIN_POLI = pd.read_sas(r'L:\\lab_research\\RES-Folder-UPOD\\DIGIN\\E_ResearchData\\2_ResearchData\\pat_poli_brief_20231018.sas7bdat')",
   "id": "5791b470d2cda758",
   "outputs": [],
   "execution_count": null
  },
  {
   "metadata": {},
   "cell_type": "code",
   "source": [
    "# poli_date, age, gender\n",
    "DIGIN_POLI = DIGIN_POLI.assign(DOCOMSCHR=DIGIN_POLI.DOCOMSCHR.str.decode('latin1'))\n",
    "DIGIN_POLI = DIGIN_POLI.assign(SPECIALISM=DIGIN_POLI.SPECIALISM.str.decode('latin1'))\n",
    "DIGIN_POLI = DIGIN_POLI.assign(Brief_txt=DIGIN_POLI.Brief_txt.str.decode('latin1'))\n",
    "DIGIN_POLI = DIGIN_POLI.assign(OMSCHR_AGENDA=DIGIN_POLI.OMSCHR_AGENDA.str.decode('latin1'))\n",
    "DIGIN_POLI = DIGIN_POLI.assign(NAAM_AGENDA=DIGIN_POLI.NAAM_AGENDA.str.decode('latin1'))\n",
    "DIGIN_POLI = DIGIN_POLI.assign(gender=DIGIN_POLI.gender.str.decode('latin1'))\n",
    "DIGIN_POLI = DIGIN_POLI.assign(OMSCHR_Afspraak=DIGIN_POLI.OMSCHR_Afspraak.str.decode('latin1'))"
   ],
   "id": "529685037c2d95db",
   "outputs": [],
   "execution_count": null
  },
  {
   "metadata": {},
   "cell_type": "code",
   "source": [
    "DIGIN_POLI = DIGIN_POLI.assign(TEXT=DIGIN_POLI[['DOCOMSCHR', 'SPECIALISM', 'NAAM_AGENDA', 'OMSCHR_Afspraak', 'gender', 'age', 'Brief_txt']].apply(lambda x:\n",
    "                                            f\"Document: {x['DOCOMSCHR']}\\n\"\\\n",
    "                                            f\"Specialisme: {x['SPECIALISM']}\\n\"\\\n",
    "                                            f\"Specialisme: {x['NAAM_AGENDA']}\\n\"\\\n",
    "                                            f\"Afspraak: {x['OMSCHR_Afspraak']}\\n\"\\\n",
    "                                            f\"Geslacht: {x['gender']}, Leeftijd: {str(x['age'])}\\n\"\\\n",
    "                                            f\"Brief: {x['Brief_txt']}\" ,axis=1))"
   ],
   "id": "5aea9eadf6d72cfe",
   "outputs": [],
   "execution_count": null
  },
  {
   "metadata": {},
   "cell_type": "code",
   "source": [
    "DIGIN_POLI['text_words'] = DIGIN_POLI['TEXT'].apply(splitter)\n",
    "DIGIN_POLI['text_len'] = DIGIN_POLI['text_words'].apply(len)"
   ],
   "id": "f93c8e4428d481e1",
   "outputs": [],
   "execution_count": null
  },
  {
   "metadata": {},
   "cell_type": "code",
   "source": [
    "print(f\"Number of words: {DIGIN_POLI.text_len.sum()}\")\n",
    "unique_words = set()\n",
    "for l in DIGIN_POLI['text_words'].values:\n",
    "    for w in l:\n",
    "        unique_words.add(w)\n",
    "print(f\"Number of unique words: {len(unique_words)}\")"
   ],
   "id": "e3e5dd575050c7ab",
   "outputs": [],
   "execution_count": null
  },
  {
   "metadata": {},
   "cell_type": "code",
   "source": [
    "DIGIN_POLI[['poli_date', 'TEXT']].to_parquet(output_folder+\"/DIGIN_POLI.parquet\")\n",
    "del DIGIN_POLI\n",
    "gc.collect()"
   ],
   "id": "c98c81b63f4e4aa",
   "outputs": [],
   "execution_count": null
  },
  {
   "metadata": {},
   "cell_type": "markdown",
   "source": [
    " # [ ] DataTools4Heart\n",
    " 150.000 tokens"
   ],
   "id": "d0cee777a78eba9"
  },
  {
   "metadata": {},
   "cell_type": "code",
   "source": [
    "folder = r'T:\\lab_research\\RES-Folder-UPOD\\DataTools4Heart\\E_ResearchData\\2_ResearchData\\20240709'\n",
    "echo_conc = pd.read_sas(folder+\"/echo_concl_20240709.sas7bdat\")\n",
    "\n",
    "folder = r'T:\\lab_research\\RES-Folder-UPOD\\DataTools4Heart\\E_ResearchData\\2_ResearchData\\20240715'\n",
    "echo = pd.read_sas(folder+\"/echo_20240715.sas7bdat\")\n",
    "\n",
    "#ecg = pd.read_sas(folder+'/ecg_20240610.sas7bdat')\n",
    "#vital = pd.read_sas(folder+'/vitalsign_20240610.sas7bdat')"
   ],
   "id": "14c3fd83022bd5e6",
   "outputs": [],
   "execution_count": null
  },
  {
   "metadata": {},
   "cell_type": "code",
   "source": "echo.groupby(['studyId_0763', 'identifier_value']).size().hist(bins=20)",
   "id": "968230c68657ad5b",
   "outputs": [],
   "execution_count": null
  },
  {
   "metadata": {},
   "cell_type": "code",
   "source": [
    "echo_conc = echo_conc.assign(datum=echo_conc.effectiveDateTime.dt.date)\n",
    "echo_conc = echo_conc.assign(conclusion=echo_conc.conclusion.str.decode('latin1'))"
   ],
   "id": "a3b323a4f5952bb7",
   "outputs": [],
   "execution_count": null
  },
  {
   "metadata": {},
   "cell_type": "code",
   "source": [
    "echo_conc['text_words'] = echo_conc['conclusion'].apply(splitter)\n",
    "echo_conc['text_len'] = echo_conc['text_words'].apply(len)"
   ],
   "id": "f861e6f9137ec4be",
   "outputs": [],
   "execution_count": null
  },
  {
   "metadata": {},
   "cell_type": "code",
   "source": "echo_conc.text_len.sum()",
   "id": "9a84cbeb615c5a15",
   "outputs": [],
   "execution_count": null
  },
  {
   "metadata": {},
   "cell_type": "code",
   "source": "echo_conc[['datum', 'conclusion']].to_parquet(output_folder+\"/dt4h_echo.parquet\")",
   "id": "39dc9081cedab17",
   "outputs": [],
   "execution_count": null
  },
  {
   "metadata": {},
   "cell_type": "code",
   "outputs": [],
   "execution_count": null,
   "source": [
    "folder = r'T:\\lab_research\\RES-Folder-UPOD\\DataTools4Heart\\E_ResearchData\\2_ResearchData\\\\20240917'\n",
    "echo_label = pd.read_sas(folder+\"/echo_label_20240917.sas7bdat\")"
   ],
   "id": "dd095fea2b0c07a3"
  },
  {
   "metadata": {},
   "cell_type": "markdown",
   "source": "# [x] PobTriage",
   "id": "62d2d5d94de7ee92"
  },
  {
   "metadata": {},
   "cell_type": "code",
   "source": [
    "zdbrieven = r'T:\\lab_research\\RES-Folder-UPOD\\PobTriage\\E_ResearchData\\2_ResearchData\\20230130\\ZD_brieven_20230130.parquet'\n",
    "inkbrieven = r'T:\\lab_research\\RES-Folder-UPOD\\PobTriage\\E_ResearchData\\2_ResearchData\\Old\\inkomendebrieven.sas7bdat'\n",
    "verslagen = r'T:\\lab_research\\RES-Folder-UPOD\\PobTriage\\E_ResearchData\\2_ResearchData\\20230216\\verslagen_20230216.sas7bdat'\n",
    "ontslagbrieven = r'T:\\lab_research\\RES-Folder-UPOD\\PobTriage\\E_ResearchData\\2_ResearchData\\20230216\\ontslagbrieven_20230216.sas7bdat'\n",
    "\n",
    "zdbrieven_df = pd.read_parquet(zdbrieven)\n",
    "inkbrieven_df = pd.read_sas(inkbrieven)\n",
    "verslagen_df = pd.read_sas(verslagen)\n",
    "ontslagbrieven_df = pd.read_sas(ontslagbrieven)"
   ],
   "id": "4b7a9649650b6792",
   "outputs": [],
   "execution_count": null
  },
  {
   "metadata": {},
   "cell_type": "markdown",
   "source": [
    "### ZDbrieven\n",
    "\n",
    "6.4Million tokens"
   ],
   "id": "2fb7420a6cf65ede"
  },
  {
   "metadata": {},
   "cell_type": "code",
   "source": [
    "zdbrieven_df['text_words'] = zdbrieven_df['InkomendeBriefTekst_DOC'].apply(splitter)\n",
    "zdbrieven_df['text_len'] = zdbrieven_df['text_words'].apply(len)"
   ],
   "id": "afd370074b4f0edd",
   "outputs": [],
   "execution_count": null
  },
  {
   "metadata": {},
   "cell_type": "code",
   "source": "zdbrieven_df['text_len'].sum()",
   "id": "f891901d08ca61ca",
   "outputs": [],
   "execution_count": null
  },
  {
   "metadata": {},
   "cell_type": "code",
   "source": "zdbrieven_df.text_len.hist(bins=30)",
   "id": "38a43aac90bae2f2",
   "outputs": [],
   "execution_count": null
  },
  {
   "metadata": {},
   "cell_type": "code",
   "source": "zdbrieven_df[['jaar', 'InkomendeBriefTekst_DOC']].to_parquet(output_folder+\"/ZDBrieven_PoBTriage.parquet\")",
   "id": "d4b21483a8384294",
   "outputs": [],
   "execution_count": null
  },
  {
   "metadata": {},
   "cell_type": "markdown",
   "source": [
    "### Inkomende brieven\n",
    "\n",
    "190.000 tokens"
   ],
   "id": "703467510190e03a"
  },
  {
   "metadata": {},
   "cell_type": "code",
   "source": "inkbrieven_df = inkbrieven_df.assign(reporttxt=inkbrieven_df.reporttxt.str.decode('latin1'))",
   "id": "9aa353d83a082e8",
   "outputs": [],
   "execution_count": null
  },
  {
   "metadata": {},
   "cell_type": "code",
   "source": "inkbrieven_df = inkbrieven_df.dropna(subset=['reporttxt'])",
   "id": "95e97b93fd7adbf8",
   "outputs": [],
   "execution_count": null
  },
  {
   "metadata": {},
   "cell_type": "code",
   "source": [
    "inkbrieven_df = inkbrieven_df.assign(text_words=inkbrieven_df['reporttxt'].apply(splitter))\n",
    "\n",
    "inkbrieven_df  = inkbrieven_df.assign(text_len = inkbrieven_df['text_words'].apply(len))"
   ],
   "id": "2909236d5f6746b2",
   "outputs": [],
   "execution_count": null
  },
  {
   "metadata": {},
   "cell_type": "code",
   "source": "inkbrieven_df.text_len.sum()",
   "id": "97556a1c7eee70f7",
   "outputs": [],
   "execution_count": null
  },
  {
   "metadata": {},
   "cell_type": "code",
   "source": "inkbrieven_df[['reporttxt']].to_parquet(output_folder+\"/INKBrieven_PoBTriage.parquet\")",
   "id": "66e108b7ecbe9405",
   "outputs": [],
   "execution_count": null
  },
  {
   "metadata": {},
   "cell_type": "markdown",
   "source": [
    "### Verslagen\n",
    "\n",
    "1.75Million tokens"
   ],
   "id": "8f6b218abba523d6"
  },
  {
   "metadata": {},
   "cell_type": "code",
   "source": [
    "verslagen_df = verslagen_df.assign(indicatie=verslagen_df.indicatie.str.decode('latin1'))\n",
    "\n",
    "verslagen_df = verslagen_df.assign(transtext=verslagen_df.transtext.str.decode('latin1'))\n",
    "\n",
    "verslagen_df = verslagen_df.assign(plattetext=verslagen_df.plattetext.str.decode('latin1'))\n",
    "\n",
    "verslagen_df = verslagen_df.assign(tekst=verslagen_df.tekst.str.decode('latin1'))\n"
   ],
   "id": "26419c03474b8f7c",
   "outputs": [],
   "execution_count": null
  },
  {
   "metadata": {},
   "cell_type": "code",
   "source": [
    "def stitch_text(x):\n",
    "    txt = \"\"\n",
    "    if (isinstance(x['indicatie'], str)):\n",
    "        txt += \"Indicatie: \" + x['indicatie']\n",
    "    if (isinstance(x['transtext'], str)):\n",
    "        txt += \"\\nTransText: \" + x['transtext']\n",
    "    if (isinstance(x['plattetext'], str)):\n",
    "        txt += \"\\nPlatteText: \" + x['plattetext']\n",
    "    return txt"
   ],
   "id": "739ca8e9036f0ab1",
   "outputs": [],
   "execution_count": null
  },
  {
   "metadata": {},
   "cell_type": "code",
   "source": "verslagen_df = verslagen_df.assign(text=verslagen_df[['indicatie', 'transtext', 'plattetext']].apply(stitch_text, axis=1))",
   "id": "c863cbfbc651fbc2",
   "outputs": [],
   "execution_count": null
  },
  {
   "metadata": {},
   "cell_type": "code",
   "source": [
    "verslagen_df = verslagen_df.assign(text_words=verslagen_df['text'].apply(splitter))\n",
    "\n",
    "verslagen_df  = verslagen_df.assign(text_len = verslagen_df['text_words'].apply(len))"
   ],
   "id": "d7b8d86ae5d0a86c",
   "outputs": [],
   "execution_count": null
  },
  {
   "metadata": {},
   "cell_type": "code",
   "source": "verslagen_df.text_len.sum()",
   "id": "6021cd917bcf631e",
   "outputs": [],
   "execution_count": null
  },
  {
   "metadata": {},
   "cell_type": "code",
   "source": "verslagen_df[['indexdate', 'text']].to_parquet(output_folder+\"/verslagen_PoBTriage.parquet\")",
   "id": "16e11fbe42cbd0b0",
   "outputs": [],
   "execution_count": null
  },
  {
   "metadata": {},
   "cell_type": "markdown",
   "source": [
    "### Ontslagbrieven\n",
    "\n",
    "15Million tokens"
   ],
   "id": "9bb2762b216ceefb"
  },
  {
   "metadata": {},
   "cell_type": "code",
   "source": [
    "ontslagbrieven_df = ontslagbrieven_df.assign(docOmsch=ontslagbrieven_df.docOmsch.str.decode('latin1'))\n",
    "\n",
    "ontslagbrieven_df = ontslagbrieven_df.assign(plattetext=ontslagbrieven_df.plattetext.str.decode('latin1'))\n"
   ],
   "id": "664cb318c306ad17",
   "outputs": [],
   "execution_count": null
  },
  {
   "metadata": {},
   "cell_type": "code",
   "source": [
    "def stitch_text(x):\n",
    "    txt = \"\"\n",
    "    if (isinstance(x['docOmsch'], str)):\n",
    "        txt += \"Specialisme: \" + x['docOmsch']\n",
    "    if (isinstance(x['plattetext'], str)):\n",
    "        txt += \"\\nPlatteText: \" + x['plattetext']\n",
    "    return txt"
   ],
   "id": "24344b5a2710d1d1",
   "outputs": [],
   "execution_count": null
  },
  {
   "metadata": {},
   "cell_type": "code",
   "source": "ontslagbrieven_df = ontslagbrieven_df.assign(text=ontslagbrieven_df[['docOmsch', 'plattetext']].apply(stitch_text, axis=1))",
   "id": "90cf8a577dbac322",
   "outputs": [],
   "execution_count": null
  },
  {
   "metadata": {},
   "cell_type": "code",
   "source": [
    "ontslagbrieven_df = ontslagbrieven_df.assign(text_words=ontslagbrieven_df['text'].apply(splitter))\n",
    "\n",
    "ontslagbrieven_df  = ontslagbrieven_df.assign(text_len = ontslagbrieven_df['text_words'].apply(len))"
   ],
   "id": "4e1a827b0f9ce5b",
   "outputs": [],
   "execution_count": null
  },
  {
   "metadata": {},
   "cell_type": "code",
   "source": "ontslagbrieven_df.text_len.sum()",
   "id": "e83a863153f06566",
   "outputs": [],
   "execution_count": null
  },
  {
   "metadata": {},
   "cell_type": "code",
   "source": "ontslagbrieven_df.to_parquet(output_folder+\"/ontslagbrieven_PoBTriage.parquet\")",
   "id": "4c0783f4f25e2332",
   "outputs": [],
   "execution_count": null
  },
  {
   "metadata": {},
   "cell_type": "markdown",
   "source": "# [x] CCN",
   "id": "fa2241e34465d41b"
  },
  {
   "metadata": {},
   "cell_type": "markdown",
   "source": [
    "### Decursus\n",
    "\n",
    "26Million tokens"
   ],
   "id": "102fb5fdd38b0962"
  },
  {
   "metadata": {
    "ExecuteTime": {
     "end_time": "2024-09-02T11:26:09.387486Z",
     "start_time": "2024-09-02T11:26:05.180950Z"
    }
   },
   "cell_type": "code",
   "source": "ccn_decursus_df = pd.read_csv(r'T:\\laupodteam\\AIOS\\Bram\\data\\Argus\\external_validation\\ccn\\C_Data\\4 Final_data\\FINAL_CSV\\RAW_2\\decursus_15jan2019.csv', sep=';', encoding='latin1', low_memory=False)",
   "id": "b15cdaae90959485",
   "outputs": [],
   "execution_count": 37
  },
  {
   "metadata": {
    "ExecuteTime": {
     "end_time": "2024-09-02T11:26:12.441014Z",
     "start_time": "2024-09-02T11:26:09.390487Z"
    }
   },
   "cell_type": "code",
   "source": [
    "# TODO: PROCESS\n",
    "folderCheck = r'T:\\laupodteam\\AIOS\\Bram\\data\\Argus\\external_validation\\ccn\\C_Data\\1 Raw_data\\CSV datafiles february 2018'\n",
    "\n",
    "decursus_extra_list = []\n",
    "for f in os.listdir(folderCheck):\n",
    "    if (f.endswith(\".csv\")) & ('ExamData_Zorgtraject_Keuring_Decursus' in f):\n",
    "        print(f\"Loading {f}...\")\n",
    "        df = pd.read_csv(os.path.join(folderCheck, f), sep=',', encoding='latin1', low_memory=False)\n",
    "        decursus_extra_list.append(df[['PATIENT_NUMBER', 'REGISTRATION_REASON', 'APPOINTMENT_DATE', 'REDEN_VAN_VERWIJZING', 'DECURSUS', 'BELEID', 'DIAGNOSE']])\n",
    "decursus_extra_df = pd.concat(decursus_extra_list)\n"
   ],
   "id": "4002c9f1ecf43f33",
   "outputs": [
    {
     "name": "stdout",
     "output_type": "stream",
     "text": [
      "Loading ExamData_Zorgtraject_Keuring_Decursus_20180228_part1.csv...\n",
      "Loading ExamData_Zorgtraject_Keuring_Decursus_20180228_part2.csv...\n"
     ]
    }
   ],
   "execution_count": 38
  },
  {
   "metadata": {
    "ExecuteTime": {
     "end_time": "2024-09-02T11:26:17.601306Z",
     "start_time": "2024-09-02T11:26:12.443515Z"
    }
   },
   "cell_type": "code",
   "source": [
    "# TODO: PROCESS\n",
    "consult_extra_list = []\n",
    "for f in os.listdir(folderCheck):\n",
    "    if (f.endswith(\".csv\")) & ('ExamData_Zorgtraject_Keuring_Consult' in f):\n",
    "        print(f\"Loading {f}...\")\n",
    "        df = pd.read_csv(os.path.join(folderCheck, f), sep=',', encoding='latin1', low_memory=False)\n",
    "        consult_extra_list.append(df)\n",
    "consult_extra_df = pd.concat(consult_extra_list)"
   ],
   "id": "d0ef328d59df4739",
   "outputs": [
    {
     "name": "stdout",
     "output_type": "stream",
     "text": [
      "Loading ExamData_Zorgtraject_Keuring_Consult_20180228_part1.csv...\n",
      "Loading ExamData_Zorgtraject_Keuring_Consult_20180228_part2.csv...\n",
      "Loading ExamData_Zorgtraject_Keuring_Consult_20180228_part3.csv...\n"
     ]
    }
   ],
   "execution_count": 39
  },
  {
   "metadata": {
    "ExecuteTime": {
     "end_time": "2024-09-02T11:26:17.709807Z",
     "start_time": "2024-09-02T11:26:17.605313Z"
    }
   },
   "cell_type": "code",
   "source": "# TODO: merge decursus_extra_df and consult_extra_df",
   "id": "711dfc43fed8c653",
   "outputs": [],
   "execution_count": 40
  },
  {
   "metadata": {
    "ExecuteTime": {
     "end_time": "2024-09-02T11:26:18.050866Z",
     "start_time": "2024-09-02T11:26:17.713308Z"
    }
   },
   "cell_type": "code",
   "source": [
    "ccn_external = pd.read_csv(r'T:\\laupodteam\\AIOS\\Bram\\data\\Argus\\external_validation\\ccn\\C_Data\\4 Final_data\\FINAL_CSV\\RAW_2\\external_15jan2019.csv', sep=';', encoding='latin1', low_memory=False)\n",
    "\n",
    "ccn_external = ccn_external.dropna(subset=['EXT_REPORT'])\n"
   ],
   "id": "88d3ec3f9a9e498f",
   "outputs": [],
   "execution_count": 41
  },
  {
   "metadata": {
    "ExecuteTime": {
     "end_time": "2024-09-02T11:26:18.143810Z",
     "start_time": "2024-09-02T11:26:18.053310Z"
    }
   },
   "cell_type": "code",
   "source": [
    "def stitch_text(x):\n",
    "    txt = \"\"\n",
    "    if (isinstance(x['EXT_PROCEDURE'], str)):\n",
    "        txt += \"Procedure: \" + x['EXT_PROCEDURE']\n",
    "    if (isinstance(x['EXT_REPORT'], str)):\n",
    "        txt += \" Uitslag: \" + x['EXT_REPORT']\n",
    "    return txt"
   ],
   "id": "83a6011ce222f35f",
   "outputs": [],
   "execution_count": 42
  },
  {
   "metadata": {
    "ExecuteTime": {
     "end_time": "2024-09-02T11:26:18.577813Z",
     "start_time": "2024-09-02T11:26:18.146312Z"
    }
   },
   "cell_type": "code",
   "source": "ccn_external = ccn_external.assign(ProcedureText=ccn_external[['EXT_PROCEDURE', 'EXT_REPORT']].apply(stitch_text, axis=1))",
   "id": "7fc6f3340f8cb40b",
   "outputs": [],
   "execution_count": 43
  },
  {
   "metadata": {
    "ExecuteTime": {
     "end_time": "2024-09-02T11:26:18.872315Z",
     "start_time": "2024-09-02T11:26:18.580315Z"
    }
   },
   "cell_type": "code",
   "source": [
    "ccn_decursus_df = pd.merge_asof(ccn_decursus_df, ccn_external[['studyId_CCN_Sophie', 'ProcedureText', 'EXT_DATE']],\n",
    "           on='studyId_CCN_Sophie',\n",
    "           allow_exact_matches=True,\n",
    "           left_by='APPOINTMENT_DATE',\n",
    "           right_by='EXT_DATE',\n",
    "           direction='nearest'\n",
    "           )\n",
    "\n"
   ],
   "id": "124c60e22c67aca4",
   "outputs": [],
   "execution_count": 44
  },
  {
   "metadata": {
    "ExecuteTime": {
     "end_time": "2024-09-02T11:26:19.011817Z",
     "start_time": "2024-09-02T11:26:18.874816Z"
    }
   },
   "cell_type": "code",
   "source": [
    "def stitch_text(x):\n",
    "    txt = \"\"\n",
    "    if (isinstance(x['DECURSUS'], str)):\n",
    "        txt += \"Decursus: \" + x['DECURSUS']\n",
    "    if (isinstance(x['ProcedureText'], str)):\n",
    "        txt += \"Procedure: \" + x['ProcedureText']\n",
    "    if (isinstance(x['TREATMENT_PLAN'], str)):\n",
    "        txt += \"\\nBehandelplan: \" + x['TREATMENT_PLAN']\n",
    "    return txt"
   ],
   "id": "14c63632eac20949",
   "outputs": [],
   "execution_count": 45
  },
  {
   "metadata": {
    "ExecuteTime": {
     "end_time": "2024-09-02T11:26:24.669369Z",
     "start_time": "2024-09-02T11:26:19.016318Z"
    }
   },
   "cell_type": "code",
   "source": [
    "ccn_decursus_df = ccn_decursus_df.assign(text=ccn_decursus_df[['DECURSUS', 'TREATMENT_PLAN', 'ProcedureText']].apply(stitch_text, axis=1))\n",
    "ccn_decursus_df = ccn_decursus_df.dropna(subset=['DECURSUS', 'TREATMENT_PLAN'], how='all')"
   ],
   "id": "d0a9677b8a3c18e6",
   "outputs": [],
   "execution_count": 46
  },
  {
   "metadata": {
    "ExecuteTime": {
     "end_time": "2024-09-02T11:26:34.558455Z",
     "start_time": "2024-09-02T11:26:24.672366Z"
    }
   },
   "cell_type": "code",
   "source": [
    "ccn_decursus_df = ccn_decursus_df.assign(text_words=ccn_decursus_df['text'].apply(splitter))\n",
    "ccn_decursus_df  = ccn_decursus_df.assign(text_len = ccn_decursus_df['text_words'].apply(len))\n",
    "ccn_decursus_df.text_len.sum()"
   ],
   "id": "32ae4122f6e0c077",
   "outputs": [],
   "execution_count": 47
  },
  {
   "metadata": {},
   "cell_type": "code",
   "source": "ccn_decursus_df[['APPOINTMENT_DATE', 'text']].to_parquet(output_folder+\"/CCN_decursus.parquet\")",
   "id": "291e8ceccf55d76e",
   "outputs": [],
   "execution_count": null
  },
  {
   "metadata": {},
   "cell_type": "markdown",
   "source": [
    "### Consult\n",
    "\n",
    "1.5Million words"
   ],
   "id": "fc0f3e60ab2dd39a"
  },
  {
   "metadata": {
    "ExecuteTime": {
     "end_time": "2024-09-02T11:11:11.390984Z",
     "start_time": "2024-09-02T11:11:05.541418Z"
    }
   },
   "cell_type": "code",
   "source": [
    "# TODO: add to ccn_decursus_df with merge_asof\n",
    "ccn_consult_df = pd.read_csv(r'T:\\laupodteam\\AIOS\\Bram\\data\\Argus\\external_validation\\ccn\\C_Data\\4 Final_data\\FINAL_CSV\\PROCESSED\\20210601_consult.csv', sep=\";\", encoding='latin1', low_memory=False)"
   ],
   "id": "cd0a99d339665188",
   "outputs": [],
   "execution_count": 4
  },
  {
   "metadata": {
    "ExecuteTime": {
     "end_time": "2024-09-02T11:14:42.156839Z",
     "start_time": "2024-09-02T11:14:42.040339Z"
    }
   },
   "cell_type": "code",
   "source": "# TODO: process the contents of the consult columns into text.",
   "id": "a996f82dc457ba86",
   "outputs": [],
   "execution_count": 8
  },
  {
   "metadata": {
    "ExecuteTime": {
     "end_time": "2024-09-02T11:24:58.386879Z",
     "start_time": "2024-09-02T11:24:55.492319Z"
    }
   },
   "cell_type": "code",
   "source": [
    "# MH_EXTRA\n",
    "ConsultTexts = ccn_consult_df.sort_values(by='APPOINTMENT_DATE')[['PATIENT_NUMBER', 'MH_EXTRA']].dropna().groupby('PATIENT_NUMBER').MH_EXTRA.apply(lambda x: \"\\n\".join(x)).to_frame()"
   ],
   "id": "87c70e3e75a2afa0",
   "outputs": [],
   "execution_count": 34
  },
  {
   "metadata": {
    "ExecuteTime": {
     "end_time": "2024-09-02T11:25:02.724713Z",
     "start_time": "2024-09-02T11:25:01.514380Z"
    }
   },
   "cell_type": "code",
   "source": "ConsultTexts.to_parquet(output_folder+\"/CCN_consults.parquet\")",
   "id": "fbd52b24a79650d8",
   "outputs": [],
   "execution_count": 36
  },
  {
   "metadata": {
    "ExecuteTime": {
     "end_time": "2024-09-02T11:30:58.206118Z",
     "start_time": "2024-09-02T11:30:57.093110Z"
    }
   },
   "cell_type": "code",
   "source": [
    "ConsultTexts = ConsultTexts.assign(text_words=ConsultTexts['MH_EXTRA'].apply(splitter))\n",
    "ConsultTexts  = ConsultTexts.assign(text_len = ConsultTexts['text_words'].apply(len))\n",
    "ConsultTexts.text_len.sum()"
   ],
   "id": "2d80b9491e588e4e",
   "outputs": [
    {
     "data": {
      "text/plain": [
       "1515892"
      ]
     },
     "execution_count": 55,
     "metadata": {},
     "output_type": "execute_result"
    }
   ],
   "execution_count": 55
  },
  {
   "metadata": {},
   "cell_type": "markdown",
   "source": "## [x] HMC ",
   "id": "ca91615cedd4e083"
  },
  {
   "metadata": {},
   "cell_type": "code",
   "source": [
    "HMC_RAD_df = pd.read_feather(r'T:\\laupodteam\\AIOS\\Bram\\data\\Argus\\external_validation\\hmc\\radiology_txt.feather')\n",
    "HMC_RAD_CARDIO_df = pd.read_feather(r'T:\\laupodteam\\AIOS\\Bram\\data\\Argus\\external_validation\\hmc\\radiology_cardio_txt.feather')\n",
    "HMC_Decursus_df = pd.read_feather(r'T:\\laupodteam\\AIOS\\Bram\\data\\Argus\\external_validation\\hmc\\decursus_txt.feather')"
   ],
   "id": "592973e6d7726c82",
   "outputs": [],
   "execution_count": null
  },
  {
   "metadata": {},
   "cell_type": "markdown",
   "source": [
    "### Radiology\n",
    "\n",
    "44Million tokens"
   ],
   "id": "f5ec58efe81c7444"
  },
  {
   "metadata": {},
   "cell_type": "code",
   "source": [
    "HMC_RAD_df = HMC_RAD_df.assign(text_words=HMC_RAD_df['ReportTxt'].apply(splitter))\n",
    "HMC_RAD_df  = HMC_RAD_df.assign(text_len = HMC_RAD_df['text_words'].apply(len))"
   ],
   "id": "5b4c208289b4804e",
   "outputs": [],
   "execution_count": null
  },
  {
   "metadata": {},
   "cell_type": "code",
   "source": "HMC_RAD_df.text_len.sum()",
   "id": "4bb19f1b085e45e1",
   "outputs": [],
   "execution_count": null
  },
  {
   "metadata": {},
   "cell_type": "code",
   "source": "HMC_RAD_df[['Onderz_dt', 'ReportTxt']].to_parquet(output_folder+\"/HMC_radio.parquet\")",
   "id": "92a31a42f31eaea1",
   "outputs": [],
   "execution_count": null
  },
  {
   "metadata": {},
   "cell_type": "markdown",
   "source": [
    "### Radiology cardio\n",
    "\n",
    "14Million tokens"
   ],
   "id": "453b4f58212ce925"
  },
  {
   "metadata": {},
   "cell_type": "code",
   "source": [
    "HMC_RAD_CARDIO_df = HMC_RAD_CARDIO_df.assign(text_words=HMC_RAD_CARDIO_df['ReportTxt'].apply(splitter))\n",
    "HMC_RAD_CARDIO_df  = HMC_RAD_CARDIO_df.assign(text_len = HMC_RAD_CARDIO_df['text_words'].apply(len))"
   ],
   "id": "ef3ec07d36913926",
   "outputs": [],
   "execution_count": null
  },
  {
   "metadata": {},
   "cell_type": "code",
   "source": "HMC_RAD_CARDIO_df.text_len.sum()",
   "id": "35b7f36705db60a1",
   "outputs": [],
   "execution_count": null
  },
  {
   "metadata": {},
   "cell_type": "code",
   "source": "HMC_RAD_CARDIO_df[['Onderz_dt', 'ReportTxt']].to_parquet(output_folder+\"/HMC_radio_cardio.parquet\")",
   "id": "fd6631769297df96",
   "outputs": [],
   "execution_count": null
  },
  {
   "metadata": {},
   "cell_type": "markdown",
   "source": [
    "### Decursus\n",
    "\n",
    "110Million tokens"
   ],
   "id": "6e136d42f3550ae1"
  },
  {
   "metadata": {},
   "cell_type": "code",
   "source": [
    "HMC_Decursus_df = HMC_Decursus_df.assign(text_words=HMC_Decursus_df['ReportTxt'].apply(splitter))\n",
    "HMC_Decursus_df  = HMC_Decursus_df.assign(text_len = HMC_Decursus_df['text_words'].apply(len))"
   ],
   "id": "ab08210b925489a6",
   "outputs": [],
   "execution_count": null
  },
  {
   "metadata": {},
   "cell_type": "code",
   "source": "HMC_Decursus_df.text_len.sum()",
   "id": "f58d224acfdf32d5",
   "outputs": [],
   "execution_count": null
  },
  {
   "metadata": {},
   "cell_type": "code",
   "source": "HMC_Decursus_df[['create_dt', 'ReportTxt']].to_parquet(output_folder+\"/HMC_decursus.parquet\")",
   "id": "c25d8df1a660d354",
   "outputs": [],
   "execution_count": null
  },
  {
   "metadata": {},
   "cell_type": "markdown",
   "source": [
    "## ARGUS\n",
    "\n",
    "* Radio\n",
    "* Echo\n",
    "* Decursus\n",
    "* Inkomende brieven"
   ],
   "id": "a505a3e81f5d9fd1"
  },
  {
   "metadata": {},
   "cell_type": "code",
   "source": "",
   "id": "ef220ef14337f09c",
   "outputs": [],
   "execution_count": null
  },
  {
   "metadata": {},
   "cell_type": "markdown",
   "source": [
    "# [x] SMART\n",
    "\n",
    "9.3Million tokens"
   ],
   "id": "7469888c96518d43"
  },
  {
   "metadata": {},
   "cell_type": "code",
   "source": [
    "smart_df = pd.read_csv(r\"T:\\laupodteam\\AIOS\\Bram\\data\\Argus\\text_data\\SMART\\output_dataset_cardio.csv\", sep=\";\", encoding='latin1')\n",
    "\n",
    "smart_df = smart_df.assign(text=smart_df.text.str.replace(\"..\", \"\\n\"))\n",
    "\n",
    "smart_df = smart_df.assign(text_words=smart_df['text'].apply(splitter))\n",
    "smart_df  = smart_df.assign(text_len = smart_df['text_words'].apply(len))"
   ],
   "id": "6992d713b22741e2",
   "outputs": [],
   "execution_count": null
  },
  {
   "metadata": {},
   "cell_type": "code",
   "source": "smart_df.text_len.sum()",
   "id": "20a22a53eb09c828",
   "outputs": [],
   "execution_count": null
  },
  {
   "metadata": {},
   "cell_type": "code",
   "source": "smart_df.to_parquet(output_folder+\"/SMART.parquet\")",
   "id": "a2856f558a2c23b3",
   "outputs": [],
   "execution_count": null
  },
  {
   "metadata": {},
   "cell_type": "markdown",
   "source": "# [x] Kidney",
   "id": "7aa6573ad1ed2bb9"
  },
  {
   "metadata": {
    "ExecuteTime": {
     "end_time": "2024-08-26T14:36:26.962222Z",
     "start_time": "2024-08-26T14:36:15.703498Z"
    }
   },
   "cell_type": "code",
   "source": "consults  = pd.read_sas(r'T:\\lab_research\\RES-Folder-UPOD\\ODIN-UC4\\E_ResearchData\\2_ResearchData\\20240826\\consult_20240826.sas7bdat', encoding='latin1')",
   "id": "3fd881a0b4b823c7",
   "outputs": [],
   "execution_count": 6
  },
  {
   "metadata": {
    "ExecuteTime": {
     "end_time": "2024-08-26T14:45:49.048170Z",
     "start_time": "2024-08-26T14:45:48.883176Z"
    }
   },
   "cell_type": "code",
   "source": "consults = consults.assign(date=consults['date'].dt.date)",
   "id": "e366d2048721e61f",
   "outputs": [],
   "execution_count": 14
  },
  {
   "metadata": {
    "ExecuteTime": {
     "end_time": "2024-08-26T14:49:08.309716Z",
     "start_time": "2024-08-26T14:49:07.045705Z"
    }
   },
   "cell_type": "code",
   "source": [
    "# 'Geriatrie' title, section_title_display_original, section_text, date\n",
    "def stitch_text(x):\n",
    "    txt = \"Geriatrie. \\n\"\n",
    "    if (isinstance(x['title'], str)):\n",
    "        txt += \"Betreft: \" + x['title']\n",
    "    if (isinstance(x['section_title_display_original'], str)):\n",
    "        txt += \"\\nBetreft: \" + x['section_title_display_original']\n",
    "    if (isinstance(x['section_text'], str)):\n",
    "        txt += \"\\nInhoud: \" + x['section_text']\n",
    "    return txt\n",
    "\n",
    "consults['text'] = consults[['title', 'section_title_display_original', 'section_text']].apply(stitch_text, axis=1)\n",
    "consults = consults.assign(txtlen=consults.text.str.len())"
   ],
   "id": "816d9fc62cecf222",
   "outputs": [],
   "execution_count": 21
  },
  {
   "metadata": {
    "ExecuteTime": {
     "end_time": "2024-08-26T14:51:34.403285Z",
     "start_time": "2024-08-26T14:51:34.066281Z"
    }
   },
   "cell_type": "code",
   "source": "consults.txtlen.hist(bins=100)",
   "id": "cb4228a7985d3bdc",
   "outputs": [
    {
     "data": {
      "text/plain": [
       "<AxesSubplot:>"
      ]
     },
     "execution_count": 26,
     "metadata": {},
     "output_type": "execute_result"
    },
    {
     "data": {
      "text/plain": [
       "<Figure size 432x288 with 1 Axes>"
      ],
      "image/png": "[encoded data removed]"
     },
     "metadata": {
      "needs_background": "light"
     },
     "output_type": "display_data"
    }
   ],
   "execution_count": 26
  },
  {
   "metadata": {
    "ExecuteTime": {
     "end_time": "2024-08-26T14:55:33.628396Z",
     "start_time": "2024-08-26T14:55:31.915385Z"
    }
   },
   "cell_type": "code",
   "source": "consults.loc[consults.txtlen>200,['date', 'text']].to_parquet(output_folder+\"/ODIN_CONSULTS.parquet\")",
   "id": "5fde7889b3bcecce",
   "outputs": [],
   "execution_count": 33
  },
  {
   "metadata": {},
   "cell_type": "markdown",
   "source": "# GENERIC DUTCH MEDICAL CORPORA",
   "id": "c7ecb06456bea1d6"
  },
  {
   "metadata": {},
   "cell_type": "markdown",
   "source": [
    "## NtVG\n",
    "\n",
    "**33M words**"
   ],
   "id": "a9538c1eb748b5bb"
  },
  {
   "metadata": {
    "ExecuteTime": {
     "end_time": "2024-09-02T15:26:41.061169Z",
     "start_time": "2024-09-02T15:26:38.340087Z"
    }
   },
   "cell_type": "code",
   "source": "ntvg = pd.read_feather(r'T:\\laupodteam\\AIOS\\Bram\\language_modeling\\MEDICAL_TEXT\\RAW\\NtvG\\ntvg_articles.feather')",
   "id": "d58e6c04aa8d341c",
   "outputs": [],
   "execution_count": 61
  },
  {
   "metadata": {
    "ExecuteTime": {
     "end_time": "2024-09-02T15:26:41.899675Z",
     "start_time": "2024-09-02T15:26:41.064669Z"
    }
   },
   "cell_type": "code",
   "source": [
    "def concat_text(x):\n",
    "    if isinstance(x, np.ndarray):\n",
    "        if len(x)>=2:\n",
    "            if len(x)==2:\n",
    "                return x[1]+\":\"+x[0]\n",
    "            elif len(x)==3:\n",
    "                return x[1]+\":\"+x[0]+\"\\n\"+x[2]\n",
    "            elif len(x)>3:\n",
    "                return \"\\n\".join(x)\n",
    "        else:\n",
    "            return x\n",
    "    else:\n",
    "        return x\n",
    "ntvg = ntvg.assign(text=ntvg.body_clean.apply(concat_text))\n",
    "ntvg = ntvg.assign(category = ntvg.category.replace('Diagnose in beeld', 'Diagnose'))\n"
   ],
   "id": "6663660d9f1eee66",
   "outputs": [],
   "execution_count": 62
  },
  {
   "metadata": {
    "ExecuteTime": {
     "end_time": "2024-09-02T15:26:42.254676Z",
     "start_time": "2024-09-02T15:26:41.904180Z"
    }
   },
   "cell_type": "code",
   "source": [
    "ntvg = ntvg.assign(category = ntvg.category.astype('str'))\n",
    "ntvg = ntvg.assign(domain = ntvg.domain.astype('str'))\n",
    "ntvg = ntvg.assign(text = ntvg.text.astype('str'))"
   ],
   "id": "6915fae8309fd867",
   "outputs": [],
   "execution_count": 63
  },
  {
   "metadata": {
    "ExecuteTime": {
     "end_time": "2024-09-02T15:26:42.859180Z",
     "start_time": "2024-09-02T15:26:42.682678Z"
    }
   },
   "cell_type": "code",
   "source": [
    "def concat_summaries(x):\n",
    "    if x is not None:\n",
    "        if isinstance(x, np.ndarray):\n",
    "            return \"\\n\".join(x)\n",
    "        else:\n",
    "            return \"\"\n",
    "    else:\n",
    "        return \"\"\n",
    "ntvg = ntvg.assign(summary_text = \"\")\n",
    "ntvg = ntvg.assign(summary_text = ntvg.summary_clean.apply(concat_summaries))"
   ],
   "id": "6f29af97b9015f9a",
   "outputs": [],
   "execution_count": 64
  },
  {
   "metadata": {
    "ExecuteTime": {
     "end_time": "2024-09-02T15:28:41.908047Z",
     "start_time": "2024-09-02T15:28:40.377541Z"
    }
   },
   "cell_type": "code",
   "source": "ntvg = ntvg.assign(total_text = ntvg[['text', 'summary_text']].apply(lambda x: \"\\n\".join(x), axis=1))",
   "id": "acf1d68eb4e602f9",
   "outputs": [],
   "execution_count": 69
  },
  {
   "metadata": {
    "ExecuteTime": {
     "end_time": "2024-09-02T15:29:17.474873Z",
     "start_time": "2024-09-02T15:29:09.237973Z"
    }
   },
   "cell_type": "code",
   "source": [
    "ntvg[['category', 'domain', 'total_text']].to_parquet(output_folder+\"/ntvg.parquet\")\n",
    "ntvg = ntvg.assign(num_contents = ntvg.body_clean.apply(lambda x: len(x)))\n",
    "ntvg = ntvg.assign(txtlen=ntvg.total_text.str.split().apply(lambda x: len(x)))"
   ],
   "id": "3058e64a3827f96e",
   "outputs": [],
   "execution_count": 70
  },
  {
   "metadata": {
    "ExecuteTime": {
     "end_time": "2024-09-02T15:29:19.684707Z",
     "start_time": "2024-09-02T15:29:19.571206Z"
    }
   },
   "cell_type": "code",
   "source": "ntvg.txtlen.sum()",
   "id": "a11eb2d672aa1023",
   "outputs": [
    {
     "data": {
      "text/plain": [
       "33133048"
      ]
     },
     "execution_count": 71,
     "metadata": {},
     "output_type": "execute_result"
    }
   ],
   "execution_count": 71
  },
  {
   "metadata": {},
   "cell_type": "code",
   "outputs": [],
   "execution_count": null,
   "source": "# concat with summary_clean, if available",
   "id": "ba729a4243c8b97a"
  },
  {
   "metadata": {},
   "cell_type": "markdown",
   "source": "## NHG",
   "id": "54497a95ad0284e8"
  },
  {
   "metadata": {},
   "cell_type": "code",
   "source": "",
   "id": "9a25b7e709c2f938",
   "outputs": [],
   "execution_count": null
  },
  {
   "metadata": {},
   "cell_type": "markdown",
   "source": "## HeNW",
   "id": "3bff4163721142f6"
  },
  {
   "metadata": {},
   "cell_type": "code",
   "source": "",
   "id": "16f3b87f29f58d31",
   "outputs": [],
   "execution_count": null
  },
  {
   "metadata": {},
   "cell_type": "markdown",
   "source": "## Medical Wiki",
   "id": "fe40c236bb4ee045"
  },
  {
   "metadata": {},
   "cell_type": "code",
   "source": "",
   "id": "ac99a5172ba62d04",
   "outputs": [],
   "execution_count": null
  }
 ],
 "metadata": {
  "kernelspec": {
   "display_name": "Python 3 (nlp_310)",
   "language": "python",
   "name": "python3_nlp"
  },
  "language_info": {
   "codemirror_mode": {
    "name": "ipython",
    "version": 2
   },
   "file_extension": ".py",
   "mimetype": "text/x-python",
   "name": "python",
   "nbconvert_exporter": "python",
   "pygments_lexer": "ipython2",
   "version": "2.7.6"
  }
 },
 "nbformat": 4,
 "nbformat_minor": 5
}

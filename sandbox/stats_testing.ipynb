{
 "cells": [
  {
   "cell_type": "markdown",
   "id": "c6eded6174482e23",
   "metadata": {},
   "source": [
    "We extract stats for the following corpora\n",
    "\n",
    "# EHRs\n",
    "**Cardiology**\n",
    "* [x] CarTeksten\n",
    "* [x] SCAD\n",
    "* [x] DataTools4Heart\n",
    "* [x] DIGIN\n",
    "* [x] PobTriage\n",
    "* ARGUS\n",
    "  * discharge pre-2024\n",
    "  * radio pre-2024\n",
    "  * discharge 2024\n",
    "  * radio 2024  \n",
    "* [x] CCN\n",
    "* [x] HMC\n",
    "\n",
    "**IBD**\n",
    "* MDL_hackathon $\\rightarrow$ prefix with 'IBD_'\n",
    "\n",
    "**Kidney**\n",
    "* [x] ODIN  $\\rightarrow$ prefix with 'NEFRO_'\n",
    "\n",
    "**RA**\n",
    "* D2TRA hackathon  $\\rightarrow$ prefix with 'RA_'\n",
    "* STRATAFIT $\\rightarrow$ prefix with 'RA_'\n",
    "\n",
    "# Other\n",
    "\n",
    "* NtvG  $\\rightarrow$ prefix with 'GEN_'\n",
    "* HenW $\\rightarrow$ prefix with 'GEN_'\n",
    "* NHG $\\rightarrow$ prefix with 'GEN_'\n",
    "* Pubmed-abstract translation  $\\rightarrow$ prefix with 'GEN_'\n",
    "\n",
    "Translations\n",
    "* MIMIC III/IV \n",
    "* eICU\n",
    "* Apollo corpus\n",
    "* Meditron guidelines"
   ]
  },
  {
   "cell_type": "code",
   "id": "1c7ae42ddbd9a35c",
   "metadata": {},
   "source": [
    "%load_ext autoreload\n",
    "%autoreload 2\n",
    "\n",
    "import numpy as np\n",
    "import re\n",
    "import gc\n",
    "import os\n",
    "import pandas as pd\n",
    "import numpy as np"
   ],
   "outputs": [],
   "execution_count": null
  },
  {
   "cell_type": "code",
   "id": "414a9e45",
   "metadata": {},
   "source": [
    "def striprtf(text, simple=True):\n",
    "   if simple:\n",
    "    remove_re = re.compile(r'\\{\\*?\\\\[^{}]+}|[{}]|\\\\\\n?[A-Za-z]+\\n?(?:-?\\d+)?[ ]?')\n",
    "    return remove_re.sub('', text)\n",
    "   else:\n",
    "    pattern = re.compile(r\"\\\\([a-z]{1,32})(-?\\d{1,10})?[ ]?|\\\\'([0-9a-f]{2})|\\\\([^a-z])|([{}])|[\\r\\n]+|(.)\", re.I)\n",
    "    # control words which specify a \"destionation\".\n",
    "    destinations = frozenset((\n",
    "        'aftncn','aftnsep','aftnsepc','annotation','atnauthor','atndate','atnicn','atnid',\n",
    "        'atnparent','atnref','atntime','atrfend','atrfstart','author','background',\n",
    "        'bkmkend','bkmkstart','blipuid','buptim','category','colorschememapping',\n",
    "        'colortbl','comment','company','creatim','datafield','datastore','defchp','defpap',\n",
    "        'do','doccomm','docvar','dptxbxtext','ebcend','ebcstart','factoidname','falt',\n",
    "        'fchars','ffdeftext','ffentrymcr','ffexitmcr','ffformat','ffhelptext','ffl',\n",
    "        'ffname','ffstattext','field','file','filetbl','fldinst','fldrslt','fldtype',\n",
    "        'fname','fontemb','fontfile','fonttbl','footer','footerf','footerl','footerr',\n",
    "        'footnote','formfield','ftncn','ftnsep','ftnsepc','g','generator','gridtbl',\n",
    "        'header','headerf','headerl','headerr','hl','hlfr','hlinkbase','hlloc','hlsrc',\n",
    "        'hsv','htmltag','info','keycode','keywords','latentstyles','lchars','levelnumbers',\n",
    "        'leveltext','lfolevel','linkval','list','listlevel','listname','listoverride',\n",
    "        'listoverridetable','listpicture','liststylename','listtable','listtext',\n",
    "        'lsdlockedexcept','macc','maccPr','mailmerge','maln','malnScr','manager','margPr',\n",
    "        'mbar','mbarPr','mbaseJc','mbegChr','mborderBox','mborderBoxPr','mbox','mboxPr',\n",
    "        'mchr','mcount','mctrlPr','md','mdeg','mdegHide','mden','mdiff','mdPr','me',\n",
    "        'mendChr','meqArr','meqArrPr','mf','mfName','mfPr','mfunc','mfuncPr','mgroupChr',\n",
    "        'mgroupChrPr','mgrow','mhideBot','mhideLeft','mhideRight','mhideTop','mhtmltag',\n",
    "        'mlim','mlimloc','mlimlow','mlimlowPr','mlimupp','mlimuppPr','mm','mmaddfieldname',\n",
    "        'mmath','mmathPict','mmathPr','mmaxdist','mmc','mmcJc','mmconnectstr',\n",
    "        'mmconnectstrdata','mmcPr','mmcs','mmdatasource','mmheadersource','mmmailsubject',\n",
    "        'mmodso','mmodsofilter','mmodsofldmpdata','mmodsomappedname','mmodsoname',\n",
    "        'mmodsorecipdata','mmodsosort','mmodsosrc','mmodsotable','mmodsoudl',\n",
    "        'mmodsoudldata','mmodsouniquetag','mmPr','mmquery','mmr','mnary','mnaryPr',\n",
    "        'mnoBreak','mnum','mobjDist','moMath','moMathPara','moMathParaPr','mopEmu',\n",
    "        'mphant','mphantPr','mplcHide','mpos','mr','mrad','mradPr','mrPr','msepChr',\n",
    "        'mshow','mshp','msPre','msPrePr','msSub','msSubPr','msSubSup','msSubSupPr','msSup',\n",
    "        'msSupPr','mstrikeBLTR','mstrikeH','mstrikeTLBR','mstrikeV','msub','msubHide',\n",
    "        'msup','msupHide','mtransp','mtype','mvertJc','mvfmf','mvfml','mvtof','mvtol',\n",
    "        'mzeroAsc','mzeroDesc','mzeroWid','nesttableprops','nextfile','nonesttables',\n",
    "        'objalias','objclass','objdata','object','objname','objsect','objtime','oldcprops',\n",
    "        'oldpprops','oldsprops','oldtprops','oleclsid','operator','panose','password',\n",
    "        'passwordhash','pgp','pgptbl','picprop','pict','pn','pnseclvl','pntext','pntxta',\n",
    "        'pntxtb','printim','private','propname','protend','protstart','protusertbl','pxe',\n",
    "        'result','revtbl','revtim','rsidtbl','rxe','shp','shpgrp','shpinst',\n",
    "        'shppict','shprslt','shptxt','sn','sp','staticval','stylesheet','subject','sv',\n",
    "        'svb','tc','template','themedata','title','txe','ud','upr','userprops',\n",
    "        'wgrffmtfilter','windowcaption','writereservation','writereservhash','xe','xform',\n",
    "        'xmlattrname','xmlattrvalue','xmlclose','xmlname','xmlnstbl',\n",
    "        'xmlopen',\n",
    "    ))\n",
    "    # Translation of some special characters.\n",
    "    specialchars = {\n",
    "        'par': '\\n',\n",
    "        'sect': '\\n\\n',\n",
    "        'page': '\\n\\n',\n",
    "        'line': '\\n',\n",
    "        'tab': '\\t',\n",
    "        'emdash': u'\\u2014',\n",
    "        'endash': u'\\u2013',\n",
    "        'emspace': u'\\u2003',\n",
    "        'enspace': u'\\u2002',\n",
    "        'qmspace': u'\\u2005',\n",
    "        'bullet': u'\\u2022',\n",
    "        'lquote': u'\\u2018',\n",
    "        'rquote': u'\\u2019',\n",
    "        'ldblquote': u'\\201C',\n",
    "        'rdblquote': u'\\u201D', \n",
    "    }\n",
    "    stack = []\n",
    "    ignorable = False       # Whether this group (and all inside it) are \"ignorable\".\n",
    "    ucskip = 1              # Number of ASCII characters to skip after a unicode character.\n",
    "    curskip = 0             # Number of ASCII characters left to skip\n",
    "    out = []                # Output buffer.\n",
    "    for match in pattern.finditer(text):\n",
    "        word,arg,hex,char,brace,tchar = match.groups()\n",
    "        if brace:\n",
    "            curskip = 0\n",
    "            if brace == '{':\n",
    "                # Push state\n",
    "                stack.append((ucskip,ignorable))\n",
    "            elif brace == '}':\n",
    "                # Pop state\n",
    "                ucskip,ignorable = stack.pop()\n",
    "        elif char: # \\x (not a letter)\n",
    "            curskip = 0\n",
    "            if char == '~':\n",
    "                if not ignorable:\n",
    "                    out.append(u'\\xA0')\n",
    "            elif char in '{}\\\\':\n",
    "                if not ignorable:\n",
    "                    out.append(char)\n",
    "            elif char == '*':\n",
    "                ignorable = True\n",
    "        elif word: # \\foo\n",
    "            curskip = 0\n",
    "            if word in destinations:\n",
    "                ignorable = True\n",
    "            elif ignorable:\n",
    "                pass\n",
    "            elif word in specialchars:\n",
    "                out.append(specialchars[word])\n",
    "            elif word == 'uc':\n",
    "                ucskip = int(arg)\n",
    "            elif word == 'u':\n",
    "                c = int(arg)\n",
    "                if c < 0: c += 0x10000\n",
    "                if c > 127: out.append(unichr(c))\n",
    "                else: out.append(chr(c))\n",
    "                curskip = ucskip\n",
    "        elif hex: # \\'xx\n",
    "            if curskip > 0:\n",
    "                curskip -= 1\n",
    "            elif not ignorable:\n",
    "                c = int(hex,16)\n",
    "                if c > 127: out.append(unichr(c))\n",
    "                else: out.append(chr(c))\n",
    "        elif tchar:\n",
    "            if curskip > 0:\n",
    "                curskip -= 1\n",
    "            elif not ignorable:\n",
    "                out.append(tchar)\n",
    "    return ''.join(out)"
   ],
   "outputs": [],
   "execution_count": null
  },
  {
   "cell_type": "code",
   "id": "af5002e8be213480",
   "metadata": {},
   "source": [
    "re_split = re.compile(r\"\\W\")\n",
    "splitter = lambda x: re_split.split(x)"
   ],
   "outputs": [],
   "execution_count": null
  },
  {
   "cell_type": "code",
   "id": "44c8f3536d798647",
   "metadata": {},
   "source": [
    "output_folder = r'L:\\lab_research\\RES-Folder-UPOD\\CarTeksten\\G_Output\\2_Data'"
   ],
   "outputs": [],
   "execution_count": null
  },
  {
   "cell_type": "markdown",
   "id": "7085e1a819968f90",
   "metadata": {},
   "source": [
    "# [x] SCAD\n",
    "\n",
    "4Million tokens"
   ]
  },
  {
   "cell_type": "code",
   "id": "8517b0c850e85d56",
   "metadata": {},
   "source": [
    "folder = r'T:\\lab_research\\RES-Folder-UPOD\\SCAD\\E_ResearchData\\2_ResearchData\\20240312'\n",
    "SCAD = pd.read_sas(folder+\"/carokverslag_20240312.sas7bdat\")"
   ],
   "outputs": [],
   "execution_count": null
  },
  {
   "cell_type": "code",
   "id": "5ff65621b7e51dc7",
   "metadata": {},
   "source": [
    "SCAD['QRI_Stelling'] = SCAD['QRI_Stelling'].str.decode(encoding='latin1')\n",
    "SCAD['QRI_ValueAnswerTxt'] = SCAD['QRI_ValueAnswerTxt'].str.decode(encoding='latin1')\n",
    "SCAD = SCAD.loc[SCAD.QRI_ValueAnswerTxt.notna()]\n",
    "SCAD['Age'] = SCAD['Age'].astype(str)\n",
    "SCAD['gender'] = SCAD['gender'].str.decode(encoding='latin1')\n",
    "SCAD['gender'] = SCAD['gender'].map({'male': 'man', 'female': 'vrouw'})\n",
    "SCAD['gender'] = \"Geslacht:\"+ SCAD['gender']"
   ],
   "outputs": [],
   "execution_count": null
  },
  {
   "cell_type": "code",
   "id": "251269aec46e9872",
   "metadata": {},
   "source": [
    "SCAD_TEXT = (SCAD.loc[SCAD['QRI_ValueAnswerTxt'].notna(), ['QRI_Stelling', 'QRI_ValueAnswerTxt', 'gender']]\\\n",
    "                .apply(lambda x: x[0]+\":\"+x[1]+\", \"+x[2], axis=1).to_frame().rename(columns={0:'text'}))"
   ],
   "outputs": [],
   "execution_count": null
  },
  {
   "cell_type": "code",
   "id": "c6c0c2c3624b5f9e",
   "metadata": {},
   "source": [
    "NEW_SCAD = SCAD[['studyId_0818', 'index1_date']].join(SCAD_TEXT, how='inner')"
   ],
   "outputs": [],
   "execution_count": null
  },
  {
   "cell_type": "code",
   "id": "d9e302e071c2e506",
   "metadata": {},
   "source": [
    "TEXT_GROUPED = NEW_SCAD.groupby(['studyId_0818', 'index1_date']).text.apply(lambda x: '\\n'.join(x)).reset_index()"
   ],
   "outputs": [],
   "execution_count": null
  },
  {
   "cell_type": "markdown",
   "id": "38caf350a6c1cc5",
   "metadata": {},
   "source": []
  },
  {
   "cell_type": "code",
   "id": "3b1776b278b35a7d",
   "metadata": {},
   "source": [
    "TEXT_GROUPED['text_words'] = TEXT_GROUPED['text'].apply(splitter)\n",
    "TEXT_GROUPED['text_len'] = TEXT_GROUPED['text_words'].apply(len)"
   ],
   "outputs": [],
   "execution_count": null
  },
  {
   "cell_type": "code",
   "id": "a4589585c0c157fe",
   "metadata": {},
   "source": [
    "TEXT_GROUPED['text_len'].hist(bins=30)"
   ],
   "outputs": [],
   "execution_count": null
  },
  {
   "cell_type": "code",
   "id": "224e206f212358ae",
   "metadata": {},
   "source": [
    "print(f\"Number of words: {TEXT_GROUPED.text_len.sum()}\")"
   ],
   "outputs": [],
   "execution_count": null
  },
  {
   "cell_type": "code",
   "id": "53c453593f37cb5",
   "metadata": {},
   "source": [
    "unique_words = set()\n",
    "for l in TEXT_GROUPED['text_words'].values:\n",
    "    for w in l:\n",
    "        unique_words.add(w)"
   ],
   "outputs": [],
   "execution_count": null
  },
  {
   "cell_type": "code",
   "id": "54546871931a6779",
   "metadata": {},
   "source": [
    "print(f\"Number of unique words: {len(unique_words)}\")"
   ],
   "outputs": [],
   "execution_count": null
  },
  {
   "cell_type": "code",
   "id": "9ec36eeda1428ec6",
   "metadata": {},
   "source": [
    "TEXT_GROUPED[['index1_date', 'text']].to_parquet(output_folder+'\\SCAD.parquet')"
   ],
   "outputs": [],
   "execution_count": null
  },
  {
   "cell_type": "code",
   "id": "326da18c1f71bc59",
   "metadata": {},
   "source": [
    "del SCAD, SCAD_TEXT, TEXT_GROUPED"
   ],
   "outputs": [],
   "execution_count": null
  },
  {
   "cell_type": "code",
   "id": "7c3c8c9e3d8ff7c7",
   "metadata": {},
   "source": [
    "gc.collect()"
   ],
   "outputs": [],
   "execution_count": null
  },
  {
   "cell_type": "markdown",
   "id": "e507081be09f9f77",
   "metadata": {},
   "source": [
    "# [x] CarTeksten\n",
    "\n",
    "400Million tokens"
   ]
  },
  {
   "cell_type": "code",
   "id": "2913609c1b270d0e",
   "metadata": {},
   "source": [
    "folder = r'L:\\lab_research\\RES-Folder-UPOD\\CarTeksten\\E_ResearchData\\2_ResearchData\\20240321'\n",
    "CarTeksten = pd.read_parquet(folder+\"/vrglijsten_20240321.parquet\")"
   ],
   "outputs": [],
   "execution_count": null
  },
  {
   "cell_type": "code",
   "id": "408c446d502bfb11",
   "metadata": {},
   "source": [
    "CarTeksten = CarTeksten[CarTeksten['QRI_ValueAnswerTxt'].apply(lambda x: x is not None)]"
   ],
   "outputs": [],
   "execution_count": null
  },
  {
   "cell_type": "code",
   "id": "7cd0ce30dc2ab815",
   "metadata": {},
   "source": [
    "CarTeksten = CarTeksten.assign(TEXT= CarTeksten[['QRE_description', 'QRE_category_display', 'QRE_name', 'QRI_Stelling','QRI_ValueAnswerTxt']].apply(lambda x: \n",
    "                                                                                                                f'Omschrijving:{x['QRE_description']}'+\\\n",
    "                                                                                                                f', Categorie:{x['QRE_category_display']}'+\\\n",
    "                                                                                                                f', Thema:{x['QRE_name']}'+\\\n",
    "                                                                                                                f', Stelling:{x['QRI_Stelling']}'+\\\n",
    "                                                                                                                f', Antwoord:{x['QRI_ValueAnswerTxt']}'\n",
    "                                                                                                               , axis=1))"
   ],
   "outputs": [],
   "execution_count": null
  },
  {
   "cell_type": "code",
   "id": "1254eba30d3d7ee3",
   "metadata": {},
   "source": [
    "CarTeksten['text_words'] = CarTeksten['TEXT'].apply(splitter)\n",
    "CarTeksten['text_len'] = CarTeksten['text_words'].apply(len)"
   ],
   "outputs": [],
   "execution_count": null
  },
  {
   "cell_type": "code",
   "id": "237822e5e809cb06",
   "metadata": {},
   "source": [
    "print(f\"Number of words: {CarTeksten.text_len.sum()}\")\n",
    "\n",
    "unique_words = set()\n",
    "for l in CarTeksten['text_words'].values:\n",
    "    for w in l:\n",
    "        unique_words.add(w)\n",
    "        \n",
    "print(f\"Number of unique words: {len(unique_words)}\")"
   ],
   "outputs": [],
   "execution_count": null
  },
  {
   "cell_type": "code",
   "id": "4142d4111ea486df",
   "metadata": {},
   "source": [
    "CarTeksten['text_len'].hist(bins=30)\n"
   ],
   "outputs": [],
   "execution_count": null
  },
  {
   "cell_type": "code",
   "id": "2adb2b172d8fca91",
   "metadata": {},
   "source": [
    "CarTeksten[['QRR_created', 'TEXT']].to_parquet(output_folder+'/CARQ.parquet')"
   ],
   "outputs": [],
   "execution_count": null
  },
  {
   "cell_type": "code",
   "id": "8c9a828d380e03eb",
   "metadata": {},
   "source": [
    "del CarTeksten\n",
    "gc.collect()"
   ],
   "outputs": [],
   "execution_count": null
  },
  {
   "cell_type": "markdown",
   "id": "eda9501d56b80783",
   "metadata": {},
   "source": [
    "# [x] DIGIN\n",
    "\n",
    "145Million tokens"
   ]
  },
  {
   "cell_type": "code",
   "id": "a40268a411e2c2c9",
   "metadata": {},
   "source": [
    "DIGIN_ECHO = pd.read_sas(r'L:\\lab_research\\RES-Folder-UPOD\\DIGIN\\E_ResearchData\\2_ResearchData\\pat_echo_brief_20231018.sas7bdat')"
   ],
   "outputs": [],
   "execution_count": null
  },
  {
   "cell_type": "code",
   "id": "99b1fff1d90846d7",
   "metadata": {},
   "source": [
    "DIGIN_ECHO['DOCOMSCHR'] = DIGIN_ECHO['DOCOMSCHR'].str.decode('latin1')\n",
    "DIGIN_ECHO['Brief_txt'] = DIGIN_ECHO['Brief_txt'].str.decode('latin1')\n",
    "DIGIN_ECHO['Conclusions_ECHO'] = DIGIN_ECHO['Conclusions_ECHO'].str.decode('latin1')\n",
    "DIGIN_ECHO['gender'] = DIGIN_ECHO['gender'].str.decode('latin1')"
   ],
   "outputs": [],
   "execution_count": null
  },
  {
   "cell_type": "code",
   "id": "d4823426f59ac72f",
   "metadata": {},
   "source": [
    "DIGIN_ECHO = DIGIN_ECHO.assign(TEXT = DIGIN_ECHO[['DOCOMSCHR', 'Brief_txt', 'Conclusions_ECHO', 'gender', 'age']].apply(lambda x:\n",
    "                                                        f\"Document type:{x['DOCOMSCHR']}\\n\"+\\\n",
    "                                                        f\"Brief:{x['Brief_txt']}\\n\"+\\\n",
    "                                                        f\"Echo:{x['Conclusions_ECHO']}\\n\"+\\\n",
    "                                                        f\"Geslacht:{x['gender']}, Leeftijd:{str(x['age'])}\", axis=1))"
   ],
   "outputs": [],
   "execution_count": null
  },
  {
   "cell_type": "code",
   "id": "c8c77abf888c4f3",
   "metadata": {},
   "source": [
    "DIGIN_ECHO.head()"
   ],
   "outputs": [],
   "execution_count": null
  },
  {
   "cell_type": "code",
   "id": "9b96f5ab3a0f32ea",
   "metadata": {},
   "source": [
    "DIGIN_ECHO['text_words'] = DIGIN_ECHO['TEXT'].apply(splitter)\n",
    "DIGIN_ECHO['text_len'] = DIGIN_ECHO['text_words'].apply(len)"
   ],
   "outputs": [],
   "execution_count": null
  },
  {
   "cell_type": "code",
   "id": "55fd27f2ccb437d3",
   "metadata": {},
   "source": [
    "print(f\"Number of words: {DIGIN_ECHO.text_len.sum()}\")\n",
    "unique_words = set()\n",
    "for l in DIGIN_ECHO['text_words'].values:\n",
    "    for w in l:\n",
    "        unique_words.add(w)\n",
    "print(f\"Number of unique words: {len(unique_words)}\")"
   ],
   "outputs": [],
   "execution_count": null
  },
  {
   "cell_type": "code",
   "id": "20173acda71dc5b6",
   "metadata": {},
   "source": [
    "DIGIN_ECHO[['create_dt', 'TEXT']].to_parquet(output_folder+\"/DIGIN_echo.parquet\")\n",
    "del DIGIN_ECHO\n",
    "gc.collect()"
   ],
   "outputs": [],
   "execution_count": null
  },
  {
   "cell_type": "code",
   "id": "5791b470d2cda758",
   "metadata": {},
   "source": [
    "DIGIN_POLI = pd.read_sas(r'L:\\lab_research\\RES-Folder-UPOD\\DIGIN\\E_ResearchData\\2_ResearchData\\pat_poli_brief_20231018.sas7bdat')"
   ],
   "outputs": [],
   "execution_count": null
  },
  {
   "cell_type": "code",
   "id": "529685037c2d95db",
   "metadata": {},
   "source": [
    "# poli_date, age, gender\n",
    "DIGIN_POLI = DIGIN_POLI.assign(DOCOMSCHR=DIGIN_POLI.DOCOMSCHR.str.decode('latin1'))\n",
    "DIGIN_POLI = DIGIN_POLI.assign(SPECIALISM=DIGIN_POLI.SPECIALISM.str.decode('latin1'))\n",
    "DIGIN_POLI = DIGIN_POLI.assign(Brief_txt=DIGIN_POLI.Brief_txt.str.decode('latin1'))\n",
    "DIGIN_POLI = DIGIN_POLI.assign(OMSCHR_AGENDA=DIGIN_POLI.OMSCHR_AGENDA.str.decode('latin1'))\n",
    "DIGIN_POLI = DIGIN_POLI.assign(NAAM_AGENDA=DIGIN_POLI.NAAM_AGENDA.str.decode('latin1'))\n",
    "DIGIN_POLI = DIGIN_POLI.assign(gender=DIGIN_POLI.gender.str.decode('latin1'))\n",
    "DIGIN_POLI = DIGIN_POLI.assign(OMSCHR_Afspraak=DIGIN_POLI.OMSCHR_Afspraak.str.decode('latin1'))"
   ],
   "outputs": [],
   "execution_count": null
  },
  {
   "cell_type": "code",
   "id": "5aea9eadf6d72cfe",
   "metadata": {},
   "source": [
    "DIGIN_POLI = DIGIN_POLI.assign(TEXT=DIGIN_POLI[['DOCOMSCHR', 'SPECIALISM', 'NAAM_AGENDA', 'OMSCHR_Afspraak', 'gender', 'age', 'Brief_txt']].apply(lambda x:\n",
    "                                            f\"Document: {x['DOCOMSCHR']}\\n\"\\\n",
    "                                            f\"Specialisme: {x['SPECIALISM']}\\n\"\\\n",
    "                                            f\"Specialisme: {x['NAAM_AGENDA']}\\n\"\\\n",
    "                                            f\"Afspraak: {x['OMSCHR_Afspraak']}\\n\"\\\n",
    "                                            f\"Geslacht: {x['gender']}, Leeftijd: {str(x['age'])}\\n\"\\\n",
    "                                            f\"Brief: {x['Brief_txt']}\" ,axis=1))"
   ],
   "outputs": [],
   "execution_count": null
  },
  {
   "cell_type": "code",
   "id": "f93c8e4428d481e1",
   "metadata": {},
   "source": [
    "DIGIN_POLI['text_words'] = DIGIN_POLI['TEXT'].apply(splitter)\n",
    "DIGIN_POLI['text_len'] = DIGIN_POLI['text_words'].apply(len)"
   ],
   "outputs": [],
   "execution_count": null
  },
  {
   "cell_type": "code",
   "id": "e3e5dd575050c7ab",
   "metadata": {},
   "source": [
    "print(f\"Number of words: {DIGIN_POLI.text_len.sum()}\")\n",
    "unique_words = set()\n",
    "for l in DIGIN_POLI['text_words'].values:\n",
    "    for w in l:\n",
    "        unique_words.add(w)\n",
    "print(f\"Number of unique words: {len(unique_words)}\")"
   ],
   "outputs": [],
   "execution_count": null
  },
  {
   "cell_type": "code",
   "id": "c98c81b63f4e4aa",
   "metadata": {},
   "source": [
    "DIGIN_POLI[['poli_date', 'TEXT']].to_parquet(output_folder+\"/DIGIN_POLI.parquet\")\n",
    "del DIGIN_POLI\n",
    "gc.collect()"
   ],
   "outputs": [],
   "execution_count": null
  },
  {
   "cell_type": "markdown",
   "id": "d0cee777a78eba9",
   "metadata": {},
   "source": [
    " # [x] DataTools4Heart\n",
    " 150.000 tokens"
   ]
  },
  {
   "cell_type": "code",
   "id": "14c3fd83022bd5e6",
   "metadata": {},
   "source": [
    "folder = r'T:\\lab_research\\RES-Folder-UPOD\\DataTools4Heart\\E_ResearchData\\2_ResearchData\\20240709'\n",
    "echo_conc = pd.read_sas(folder+\"/echo_concl_20240709.sas7bdat\")\n",
    "\n",
    "folder = r'T:\\lab_research\\RES-Folder-UPOD\\DataTools4Heart\\E_ResearchData\\2_ResearchData\\20240715'\n",
    "echo = pd.read_sas(folder+\"/echo_20240715.sas7bdat\")\n",
    "\n",
    "#ecg = pd.read_sas(folder+'/ecg_20240610.sas7bdat')\n",
    "#vital = pd.read_sas(folder+'/vitalsign_20240610.sas7bdat')"
   ],
   "outputs": [],
   "execution_count": null
  },
  {
   "cell_type": "code",
   "id": "968230c68657ad5b",
   "metadata": {},
   "source": [
    "echo.groupby(['studyId_0763', 'identifier_value']).size().hist(bins=20)"
   ],
   "outputs": [],
   "execution_count": null
  },
  {
   "cell_type": "code",
   "id": "a3b323a4f5952bb7",
   "metadata": {},
   "source": [
    "echo_conc = echo_conc.assign(datum=echo_conc.effectiveDateTime.dt.date)\n",
    "echo_conc = echo_conc.assign(conclusion=echo_conc.conclusion.str.decode('latin1'))"
   ],
   "outputs": [],
   "execution_count": null
  },
  {
   "cell_type": "code",
   "id": "f861e6f9137ec4be",
   "metadata": {},
   "source": [
    "echo_conc['text_words'] = echo_conc['conclusion'].apply(splitter)\n",
    "echo_conc['text_len'] = echo_conc['text_words'].apply(len)"
   ],
   "outputs": [],
   "execution_count": null
  },
  {
   "cell_type": "code",
   "id": "9a84cbeb615c5a15",
   "metadata": {},
   "source": [
    "echo_conc.text_len.sum()"
   ],
   "outputs": [],
   "execution_count": null
  },
  {
   "cell_type": "code",
   "id": "39dc9081cedab17",
   "metadata": {},
   "source": [
    "echo_conc[['datum', 'conclusion']].to_parquet(output_folder+\"/dt4h_echo.parquet\")"
   ],
   "outputs": [],
   "execution_count": null
  },
  {
   "cell_type": "markdown",
   "id": "62d2d5d94de7ee92",
   "metadata": {},
   "source": [
    "# [x] PobTriage"
   ]
  },
  {
   "cell_type": "code",
   "id": "4b7a9649650b6792",
   "metadata": {},
   "source": [
    "zdbrieven = r'T:\\lab_research\\RES-Folder-UPOD\\PobTriage\\E_ResearchData\\2_ResearchData\\20230130\\ZD_brieven_20230130.parquet'\n",
    "inkbrieven = r'T:\\lab_research\\RES-Folder-UPOD\\PobTriage\\E_ResearchData\\2_ResearchData\\Old\\inkomendebrieven.sas7bdat'\n",
    "verslagen = r'T:\\lab_research\\RES-Folder-UPOD\\PobTriage\\E_ResearchData\\2_ResearchData\\20230216\\verslagen_20230216.sas7bdat'\n",
    "ontslagbrieven = r'T:\\lab_research\\RES-Folder-UPOD\\PobTriage\\E_ResearchData\\2_ResearchData\\20230216\\ontslagbrieven_20230216.sas7bdat'\n",
    "\n",
    "zdbrieven_df = pd.read_parquet(zdbrieven)\n",
    "inkbrieven_df = pd.read_sas(inkbrieven)\n",
    "verslagen_df = pd.read_sas(verslagen)\n",
    "ontslagbrieven_df = pd.read_sas(ontslagbrieven)"
   ],
   "outputs": [],
   "execution_count": null
  },
  {
   "cell_type": "markdown",
   "id": "2fb7420a6cf65ede",
   "metadata": {},
   "source": [
    "### ZDbrieven\n",
    "\n",
    "6.4Million tokens"
   ]
  },
  {
   "cell_type": "code",
   "id": "afd370074b4f0edd",
   "metadata": {},
   "source": [
    "zdbrieven_df['text_words'] = zdbrieven_df['InkomendeBriefTekst_DOC'].apply(splitter)\n",
    "zdbrieven_df['text_len'] = zdbrieven_df['text_words'].apply(len)"
   ],
   "outputs": [],
   "execution_count": null
  },
  {
   "cell_type": "code",
   "id": "f891901d08ca61ca",
   "metadata": {},
   "source": [
    "zdbrieven_df['text_len'].sum()"
   ],
   "outputs": [],
   "execution_count": null
  },
  {
   "cell_type": "code",
   "id": "38a43aac90bae2f2",
   "metadata": {},
   "source": [
    "zdbrieven_df.text_len.hist(bins=30)"
   ],
   "outputs": [],
   "execution_count": null
  },
  {
   "cell_type": "code",
   "id": "d4b21483a8384294",
   "metadata": {},
   "source": [
    "zdbrieven_df[['jaar', 'InkomendeBriefTekst_DOC']].to_parquet(output_folder+\"/ZDBrieven_PoBTriage.parquet\")"
   ],
   "outputs": [],
   "execution_count": null
  },
  {
   "cell_type": "markdown",
   "id": "703467510190e03a",
   "metadata": {},
   "source": [
    "### Inkomende brieven\n",
    "\n",
    "190.000 tokens"
   ]
  },
  {
   "cell_type": "code",
   "id": "9aa353d83a082e8",
   "metadata": {},
   "source": [
    "inkbrieven_df = inkbrieven_df.assign(reporttxt=inkbrieven_df.reporttxt.str.decode('latin1'))"
   ],
   "outputs": [],
   "execution_count": null
  },
  {
   "cell_type": "code",
   "id": "95e97b93fd7adbf8",
   "metadata": {},
   "source": [
    "inkbrieven_df = inkbrieven_df.dropna(subset=['reporttxt'])"
   ],
   "outputs": [],
   "execution_count": null
  },
  {
   "cell_type": "code",
   "id": "2909236d5f6746b2",
   "metadata": {},
   "source": [
    "inkbrieven_df = inkbrieven_df.assign(text_words=inkbrieven_df['reporttxt'].apply(splitter))\n",
    "\n",
    "inkbrieven_df  = inkbrieven_df.assign(text_len = inkbrieven_df['text_words'].apply(len))"
   ],
   "outputs": [],
   "execution_count": null
  },
  {
   "cell_type": "code",
   "id": "97556a1c7eee70f7",
   "metadata": {},
   "source": [
    "inkbrieven_df.text_len.sum()"
   ],
   "outputs": [],
   "execution_count": null
  },
  {
   "cell_type": "code",
   "id": "66e108b7ecbe9405",
   "metadata": {},
   "source": [
    "inkbrieven_df[['reporttxt']].to_parquet(output_folder+\"/INKBrieven_PoBTriage.parquet\")"
   ],
   "outputs": [],
   "execution_count": null
  },
  {
   "cell_type": "markdown",
   "id": "8f6b218abba523d6",
   "metadata": {},
   "source": [
    "### Verslagen\n",
    "\n",
    "1.75Million tokens"
   ]
  },
  {
   "cell_type": "code",
   "id": "26419c03474b8f7c",
   "metadata": {},
   "source": [
    "verslagen_df = verslagen_df.assign(indicatie=verslagen_df.indicatie.str.decode('latin1'))\n",
    "\n",
    "verslagen_df = verslagen_df.assign(transtext=verslagen_df.transtext.str.decode('latin1'))\n",
    "\n",
    "verslagen_df = verslagen_df.assign(plattetext=verslagen_df.plattetext.str.decode('latin1'))\n",
    "\n",
    "verslagen_df = verslagen_df.assign(tekst=verslagen_df.tekst.str.decode('latin1'))\n"
   ],
   "outputs": [],
   "execution_count": null
  },
  {
   "cell_type": "code",
   "id": "739ca8e9036f0ab1",
   "metadata": {},
   "source": [
    "def stitch_text(x):\n",
    "    txt = \"\"\n",
    "    if (isinstance(x['indicatie'], str)):\n",
    "        txt += \"Indicatie: \" + x['indicatie']\n",
    "    if (isinstance(x['transtext'], str)):\n",
    "        txt += \"\\nTransText: \" + x['transtext']\n",
    "    if (isinstance(x['plattetext'], str)):\n",
    "        txt += \"\\nPlatteText: \" + x['plattetext']\n",
    "    return txt"
   ],
   "outputs": [],
   "execution_count": null
  },
  {
   "cell_type": "code",
   "id": "c863cbfbc651fbc2",
   "metadata": {},
   "source": [
    "verslagen_df = verslagen_df.assign(text=verslagen_df[['indicatie', 'transtext', 'plattetext']].apply(stitch_text, axis=1))"
   ],
   "outputs": [],
   "execution_count": null
  },
  {
   "cell_type": "code",
   "id": "d7b8d86ae5d0a86c",
   "metadata": {},
   "source": [
    "verslagen_df = verslagen_df.assign(text_words=verslagen_df['text'].apply(splitter))\n",
    "\n",
    "verslagen_df  = verslagen_df.assign(text_len = verslagen_df['text_words'].apply(len))"
   ],
   "outputs": [],
   "execution_count": null
  },
  {
   "cell_type": "code",
   "id": "6021cd917bcf631e",
   "metadata": {},
   "source": [
    "verslagen_df.text_len.sum()"
   ],
   "outputs": [],
   "execution_count": null
  },
  {
   "cell_type": "code",
   "id": "16e11fbe42cbd0b0",
   "metadata": {},
   "source": [
    "verslagen_df[['indexdate', 'text']].to_parquet(output_folder+\"/verslagen_PoBTriage.parquet\")"
   ],
   "outputs": [],
   "execution_count": null
  },
  {
   "cell_type": "markdown",
   "id": "9bb2762b216ceefb",
   "metadata": {},
   "source": [
    "### Ontslagbrieven\n",
    "\n",
    "15Million tokens"
   ]
  },
  {
   "cell_type": "code",
   "id": "664cb318c306ad17",
   "metadata": {},
   "source": [
    "ontslagbrieven_df = ontslagbrieven_df.assign(docOmsch=ontslagbrieven_df.docOmsch.str.decode('latin1'))\n",
    "\n",
    "ontslagbrieven_df = ontslagbrieven_df.assign(plattetext=ontslagbrieven_df.plattetext.str.decode('latin1'))\n"
   ],
   "outputs": [],
   "execution_count": null
  },
  {
   "cell_type": "code",
   "id": "24344b5a2710d1d1",
   "metadata": {},
   "source": [
    "def stitch_text(x):\n",
    "    txt = \"\"\n",
    "    if (isinstance(x['docOmsch'], str)):\n",
    "        txt += \"Specialisme: \" + x['docOmsch']\n",
    "    if (isinstance(x['plattetext'], str)):\n",
    "        txt += \"\\nPlatteText: \" + x['plattetext']\n",
    "    return txt"
   ],
   "outputs": [],
   "execution_count": null
  },
  {
   "cell_type": "code",
   "id": "90cf8a577dbac322",
   "metadata": {},
   "source": [
    "ontslagbrieven_df = ontslagbrieven_df.assign(text=ontslagbrieven_df[['docOmsch', 'plattetext']].apply(stitch_text, axis=1))"
   ],
   "outputs": [],
   "execution_count": null
  },
  {
   "cell_type": "code",
   "id": "4e1a827b0f9ce5b",
   "metadata": {},
   "source": [
    "ontslagbrieven_df = ontslagbrieven_df.assign(text_words=ontslagbrieven_df['text'].apply(splitter))\n",
    "\n",
    "ontslagbrieven_df  = ontslagbrieven_df.assign(text_len = ontslagbrieven_df['text_words'].apply(len))"
   ],
   "outputs": [],
   "execution_count": null
  },
  {
   "cell_type": "code",
   "id": "e83a863153f06566",
   "metadata": {},
   "source": [
    "ontslagbrieven_df.text_len.sum()"
   ],
   "outputs": [],
   "execution_count": null
  },
  {
   "cell_type": "code",
   "id": "4c0783f4f25e2332",
   "metadata": {},
   "source": [
    "ontslagbrieven_df.to_parquet(output_folder+\"/ontslagbrieven_PoBTriage.parquet\")"
   ],
   "outputs": [],
   "execution_count": null
  },
  {
   "cell_type": "markdown",
   "id": "fa2241e34465d41b",
   "metadata": {},
   "source": [
    "# [x] CCN"
   ]
  },
  {
   "cell_type": "markdown",
   "id": "102fb5fdd38b0962",
   "metadata": {},
   "source": [
    "### Decursus\n",
    "\n",
    "26Million tokens"
   ]
  },
  {
   "cell_type": "code",
   "id": "b15cdaae90959485",
   "metadata": {},
   "source": [
    "ccn_decursus_df = pd.read_csv(r'T:\\laupodteam\\AIOS\\Bram\\data\\Argus\\external_validation\\ccn\\C_Data\\4 Final_data\\FINAL_CSV\\RAW_2\\decursus_15jan2019.csv', sep=';', encoding='latin1', low_memory=False)"
   ],
   "outputs": [],
   "execution_count": null
  },
  {
   "cell_type": "code",
   "id": "4002c9f1ecf43f33",
   "metadata": {},
   "source": [
    "# TODO: PROCESS\n",
    "folderCheck = r'T:\\laupodteam\\AIOS\\Bram\\data\\Argus\\external_validation\\ccn\\C_Data\\1 Raw_data\\CSV datafiles february 2018'\n",
    "\n",
    "decursus_extra_list = []\n",
    "for f in os.listdir(folderCheck):\n",
    "    if (f.endswith(\".csv\")) & ('ExamData_Zorgtraject_Keuring_Decursus' in f):\n",
    "        print(f\"Loading {f}...\")\n",
    "        df = pd.read_csv(os.path.join(folderCheck, f), sep=',', encoding='latin1', low_memory=False)\n",
    "        decursus_extra_list.append(df[['PATIENT_NUMBER', 'REGISTRATION_REASON', 'APPOINTMENT_DATE', 'REDEN_VAN_VERWIJZING', 'DECURSUS', 'BELEID', 'DIAGNOSE']])\n",
    "decursus_extra_df = pd.concat(decursus_extra_list)\n"
   ],
   "outputs": [],
   "execution_count": null
  },
  {
   "cell_type": "code",
   "id": "d0ef328d59df4739",
   "metadata": {},
   "source": [
    "# TODO: PROCESS\n",
    "consult_extra_list = []\n",
    "for f in os.listdir(folderCheck):\n",
    "    if (f.endswith(\".csv\")) & ('ExamData_Zorgtraject_Keuring_Consult' in f):\n",
    "        print(f\"Loading {f}...\")\n",
    "        df = pd.read_csv(os.path.join(folderCheck, f), sep=',', encoding='latin1', low_memory=False)\n",
    "        consult_extra_list.append(df)\n",
    "consult_extra_df = pd.concat(consult_extra_list)"
   ],
   "outputs": [],
   "execution_count": null
  },
  {
   "cell_type": "code",
   "id": "711dfc43fed8c653",
   "metadata": {},
   "source": [
    "# TODO: merge decursus_extra_df and consult_extra_df"
   ],
   "outputs": [],
   "execution_count": null
  },
  {
   "cell_type": "code",
   "id": "88d3ec3f9a9e498f",
   "metadata": {},
   "source": [
    "ccn_external = pd.read_csv(r'T:\\laupodteam\\AIOS\\Bram\\data\\Argus\\external_validation\\ccn\\C_Data\\4 Final_data\\FINAL_CSV\\RAW_2\\external_15jan2019.csv', sep=';', encoding='latin1', low_memory=False)\n",
    "\n",
    "ccn_external = ccn_external.dropna(subset=['EXT_REPORT'])\n"
   ],
   "outputs": [],
   "execution_count": null
  },
  {
   "cell_type": "code",
   "id": "83a6011ce222f35f",
   "metadata": {},
   "source": [
    "def stitch_text(x):\n",
    "    txt = \"\"\n",
    "    if (isinstance(x['EXT_PROCEDURE'], str)):\n",
    "        txt += \"Procedure: \" + x['EXT_PROCEDURE']\n",
    "    if (isinstance(x['EXT_REPORT'], str)):\n",
    "        txt += \" Uitslag: \" + x['EXT_REPORT']\n",
    "    return txt"
   ],
   "outputs": [],
   "execution_count": null
  },
  {
   "cell_type": "code",
   "id": "7fc6f3340f8cb40b",
   "metadata": {},
   "source": [
    "ccn_external = ccn_external.assign(ProcedureText=ccn_external[['EXT_PROCEDURE', 'EXT_REPORT']].apply(stitch_text, axis=1))"
   ],
   "outputs": [],
   "execution_count": null
  },
  {
   "cell_type": "code",
   "id": "124c60e22c67aca4",
   "metadata": {},
   "source": [
    "ccn_decursus_df = pd.merge_asof(ccn_decursus_df, ccn_external[['studyId_CCN_Sophie', 'ProcedureText', 'EXT_DATE']],\n",
    "           on='studyId_CCN_Sophie',\n",
    "           allow_exact_matches=True,\n",
    "           left_by='APPOINTMENT_DATE',\n",
    "           right_by='EXT_DATE',\n",
    "           direction='nearest'\n",
    "           )\n",
    "\n"
   ],
   "outputs": [],
   "execution_count": null
  },
  {
   "cell_type": "code",
   "id": "14c63632eac20949",
   "metadata": {},
   "source": [
    "def stitch_text(x):\n",
    "    txt = \"\"\n",
    "    if (isinstance(x['DECURSUS'], str)):\n",
    "        txt += \"Decursus: \" + x['DECURSUS']\n",
    "    if (isinstance(x['ProcedureText'], str)):\n",
    "        txt += \"Procedure: \" + x['ProcedureText']\n",
    "    if (isinstance(x['TREATMENT_PLAN'], str)):\n",
    "        txt += \"\\nBehandelplan: \" + x['TREATMENT_PLAN']\n",
    "    return txt"
   ],
   "outputs": [],
   "execution_count": null
  },
  {
   "cell_type": "code",
   "id": "d0a9677b8a3c18e6",
   "metadata": {},
   "source": [
    "ccn_decursus_df = ccn_decursus_df.assign(text=ccn_decursus_df[['DECURSUS', 'TREATMENT_PLAN', 'ProcedureText']].apply(stitch_text, axis=1))\n",
    "ccn_decursus_df = ccn_decursus_df.dropna(subset=['DECURSUS', 'TREATMENT_PLAN'], how='all')"
   ],
   "outputs": [],
   "execution_count": null
  },
  {
   "cell_type": "code",
   "id": "32ae4122f6e0c077",
   "metadata": {},
   "source": [
    "ccn_decursus_df = ccn_decursus_df.assign(text_words=ccn_decursus_df['text'].apply(splitter))\n",
    "ccn_decursus_df  = ccn_decursus_df.assign(text_len = ccn_decursus_df['text_words'].apply(len))\n",
    "ccn_decursus_df.text_len.sum()"
   ],
   "outputs": [],
   "execution_count": null
  },
  {
   "cell_type": "code",
   "id": "291e8ceccf55d76e",
   "metadata": {},
   "source": [
    "ccn_decursus_df[['APPOINTMENT_DATE', 'text']].to_parquet(output_folder+\"/CCN_decursus.parquet\")"
   ],
   "outputs": [],
   "execution_count": null
  },
  {
   "cell_type": "markdown",
   "id": "fc0f3e60ab2dd39a",
   "metadata": {},
   "source": [
    "### Consult\n",
    "\n",
    "1.5Million words"
   ]
  },
  {
   "cell_type": "code",
   "id": "cd0a99d339665188",
   "metadata": {},
   "source": [
    "# TODO: add to ccn_decursus_df with merge_asof\n",
    "ccn_consult_df = pd.read_csv(r'T:\\laupodteam\\AIOS\\Bram\\data\\Argus\\external_validation\\ccn\\C_Data\\4 Final_data\\FINAL_CSV\\PROCESSED\\20210601_consult.csv', sep=\";\", encoding='latin1', low_memory=False)"
   ],
   "outputs": [],
   "execution_count": null
  },
  {
   "cell_type": "code",
   "id": "a996f82dc457ba86",
   "metadata": {},
   "source": [
    "# TODO: process the contents of the consult columns into text."
   ],
   "outputs": [],
   "execution_count": null
  },
  {
   "cell_type": "code",
   "id": "87c70e3e75a2afa0",
   "metadata": {},
   "source": [
    "# MH_EXTRA\n",
    "ConsultTexts = ccn_consult_df.sort_values(by='APPOINTMENT_DATE')[['PATIENT_NUMBER', 'MH_EXTRA']].dropna().groupby('PATIENT_NUMBER').MH_EXTRA.apply(lambda x: \"\\n\".join(x)).to_frame()"
   ],
   "outputs": [],
   "execution_count": null
  },
  {
   "cell_type": "code",
   "id": "fbd52b24a79650d8",
   "metadata": {},
   "source": [
    "ConsultTexts.to_parquet(output_folder+\"/CCN_consults.parquet\")"
   ],
   "outputs": [],
   "execution_count": null
  },
  {
   "cell_type": "code",
   "id": "2d80b9491e588e4e",
   "metadata": {},
   "source": [
    "ConsultTexts = ConsultTexts.assign(text_words=ConsultTexts['MH_EXTRA'].apply(splitter))\n",
    "ConsultTexts  = ConsultTexts.assign(text_len = ConsultTexts['text_words'].apply(len))\n",
    "ConsultTexts.text_len.sum()"
   ],
   "outputs": [],
   "execution_count": null
  },
  {
   "cell_type": "markdown",
   "id": "ca91615cedd4e083",
   "metadata": {},
   "source": [
    "## [x] HMC "
   ]
  },
  {
   "cell_type": "code",
   "id": "592973e6d7726c82",
   "metadata": {},
   "source": [
    "HMC_RAD_df = pd.read_feather(r'T:\\laupodteam\\AIOS\\Bram\\data\\Argus\\external_validation\\hmc\\radiology_txt.feather')\n",
    "HMC_RAD_CARDIO_df = pd.read_feather(r'T:\\laupodteam\\AIOS\\Bram\\data\\Argus\\external_validation\\hmc\\radiology_cardio_txt.feather')\n",
    "HMC_Decursus_df = pd.read_feather(r'T:\\laupodteam\\AIOS\\Bram\\data\\Argus\\external_validation\\hmc\\decursus_txt.feather')"
   ],
   "outputs": [],
   "execution_count": null
  },
  {
   "cell_type": "markdown",
   "id": "f5ec58efe81c7444",
   "metadata": {},
   "source": [
    "### Radiology\n",
    "\n",
    "44Million tokens"
   ]
  },
  {
   "cell_type": "code",
   "id": "5b4c208289b4804e",
   "metadata": {},
   "source": [
    "HMC_RAD_df = HMC_RAD_df.assign(text_words=HMC_RAD_df['ReportTxt'].apply(splitter))\n",
    "HMC_RAD_df  = HMC_RAD_df.assign(text_len = HMC_RAD_df['text_words'].apply(len))"
   ],
   "outputs": [],
   "execution_count": null
  },
  {
   "cell_type": "code",
   "id": "4bb19f1b085e45e1",
   "metadata": {},
   "source": [
    "HMC_RAD_df.text_len.sum()"
   ],
   "outputs": [],
   "execution_count": null
  },
  {
   "cell_type": "code",
   "id": "92a31a42f31eaea1",
   "metadata": {},
   "source": [
    "HMC_RAD_df[['Onderz_dt', 'ReportTxt']].to_parquet(output_folder+\"/HMC_radio.parquet\")"
   ],
   "outputs": [],
   "execution_count": null
  },
  {
   "cell_type": "markdown",
   "id": "453b4f58212ce925",
   "metadata": {},
   "source": [
    "### Radiology cardio\n",
    "\n",
    "14Million tokens"
   ]
  },
  {
   "cell_type": "code",
   "id": "ef3ec07d36913926",
   "metadata": {},
   "source": [
    "HMC_RAD_CARDIO_df = HMC_RAD_CARDIO_df.assign(text_words=HMC_RAD_CARDIO_df['ReportTxt'].apply(splitter))\n",
    "HMC_RAD_CARDIO_df  = HMC_RAD_CARDIO_df.assign(text_len = HMC_RAD_CARDIO_df['text_words'].apply(len))"
   ],
   "outputs": [],
   "execution_count": null
  },
  {
   "cell_type": "code",
   "id": "35b7f36705db60a1",
   "metadata": {},
   "source": [
    "HMC_RAD_CARDIO_df.text_len.sum()"
   ],
   "outputs": [],
   "execution_count": null
  },
  {
   "cell_type": "code",
   "id": "fd6631769297df96",
   "metadata": {},
   "source": [
    "HMC_RAD_CARDIO_df[['Onderz_dt', 'ReportTxt']].to_parquet(output_folder+\"/HMC_radio_cardio.parquet\")"
   ],
   "outputs": [],
   "execution_count": null
  },
  {
   "cell_type": "markdown",
   "id": "6e136d42f3550ae1",
   "metadata": {},
   "source": [
    "### Decursus\n",
    "\n",
    "110Million tokens"
   ]
  },
  {
   "cell_type": "code",
   "id": "ab08210b925489a6",
   "metadata": {},
   "source": [
    "HMC_Decursus_df = HMC_Decursus_df.assign(text_words=HMC_Decursus_df['ReportTxt'].apply(splitter))\n",
    "HMC_Decursus_df  = HMC_Decursus_df.assign(text_len = HMC_Decursus_df['text_words'].apply(len))"
   ],
   "outputs": [],
   "execution_count": null
  },
  {
   "cell_type": "code",
   "id": "f58d224acfdf32d5",
   "metadata": {},
   "source": [
    "HMC_Decursus_df.text_len.sum()"
   ],
   "outputs": [],
   "execution_count": null
  },
  {
   "cell_type": "code",
   "id": "c25d8df1a660d354",
   "metadata": {},
   "source": [
    "HMC_Decursus_df[['create_dt', 'ReportTxt']].to_parquet(output_folder+\"/HMC_decursus.parquet\")"
   ],
   "outputs": [],
   "execution_count": null
  },
  {
   "cell_type": "markdown",
   "id": "a505a3e81f5d9fd1",
   "metadata": {},
   "source": [
    "## ARGUS NOT FINISHED\n",
    "\n",
    "* Radio \n",
    "  * pre-2024: [x] 12.5M  \n",
    "  * 2024: [x] 5M\n",
    "* Ontslag\n",
    "  * pre-2024: [x] 22M\n",
    "  * 2024: \n",
    "* Echo: [x] 1M\n",
    "* Inkomende brieven"
   ]
  },
  {
   "cell_type": "code",
   "id": "ef220ef14337f09c",
   "metadata": {},
   "source": "folder = r'L:\\lab_research\\RES-Folder-UPOD\\ARGUS24\\E_ResearchData\\2_ResearchData'",
   "outputs": [],
   "execution_count": null
  },
  {
   "metadata": {},
   "cell_type": "code",
   "source": [
    "radio_1a = pd.read_csv(os.path.join(folder, '20190118', 'st9_ct_radio_vrsl_18jan2019.csv'), sep=';', encoding='latin1', engine='python')\n",
    "radio_1b = pd.read_csv(os.path.join(folder, '20190118', 'st9_radio_vrsl_18jan2019.csv'), sep=';', encoding='latin1', engine='python')\n",
    "radio_2a = pd.read_csv(os.path.join(folder, '20190909', 'ST9_CT_RADIO_VRSL_09SEP2019.csv'), sep=';', encoding='latin1', engine='python')\n",
    "radio_2b = pd.read_csv(os.path.join(folder, '20190909', 'ST9_RADIO_VRSL_09SEP2019.csv'), sep=';', encoding='latin1', engine='python')"
   ],
   "id": "6d248e56f3e7bb02",
   "outputs": [],
   "execution_count": null
  },
  {
   "metadata": {},
   "cell_type": "code",
   "source": [
    "# tekst -> plattetext -> reporttxt\n",
    "def smart_select(x, MIN_CHARS=20):\n",
    "    if len(x['tekst'])>MIN_CHARS:\n",
    "        return x['tekst']\n",
    "    if len(x['plattetext'])>MIN_CHARS:\n",
    "        return x['plattetext']\n",
    "    if len(x['reporttxt'])>MIN_CHARS:\n",
    "        return x['reporttxt']\n",
    "    \n",
    "    return np.nan\n",
    "\n",
    "\n",
    "def text_combiner(x):\n",
    "    out_str = \"\"\n",
    "    if len(x['MEMO'])>1:\n",
    "        out_str += f\"Memo: {x['MEMO']} \\n\"\n",
    "    \n",
    "    if len(x['INDICATIE'])>1:\n",
    "        out_str += f\"Indicatie: {x['INDICATIE']} \\n\"\n",
    "    \n",
    "    out_str += f\"Verslag: {x['final_text']}\"\n",
    "    return out_str"
   ],
   "id": "791a194d7463abbc",
   "outputs": [],
   "execution_count": null
  },
  {
   "metadata": {},
   "cell_type": "code",
   "source": "text_cols = ['tekst', 'plattetext', 'reporttxt']",
   "id": "fc0071423641c8a4",
   "outputs": [],
   "execution_count": null
  },
  {
   "metadata": {},
   "cell_type": "code",
   "source": [
    "radio_1a = radio_1a.dropna(subset=text_cols, how='all')\n",
    "print(radio_1a[text_cols].isna().sum())\n",
    "\n",
    "radio_1a['tekst'] = radio_1a['tekst'].fillna(\"\")\n",
    "radio_1a['plattetext'] = radio_1a['plattetext'].fillna(\"\")\n",
    "radio_1a['reporttxt'] = radio_1a['reporttxt'].fillna(\"\")\n",
    "radio_1a['MEMO'] = radio_1a['MEMO'].fillna(\"\")\n",
    "radio_1a['INDICATIE'] = radio_1a['INDICATIE'].fillna(\"\")\n",
    "\n",
    "radio_1a = radio_1a.assign(tekst_len=radio_1a['tekst'].apply(lambda x: len(splitter(x))))\n",
    "radio_1a = radio_1a.assign(plattetext_len=radio_1a['plattetext'].apply(lambda x: len(splitter(x))))\n",
    "radio_1a = radio_1a.assign(reporttxt_len=radio_1a['reporttxt'].apply(lambda x: len(splitter(x))))\n",
    "\n",
    "radio_1a = radio_1a.assign(final_text=radio_1a[text_cols].apply(smart_select, axis=1))\n",
    "radio_1a = radio_1a.dropna(subset=['final_text'])\n",
    "radio_1a = radio_1a.assign(TEXT=radio_1a[['MEMO', 'INDICATIE', 'final_text']].apply(text_combiner, axis=1))\n",
    "radio_1a = radio_1a.assign(finaltext_len=radio_1a['TEXT'].apply(lambda x: len(splitter(x))))\n"
   ],
   "id": "cc81213092e67cdd",
   "outputs": [],
   "execution_count": null
  },
  {
   "metadata": {},
   "cell_type": "code",
   "source": [
    "radio_1b = radio_1b.dropna(subset=text_cols, how='all')\n",
    "print(radio_1b[text_cols].isna().sum())\n",
    "\n",
    "radio_1b['tekst'] = radio_1b['tekst'].fillna(\"\")\n",
    "radio_1b['plattetext'] = radio_1b['plattetext'].fillna(\"\")\n",
    "radio_1b['reporttxt'] = radio_1b['reporttxt'].fillna(\"\")\n",
    "radio_1b['MEMO'] = radio_1b['MEMO'].fillna(\"\")\n",
    "radio_1b['INDICATIE'] = radio_1b['INDICATIE'].fillna(\"\")\n",
    "\n",
    "radio_1b = radio_1b.assign(tekst_len=radio_1b['tekst'].apply(lambda x: len(splitter(x))))\n",
    "radio_1b = radio_1b.assign(plattetext_len=radio_1b['plattetext'].apply(lambda x: len(splitter(x))))\n",
    "radio_1b = radio_1b.assign(reporttxt_len=radio_1b['reporttxt'].apply(lambda x: len(splitter(x))))\n",
    "\n",
    "radio_1b = radio_1b.assign(final_text=radio_1b[text_cols].apply(smart_select, axis=1))\n",
    "radio_1b = radio_1b.dropna(subset=['final_text'])\n",
    "radio_1b = radio_1b.assign(TEXT=radio_1b[['MEMO', 'INDICATIE', 'final_text']].apply(text_combiner, axis=1))\n",
    "radio_1b = radio_1b.assign(finaltext_len=radio_1b['TEXT'].apply(lambda x: len(splitter(x))))\n"
   ],
   "id": "f109d3b193c7c15f",
   "outputs": [],
   "execution_count": null
  },
  {
   "metadata": {},
   "cell_type": "code",
   "source": "radio_1 = pd.concat([radio_1a[['TEXT', 'finaltext_len']], radio_1b[['TEXT', 'finaltext_len']]])",
   "id": "971bdbf2bf89f8fb",
   "outputs": [],
   "execution_count": null
  },
  {
   "metadata": {},
   "cell_type": "code",
   "source": [
    "radio_2a = radio_2a.dropna(subset=text_cols, how='all')\n",
    "print(radio_2a[text_cols].isna().sum())\n",
    "\n",
    "radio_2a['tekst'] = radio_2a['tekst'].fillna(\"\")\n",
    "radio_2a['plattetext'] = radio_2a['plattetext'].fillna(\"\")\n",
    "radio_2a['reporttxt'] = radio_2a['reporttxt'].fillna(\"\")\n",
    "radio_2a['MEMO'] = radio_2a['MEMO'].fillna(\"\")\n",
    "radio_2a['INDICATIE'] = radio_2a['INDICATIE'].fillna(\"\")\n",
    "\n",
    "radio_2a = radio_2a.assign(tekst_len=radio_2a['tekst'].apply(lambda x: len(splitter(x))))\n",
    "radio_2a = radio_2a.assign(plattetext_len=radio_2a['plattetext'].apply(lambda x: len(splitter(x))))\n",
    "radio_2a = radio_2a.assign(reporttxt_len=radio_2a['reporttxt'].apply(lambda x: len(splitter(x))))\n",
    "\n",
    "radio_2a = radio_2a.assign(final_text=radio_2a[text_cols].apply(smart_select, axis=1))\n",
    "radio_2a = radio_2a.dropna(subset=['final_text'])\n",
    "radio_2a = radio_2a.assign(TEXT=radio_2a[['MEMO', 'INDICATIE', 'final_text']].apply(text_combiner, axis=1))\n",
    "radio_2a = radio_2a.assign(finaltext_len=radio_2a['TEXT'].apply(lambda x: len(splitter(x))))"
   ],
   "id": "343aba5a7e32379a",
   "outputs": [],
   "execution_count": null
  },
  {
   "metadata": {},
   "cell_type": "code",
   "source": [
    "radio_2b = radio_2b.dropna(subset=text_cols, how='all')\n",
    "print(radio_2b[text_cols].isna().sum())\n",
    "\n",
    "radio_2b['tekst'] = radio_2b['tekst'].fillna(\"\")\n",
    "radio_2b['plattetext'] = radio_2b['plattetext'].fillna(\"\")\n",
    "radio_2b['reporttxt'] = radio_2b['reporttxt'].fillna(\"\")\n",
    "radio_2b['MEMO'] = radio_2b['MEMO'].fillna(\"\")\n",
    "radio_2b['INDICATIE'] = radio_2b['INDICATIE'].fillna(\"\")\n",
    "\n",
    "radio_2b = radio_2b.assign(tekst_len=radio_2b['tekst'].apply(lambda x: len(splitter(x))))\n",
    "radio_2b = radio_2b.assign(plattetext_len=radio_2b['plattetext'].apply(lambda x: len(splitter(x))))\n",
    "radio_2b = radio_2b.assign(reporttxt_len=radio_2b['reporttxt'].apply(lambda x: len(splitter(x))))\n",
    "\n",
    "radio_2b = radio_2b.assign(final_text=radio_2b[text_cols].apply(smart_select, axis=1))\n",
    "radio_2b = radio_2b.dropna(subset=['final_text'])\n",
    "radio_2b = radio_2b.assign(TEXT=radio_2b[['MEMO', 'INDICATIE', 'final_text']].apply(text_combiner, axis=1))\n",
    "radio_2b = radio_2b.assign(finaltext_len=radio_2b['TEXT'].apply(lambda x: len(splitter(x))))"
   ],
   "id": "d11b32af4c10427c",
   "outputs": [],
   "execution_count": null
  },
  {
   "metadata": {},
   "cell_type": "code",
   "source": "radio_2 = pd.concat([radio_2a[['TEXT', 'finaltext_len']], radio_2b[['TEXT', 'finaltext_len']]])",
   "id": "dcc485a83604f198",
   "outputs": [],
   "execution_count": null
  },
  {
   "metadata": {},
   "cell_type": "code",
   "source": [
    "radio_pre2020 = pd.concat([radio_1, radio_2])\n",
    "radio_pre2020.to_parquet(os.path.join(output_folder, 'CARD_RADIO2020.parquet'))"
   ],
   "id": "ca7d756f90fc555e",
   "outputs": [],
   "execution_count": null
  },
  {
   "metadata": {},
   "cell_type": "code",
   "source": [
    "radio_2024 = pd.read_parquet(os.path.join(folder, '20240909', 'parquet', 'radio_reports.parquet'))\n",
    "radio_2024 = radio_2024.dropna(subset=['content_attachment1_plain_data'])\n",
    "radio_2024 = radio_2024.assign(text_len=radio_2024.content_attachment1_plain_data.apply(lambda x: len(splitter(x))))\n",
    "radio_2024 = radio_2024.rename(columns={'content_attachment1_plain_data': 'TEXT'})\n"
   ],
   "id": "a55f4e537ec5f15d",
   "outputs": [],
   "execution_count": null
  },
  {
   "metadata": {},
   "cell_type": "code",
   "source": "radio_2024.to_parquet(os.path.join(output_folder, 'CARD_RADIO2024.parquet'))",
   "id": "56ae32b73f99326c",
   "outputs": [],
   "execution_count": null
  },
  {
   "metadata": {},
   "cell_type": "code",
   "source": [
    "# discharge\n",
    "# pre-2024\n",
    "\n",
    "cardio_2020_1a = pd.read_csv(os.path.join(folder, '20190118', 'st9_cardio_brv_18jan2019.csv'), sep=';', encoding='latin1', engine='python')\n",
    "cardio_2020_1b = pd.read_csv(os.path.join(folder, '20190118', 'st9_ct_cardio_brv_18jan2019.csv'), sep=';', encoding='latin1', engine='python')"
   ],
   "id": "f73962a90895f3e2",
   "outputs": [],
   "execution_count": null
  },
  {
   "metadata": {},
   "cell_type": "code",
   "source": [
    "cardio_2020_2a = pd.read_csv(os.path.join(folder, '20190909', 'ST9_CARDIO_BRV_09SEP2019.csv'), sep=';', encoding='latin1', engine='python')\n",
    "cardio_2020_2b = pd.read_csv(os.path.join(folder, '20190909', 'ST9_CT_CARDIO_BRV_09SEP2019.csv'), sep=';', encoding='latin1', engine='python')"
   ],
   "id": "d65bdd89008c64f5",
   "outputs": [],
   "execution_count": null
  },
  {
   "metadata": {},
   "cell_type": "code",
   "source": [
    "cardio_2020_1a = cardio_2020_1a.assign(TEXT=cardio_2020_1a.new.str.replace('Ã«', 'ë', regex=False))\n",
    "cardio_2020_1b = cardio_2020_1b.assign(TEXT=cardio_2020_1b.new.str.replace('Ã«', 'ë', regex=False))\n",
    "cardio_2020_2a = cardio_2020_2a.assign(TEXT=cardio_2020_2a.new.str.replace('Ã«', 'ë', regex=False))\n",
    "cardio_2020_2b = cardio_2020_2b.assign(TEXT=cardio_2020_2b.new.str.replace('Ã«', 'ë', regex=False))"
   ],
   "id": "984f1a5e1ac21ded",
   "outputs": [],
   "execution_count": null
  },
  {
   "metadata": {},
   "cell_type": "code",
   "source": [
    "cardio_2020_1a = cardio_2020_1a.assign(text_len=cardio_2020_1a.TEXT.apply(lambda x: len(splitter(x))))\n",
    "cardio_2020_1b = cardio_2020_1b.assign(text_len=cardio_2020_1b.TEXT.apply(lambda x: len(splitter(x))))\n",
    "cardio_2020_2a = cardio_2020_2a.assign(text_len=cardio_2020_2a.TEXT.apply(lambda x: len(splitter(x))))\n",
    "cardio_2020_2b = cardio_2020_2b.assign(text_len=cardio_2020_2b.TEXT.apply(lambda x: len(splitter(x))))"
   ],
   "id": "3f2dfc868674bbf5",
   "outputs": [],
   "execution_count": null
  },
  {
   "metadata": {},
   "cell_type": "code",
   "source": [
    "cardio_2020 = pd.concat([cardio_2020_1a[['TEXT', 'text_len']], \n",
    "                         cardio_2020_1b[['TEXT', 'text_len']], \n",
    "                         cardio_2020_2a[['TEXT', 'text_len']],\n",
    "                         cardio_2020_2b[['TEXT', 'text_len']]])"
   ],
   "id": "a5ecddf8ed4f1907",
   "outputs": [],
   "execution_count": null
  },
  {
   "metadata": {},
   "cell_type": "code",
   "source": "cardio_2020.to_parquet(os.path.join(output_folder, 'ARGUS_DisCharge2020.parquet'))",
   "id": "6dd7a3fc425a864f",
   "outputs": [],
   "execution_count": null
  },
  {
   "metadata": {},
   "cell_type": "code",
   "source": [
    "cardio_2024 = pd.read_sas(os.path.join(folder, '20241029', 'letter_20241029.sas7bdat'), encoding='latin1')\n",
    "cardio_2024 = cardio_2024[['type2_display_original', 'content_attachment1_plain_data']]\n",
    "cardio_2024 = cardio_2024.dropna(subset=['content_attachment1_plain_data'])\n",
    "cardio_2024 = cardio_2024.assign(text_len=cardio_2024.content_attachment1_plain_data.apply(lambda x: len(splitter(x))))\n",
    "cardio_2024 = cardio_2024.rename(columns={'content_attachment1_plain_data': 'text'})\n",
    "cardio_2024 = cardio_2024.reset_index(drop=True)"
   ],
   "id": "439a6d532c2b5339",
   "outputs": [],
   "execution_count": null
  },
  {
   "metadata": {},
   "cell_type": "code",
   "source": "cardio_2024.text_len.sum()",
   "id": "3723b457a6b9aac2",
   "outputs": [],
   "execution_count": null
  },
  {
   "metadata": {},
   "cell_type": "code",
   "source": "cardio_2024.to_parquet(os.path.join(output_folder, 'ARGUS_DisCharge2024.parquet'))",
   "id": "8bf4badaa3cc0524",
   "outputs": [],
   "execution_count": null
  },
  {
   "metadata": {},
   "cell_type": "code",
   "source": [
    "# Echo 2024\n",
    "ARGUS_echo = pd.read_parquet(os.path.join(folder, '20240909', 'parquet', 'echo_report.parquet')) \n",
    "ARGUS_echo = ARGUS_echo.drop_duplicates(subset=['conclusion'], keep='first')\n",
    "\n",
    "ARGUS_finding = pd.read_parquet(os.path.join(folder, '20240909', 'parquet', 'echo_finding.parquet')) \n",
    "ARGUS_finding.AuxiliaryText = ARGUS_finding.AuxiliaryText.fillna(\"\")\n",
    "ARGUS_finding = ARGUS_finding.assign(TEXT=ARGUS_finding[['FindingCodeText', 'AuxiliaryText']].apply(lambda x: x['FindingCodeText'].replace('_', x['AuxiliaryText']), axis=1))\n",
    "ARGUS_finding = ARGUS_finding.groupby(['studyId_0771', 'Meas_dt']).TEXT.aggregate(lambda x: \"\\n\".join(x)).reset_index()\n",
    "\n",
    "ARGUS_echo = ARGUS_echo.assign(meas_datum = ARGUS_echo.Meas_dt.dt.date)\n",
    "ARGUS_finding = ARGUS_finding.assign(meas_datum = ARGUS_finding.Meas_dt.dt.date)\n"
   ],
   "id": "b354c8996f6cc97",
   "outputs": [],
   "execution_count": null
  },
  {
   "metadata": {},
   "cell_type": "code",
   "source": "ARGUS_echo_combined = ARGUS_echo.merge(ARGUS_finding, how='outer', on=['studyId_0771', 'meas_datum'])",
   "id": "eebc2b7727e492de",
   "outputs": [],
   "execution_count": null
  },
  {
   "metadata": {},
   "cell_type": "code",
   "source": [
    "# Argus referral letters\n",
    "\n",
    "cardioReferal_2024 = pd.read_sas(os.path.join(folder, '20241029', 'refletter_20241029.sas7bdat'), encoding='latin1')\n",
    "cardioReferal_2024 = cardioReferal_2024[['class_display', 'PASBLOB_RTF_text']].dropna(subset=['PASBLOB_RTF_text'])\n",
    "cardioReferal_2024 = cardioReferal_2024.assign(text=cardioReferal_2024.PASBLOB_RTF_text.astype(str))\n",
    "cardioReferal_2024 - cardioReferal_2024.assign(text_len=cardioReferal_2024.text.apply(lambda x: len(splitter(x))))\n",
    "cardioReferal_2024 = cardioReferal_2024.assign(words=cardioReferal_2024.text.apply(lambda x: [c for c in splitter(x) if c !='']))\n",
    "cardioReferal_2024 = cardioReferal_2024.assign(text_len=cardioReferal_2024.words.apply(lambda x: len(x)))\n",
    "cardioReferal_2024[['class_display', 'text', 'text_len']].to_parquet(os.path.join(output_folder, 'ARGUS_Referal_2024.parquet'))\n"
   ],
   "id": "92a6707bd8e29a2f",
   "outputs": [],
   "execution_count": null
  },
  {
   "metadata": {},
   "cell_type": "code",
   "source": [
    "def combiner(x):\n",
    "    out_string = \"\"\n",
    "    if pd.isna(x['conclusion'])==False:\n",
    "        out_string += f\"Conclusie: {x['conclusion']}\"\n",
    "    \n",
    "    if pd.isna(x['TEXT'])==False:\n",
    "        out_string += f\"Bevindingen: {x['TEXT']}\" \n",
    "        \n",
    "    return out_string\n",
    "        \n",
    "ARGUS_echo_combined = ARGUS_echo_combined.assign(FINAL=ARGUS_echo_combined[['TEXT', 'conclusion']].apply(combiner, axis=1))\n",
    "ARGUS_echo_combined = ARGUS_echo_combined.assign(text_len=ARGUS_echo_combined.FINAL.apply(lambda x: len(splitter(x))))\n"
   ],
   "id": "f7d97a5624135046",
   "outputs": [],
   "execution_count": null
  },
  {
   "metadata": {},
   "cell_type": "code",
   "source": "ARGUS_echo_combined.text_len.sum(0)",
   "id": "a04703d41e29139",
   "outputs": [],
   "execution_count": null
  },
  {
   "metadata": {},
   "cell_type": "code",
   "source": "ARGUS_echo_combined[['FINAL', 'text_len' ]].to_parquet(os.path.join(output_folder, 'ARGUS_echo.parquet'))",
   "id": "e81c62f8023cb4ea",
   "outputs": [],
   "execution_count": null
  },
  {
   "cell_type": "markdown",
   "id": "7469888c96518d43",
   "metadata": {},
   "source": [
    "# [x] SMART\n",
    "\n",
    "9.3Million tokens"
   ]
  },
  {
   "cell_type": "code",
   "id": "6992d713b22741e2",
   "metadata": {},
   "source": [
    "smart_df = pd.read_csv(r\"T:\\laupodteam\\AIOS\\Bram\\data\\Argus\\text_data\\SMART\\output_dataset_cardio.csv\", sep=\";\", encoding='latin1')\n",
    "\n",
    "smart_df = smart_df.assign(text=smart_df.text.str.replace(\"..\", \"\\n\"))\n",
    "\n",
    "smart_df = smart_df.assign(text_words=smart_df['text'].apply(splitter))\n",
    "smart_df  = smart_df.assign(text_len = smart_df['text_words'].apply(len))"
   ],
   "outputs": [],
   "execution_count": null
  },
  {
   "cell_type": "code",
   "id": "20a22a53eb09c828",
   "metadata": {},
   "source": [
    "smart_df.text_len.sum()"
   ],
   "outputs": [],
   "execution_count": null
  },
  {
   "cell_type": "code",
   "id": "a2856f558a2c23b3",
   "metadata": {},
   "source": [
    "smart_df.to_parquet(output_folder+\"/SMART.parquet\")"
   ],
   "outputs": [],
   "execution_count": null
  },
  {
   "cell_type": "markdown",
   "id": "7aa6573ad1ed2bb9",
   "metadata": {},
   "source": [
    "# [x] Geriatrics\n",
    "\n",
    "19.000.000"
   ]
  },
  {
   "cell_type": "code",
   "id": "3fd881a0b4b823c7",
   "metadata": {},
   "source": [
    "consults  = pd.read_sas(r'T:\\lab_research\\RES-Folder-UPOD\\ODIN-UC4\\E_ResearchData\\2_ResearchData\\20240826\\consult_20240826.sas7bdat', encoding='latin1')"
   ],
   "outputs": [],
   "execution_count": null
  },
  {
   "cell_type": "code",
   "id": "e366d2048721e61f",
   "metadata": {},
   "source": [
    "consults = consults.assign(date=consults['date'].dt.date)"
   ],
   "outputs": [],
   "execution_count": null
  },
  {
   "cell_type": "code",
   "id": "816d9fc62cecf222",
   "metadata": {},
   "source": [
    "# 'Geriatrie' title, section_title_display_original, section_text, date\n",
    "def stitch_text(x):\n",
    "    txt = \"Geriatrie. \\n\"\n",
    "    if (isinstance(x['title'], str)):\n",
    "        txt += \"Betreft: \" + x['title']\n",
    "    if (isinstance(x['section_title_display_original'], str)):\n",
    "        txt += \"\\nBetreft: \" + x['section_title_display_original']\n",
    "    if (isinstance(x['section_text'], str)):\n",
    "        txt += \"\\nInhoud: \" + x['section_text']\n",
    "    return txt\n",
    "\n",
    "consults['text'] = consults[['title', 'section_title_display_original', 'section_text']].apply(stitch_text, axis=1)\n",
    "consults = consults.assign(txtlen=consults.text.str.len())"
   ],
   "outputs": [],
   "execution_count": null
  },
  {
   "cell_type": "code",
   "id": "38c30ec8",
   "metadata": {},
   "source": [
    "consults['text_words'] = consults['text'].apply(splitter)\n",
    "consults['text_len'] = consults['text_words'].apply(len)"
   ],
   "outputs": [],
   "execution_count": null
  },
  {
   "cell_type": "code",
   "id": "e8a253fe",
   "metadata": {},
   "source": [
    "consults.text_len.sum()"
   ],
   "outputs": [],
   "execution_count": null
  },
  {
   "cell_type": "code",
   "id": "cb4228a7985d3bdc",
   "metadata": {},
   "source": [
    "consults.txtlen.hist(bins=100)"
   ],
   "outputs": [],
   "execution_count": null
  },
  {
   "cell_type": "code",
   "id": "5fde7889b3bcecce",
   "metadata": {},
   "source": [
    "consults.loc[consults.txtlen>200,['date', 'text']].to_parquet(output_folder+\"/ODIN_CONSULTS.parquet\")"
   ],
   "outputs": [],
   "execution_count": null
  },
  {
   "cell_type": "markdown",
   "id": "70e1ec0e",
   "metadata": {},
   "source": [
    "# IBD NOT FINISHED"
   ]
  },
  {
   "cell_type": "code",
   "id": "b1a31674",
   "metadata": {},
   "source": [
    "decursus_hmc = pd.read_feather(r'L:\\lab_research\\RES-Folder-UPOD\\MDL_hackathon\\E_ResearchData\\4_Prepped\\hmc_decursus.feather')\n",
    "decursus_umcu = pd.read_feather(r'L:\\lab_research\\RES-Folder-UPOD\\MDL_hackathon\\E_ResearchData\\4_Prepped\\umcu_decursus.feather')"
   ],
   "outputs": [],
   "execution_count": null
  },
  {
   "cell_type": "code",
   "id": "f1de283b",
   "metadata": {},
   "source": [
    "endoscopy_hmc = pd.read_feather(r'L:\\lab_research\\RES-Folder-UPOD\\MDL_hackathon\\E_ResearchData\\4_Prepped\\hmc_endoscopy.feather')\n",
    "endoscopy_umcu = pd.read_feather(r'L:\\lab_research\\RES-Folder-UPOD\\MDL_hackathon\\E_ResearchData\\4_Prepped\\umcu_endoscopy.feather')"
   ],
   "outputs": [],
   "execution_count": null
  },
  {
   "cell_type": "code",
   "id": "12fa3564",
   "metadata": {},
   "source": [
    "pathology_hmc = pd.read_feather(r'L:\\lab_research\\RES-Folder-UPOD\\MDL_hackathon\\E_ResearchData\\4_Prepped\\hmc_pathology.feather')\n",
    "pathology_umcu = pd.read_feather(r'L:\\lab_research\\RES-Folder-UPOD\\MDL_hackathon\\E_ResearchData\\4_Prepped\\umcu_pathology.feather')"
   ],
   "outputs": [],
   "execution_count": null
  },
  {
   "cell_type": "code",
   "id": "eb9ee410",
   "metadata": {},
   "source": [
    "radiology_hmc = pd.read_feather(r'L:\\lab_research\\RES-Folder-UPOD\\MDL_hackathon\\E_ResearchData\\4_Prepped\\hmc_pathology.feather')\n",
    "radiology_umcu = pd.read_feather(r'L:\\lab_research\\RES-Folder-UPOD\\MDL_hackathon\\E_ResearchData\\4_Prepped\\umcu_pathology.feather')"
   ],
   "outputs": [],
   "execution_count": null
  },
  {
   "cell_type": "code",
   "id": "e58af0e1",
   "metadata": {},
   "source": [
    "decursus_hmc = pd.read_feather(r'L:\\lab_research\\RES-Folder-UPOD\\MDL_hackathon\\E_ResearchData\\4_Prepped\\hmc_decursus.feather')\n",
    "decursus_umcu = pd.read_feather(r'L:\\lab_research\\RES-Folder-UPOD\\MDL_hackathon\\E_ResearchData\\4_Prepped\\umcu_decursus.feather')\n",
    "\n",
    "decursus_umcu['text_words'] = decursus_umcu['ANTWOORD_def'].apply(splitter)\n",
    "decursus_umcu['text_len'] = decursus_umcu['text_words'].apply(len)\n",
    "decursus_umcu = decursus_umcu.rename(columns={'DATUM':'date', 'ANTWOORD_def':'text'})\n",
    "decursus_umcu = decursus_umcu.assign(text=decursus_umcu[['STELLING','text']].apply(lambda x: x['STELLING']+\":\"+x['text'], axis=1))\n",
    "decursus_umcu = decursus_umcu.groupby(['StudyID', 'date'])['text'].apply(lambda x: '\\n'.join(x)).reset_index()"
   ],
   "outputs": [],
   "execution_count": null
  },
  {
   "cell_type": "code",
   "id": "d8491364",
   "metadata": {},
   "source": [
    "decursus_hmc = decursus_hmc[decursus_hmc.STELLING.str.contains('telefoon', case=False)==False]\n",
    "decursus_hmc = decursus_hmc.rename(columns={'DATUM':'date', 'ANTWOORD_def':'text'})\n",
    "decursus_hmc = decursus_hmc.assign(text=decursus_hmc[['STELLING','text']].apply(lambda x: x['STELLING']+\":\"+x['text'], axis=1))\n",
    "decursus_hmc = decursus_hmc.groupby(['studyID', 'date'])['text'].apply(lambda x: '\\n'.join(x)).reset_index()"
   ],
   "outputs": [],
   "execution_count": null
  },
  {
   "cell_type": "code",
   "id": "19841e9b",
   "metadata": {},
   "source": [
    "decursus_umcu"
   ],
   "outputs": [],
   "execution_count": null
  },
  {
   "cell_type": "markdown",
   "id": "afa06a14",
   "metadata": {},
   "source": [
    "# RA NOT FINISHED\n",
    "\n",
    "**40.000.000**"
   ]
  },
  {
   "cell_type": "code",
   "id": "248f9a00",
   "metadata": {},
   "source": [
    "base_dir_d2tra = '//ds/Data/IGD/Onderzoek/Reumatologie/20-724_D2TRA_Hackaton/E_ResearchData/2_ResearchData'\n",
    "\n",
    "ra_brieven = pd.read_sas(base_dir_d2tra+'/ra_brieven_uncompressed.sas7bdat', encoding='latin1')\n",
    "ra_brieven = ra_brieven[ra_brieven['OMSCH'].notna()]\n",
    "ra_brieven = ra_brieven[ra_brieven['plattetext_new'].notna()]\n",
    "\n",
    "ra_brieven = ra_brieven.assign(text=ra_brieven[['DOCOMSCHR', 'OMSCH', 'plattetext_new']].apply(lambda x: x['DOCOMSCHR']+\":\"+x['plattetext_new'], axis=1))\n",
    "ra_brieven.reset_index(drop=True)[['text']].to_parquet(output_folder+\"/RA_brieven_fromSAS.parquet\")\n",
    "ra_brieven = ra_brieven.assign(text_words=ra_brieven['text'].apply(splitter))\n",
    "ra_brieven  = ra_brieven.assign(text_len = ra_brieven['text_words'].apply(len))\n",
    "print(ra_brieven.text_len.sum())"
   ],
   "outputs": [],
   "execution_count": null
  },
  {
   "cell_type": "code",
   "id": "a70d1c67",
   "metadata": {},
   "source": [
    "ra_vragen = pd.read_sas(base_dir_d2tra+'/vragenlijsten_new_uncompressed.sas7bdat', encoding='latin1')\n",
    "ra_vragen = ra_vragen.assign(STELLING=ra_vragen['STELLING'].apply(lambda x: 'Reden van komst' if 'reden' in x.lower() else x))\n",
    "ra_vragen = ra_vragen.assign(ANTWOORD=ra_vragen.ANTWOORD.apply(striprtf))\n",
    "ra_vragen = ra_vragen[['studyId_RA_hackathon', 'create_dt', 'STELLING', 'ANTWOORD']]\n",
    "ra_vragen = ra_vragen.assign(text_words=ra_vragen['ANTWOORD'].apply(splitter))\n",
    "ra_vragen  = ra_vragen.assign(text_len = ra_vragen['text_words'].apply(len))"
   ],
   "outputs": [],
   "execution_count": null
  },
  {
   "cell_type": "code",
   "id": "08abbdef",
   "metadata": {},
   "source": [
    "ra_vragen = ra_vragen.assign(ANTWOORD=ra_vragen.ANTWOORD.apply(striprtf))"
   ],
   "outputs": [],
   "execution_count": null
  },
  {
   "cell_type": "code",
   "id": "64006ef8",
   "metadata": {},
   "source": [
    "ra_vragen[['STELLING', 'ANTWOORD', 'CATEGORIE','omschr']].STELLING.value_counts()[40:60]"
   ],
   "outputs": [],
   "execution_count": null
  },
  {
   "cell_type": "code",
   "id": "2b0ec309",
   "metadata": {},
   "source": [
    "#  Voorgeschiedenis, Algemeen, Toelichting, Toelichting slokdarm, Reden van komst, Overdracht, Lichamelijk onderzoek, Aanvullend onderzoek, Anamnese, Tractus anamnese, Samenvatting, Conclusie, Beleid\n",
    "ra_vragen[['STELLING', 'ANTWOORD', 'CATEGORIE','omschr']].STELLING.value_counts()[40:60]"
   ],
   "outputs": [],
   "execution_count": null
  },
  {
   "cell_type": "code",
   "id": "1efe0b4f",
   "metadata": {},
   "source": [
    "with open(r'T:\\laupodteam\\AIOS\\Bram\\language_modeling\\MEDICAL_TEXT\\CLEANED\\RA.txt', 'r') as f:\n",
    "    ra_stratafit = f.readlines()\n",
    "    ra_stratafit = [{'text': x.strip()} for x in ra_stratafit]\n",
    "    ra_stratafit_df = pd.DataFrame(ra_stratafit)\n",
    "    ra_stratafit_df.to_parquet(os.path.join(output_folder, 'RA.parquet'))\n",
    "    ra_stratafit_df = ra_stratafit_df.assign(text_words=ra_stratafit_df['text'].apply(splitter))\n",
    "    ra_stratafit_df  = ra_stratafit_df.assign(text_len = ra_stratafit_df['text_words'].apply(len))\n",
    "    print(ra_stratafit_df.text_len.sum())"
   ],
   "outputs": [],
   "execution_count": null
  },
  {
   "cell_type": "code",
   "id": "0ac20ce1",
   "metadata": {},
   "source": [
    "with open(r'T:\\laupodteam\\AIOS\\Bram\\language_modeling\\MEDICAL_TEXT\\CLEANED\\RA_radio.txt', 'r') as f:\n",
    "    ra_stratafit_radio = f.readlines()\n",
    "    ra_stratafit_radio = [{'text': x.strip()} for x in ra_stratafit_radio]\n",
    "    ra_stratafit_radio_df = pd.DataFrame(ra_stratafit_radio)\n",
    "    ra_stratafit_radio_df.to_parquet(os.path.join(output_folder, 'RA_radio.parquet'))\n",
    "    ra_stratafit_radio_df = ra_stratafit_radio_df.assign(text_words=ra_stratafit_radio_df['text'].apply(splitter))\n",
    "    ra_stratafit_radio_df  = ra_stratafit_radio_df.assign(text_len = ra_stratafit_radio_df['text_words'].apply(len))\n",
    "    print(ra_stratafit_radio_df.text_len.sum())"
   ],
   "outputs": [],
   "execution_count": null
  },
  {
   "cell_type": "code",
   "id": "37931374",
   "metadata": {},
   "source": [
    "with open(r'T:\\laupodteam\\AIOS\\Bram\\language_modeling\\MEDICAL_TEXT\\CLEANED\\RA_SMK.txt', 'r') as f:\n",
    "    ra_smk = f.readlines()\n",
    "    ra_smk = [{'text': x.strip()} for x in ra_smk]\n",
    "    ra_smk_df = pd.DataFrame(ra_smk)\n",
    "    ra_smk_df.to_parquet(os.path.join(output_folder, 'RA_OTHER.parquet'))\n",
    "    ra_smk_df = ra_smk_df.assign(text_words=ra_smk_df['text'].apply(splitter))\n",
    "    ra_smk_df  = ra_smk_df.assign(text_len = ra_smk_df['text_words'].apply(len))\n",
    "    print(ra_smk_df.text_len.sum())"
   ],
   "outputs": [],
   "execution_count": null
  },
  {
   "cell_type": "markdown",
   "id": "f266cfb4",
   "metadata": {},
   "source": [
    "# MDS NOT FINISHED"
   ]
  },
  {
   "cell_type": "code",
   "id": "54e3b63a",
   "metadata": {},
   "source": [
    "base_dir = 'L://lab_research/RES-Folder-UPOD/DiagHematoMal_22-751/E_ResearchData/2_ResearchData'"
   ],
   "outputs": [],
   "execution_count": null
  },
  {
   "cell_type": "markdown",
   "id": "c7ecb06456bea1d6",
   "metadata": {},
   "source": [
    "# GENERIC DUTCH MEDICAL CORPORA"
   ]
  },
  {
   "metadata": {},
   "cell_type": "markdown",
   "source": "# Pubmed abstracts\n",
   "id": "8fe58bc2730f5783"
  },
  {
   "metadata": {},
   "cell_type": "code",
   "source": "",
   "id": "bbbe08cf4e16793f",
   "outputs": [],
   "execution_count": null
  },
  {
   "cell_type": "markdown",
   "id": "a9538c1eb748b5bb",
   "metadata": {},
   "source": [
    "## NtVG\n",
    "\n",
    "**33M words**"
   ]
  },
  {
   "cell_type": "code",
   "id": "d58e6c04aa8d341c",
   "metadata": {},
   "source": [
    "ntvg = pd.read_feather(r'T:\\laupodteam\\AIOS\\Bram\\language_modeling\\MEDICAL_TEXT\\RAW\\NtvG\\ntvg_articles.feather')"
   ],
   "outputs": [],
   "execution_count": null
  },
  {
   "cell_type": "code",
   "id": "6663660d9f1eee66",
   "metadata": {},
   "source": [
    "def concat_text(x):\n",
    "    if isinstance(x, np.ndarray):\n",
    "        if len(x)>=2:\n",
    "            if len(x)==2:\n",
    "                return x[1]+\":\"+x[0]\n",
    "            elif len(x)==3:\n",
    "                return x[1]+\":\"+x[0]+\"\\n\"+x[2]\n",
    "            elif len(x)>3:\n",
    "                return \"\\n\".join(x)\n",
    "        else:\n",
    "            return x\n",
    "    else:\n",
    "        return x\n",
    "ntvg = ntvg.assign(text=ntvg.body_clean.apply(concat_text))\n",
    "ntvg = ntvg.assign(category = ntvg.category.replace('Diagnose in beeld', 'Diagnose'))"
   ],
   "outputs": [],
   "execution_count": null
  },
  {
   "cell_type": "code",
   "id": "6915fae8309fd867",
   "metadata": {},
   "source": [
    "ntvg = ntvg.assign(category = ntvg.category.astype('str'))\n",
    "ntvg = ntvg.assign(domain = ntvg.domain.astype('str'))\n",
    "ntvg = ntvg.assign(text = ntvg.text.astype('str'))"
   ],
   "outputs": [],
   "execution_count": null
  },
  {
   "cell_type": "code",
   "id": "6f29af97b9015f9a",
   "metadata": {},
   "source": [
    "def concat_summaries(x):\n",
    "    if x is not None:\n",
    "        if isinstance(x, np.ndarray):\n",
    "            return \"\\n\".join(x)\n",
    "        else:\n",
    "            return \"\"\n",
    "    else:\n",
    "        return \"\"\n",
    "ntvg = ntvg.assign(summary_text = \"\")\n",
    "ntvg = ntvg.assign(summary_text = ntvg.summary_clean.apply(concat_summaries))"
   ],
   "outputs": [],
   "execution_count": null
  },
  {
   "cell_type": "code",
   "id": "acf1d68eb4e602f9",
   "metadata": {},
   "source": [
    "ntvg = ntvg.assign(total_text = ntvg[['text', 'summary_text']].apply(lambda x: \"\\n\".join(x), axis=1))"
   ],
   "outputs": [],
   "execution_count": null
  },
  {
   "cell_type": "code",
   "id": "3058e64a3827f96e",
   "metadata": {},
   "source": [
    "ntvg = ntvg.assign(num_contents = ntvg.body_clean.apply(lambda x: len(x)))\n",
    "ntvg = ntvg.assign(txtlen=ntvg.total_text.str.split().apply(lambda x: len(x)))\n",
    "ntvg[['category', 'domain', 'total_text','txtlen']].to_parquet(output_folder+\"/ntvg.parquet\")\n"
   ],
   "outputs": [],
   "execution_count": null
  },
  {
   "cell_type": "code",
   "id": "a11eb2d672aa1023",
   "metadata": {},
   "source": "ntvg.txtlen.sum(), ntvg.shape",
   "outputs": [],
   "execution_count": null
  },
  {
   "cell_type": "code",
   "id": "ba729a4243c8b97a",
   "metadata": {},
   "source": "# concat with summary_clean, if available",
   "outputs": [],
   "execution_count": null
  },
  {
   "cell_type": "markdown",
   "id": "54497a95ad0284e8",
   "metadata": {},
   "source": [
    "## NHG NOT FINISHED"
   ]
  },
  {
   "cell_type": "code",
   "id": "9a25b7e709c2f938",
   "metadata": {},
   "source": [],
   "outputs": [],
   "execution_count": null
  },
  {
   "cell_type": "markdown",
   "id": "3bff4163721142f6",
   "metadata": {},
   "source": [
    "## HeNW NOT FINISHED"
   ]
  },
  {
   "cell_type": "code",
   "id": "16f3b87f29f58d31",
   "metadata": {},
   "source": [],
   "outputs": [],
   "execution_count": null
  }
 ],
 "metadata": {
  "kernelspec": {
   "display_name": "pubscience-GFzZkKDp-py3.12",
   "language": "python",
   "name": "python3"
  },
  "language_info": {
   "codemirror_mode": {
    "name": "ipython",
    "version": 3
   },
   "file_extension": ".py",
   "mimetype": "text/x-python",
   "name": "python",
   "nbconvert_exporter": "python",
   "pygments_lexer": "ipython3",
   "version": "3.12.6"
  }
 },
 "nbformat": 4,
 "nbformat_minor": 5
}

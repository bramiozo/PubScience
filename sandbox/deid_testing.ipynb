{
 "cells": [
  {
   "cell_type": "code",
   "metadata": {
    "jupyter": {
     "is_executing": true
    }
   },
   "source": [
    "# add autoreload\n",
    "%load_ext autoreload\n",
    "%autoreload 2\n",
    "\n",
    "from pubscience.anonymise import deduce\n",
    "import pandas as pd\n",
    "import numpy as np\n",
    "from tqdm import tqdm\n",
    "import os"
   ],
   "outputs": [],
   "execution_count": null
  },
  {
   "cell_type": "code",
   "execution_count": 2,
   "metadata": {},
   "outputs": [],
   "source": [
    "os.chdir(r'L:\\lab_research\\RES-Folder-UPOD\\CarTeksten\\G_Output\\2_Data\\Clinical\\CARDIOLOGY')"
   ]
  },
  {
   "cell_type": "code",
   "execution_count": null,
   "metadata": {},
   "outputs": [],
   "source": [
    "os.listdir()"
   ]
  },
  {
   "cell_type": "code",
   "execution_count": 72,
   "metadata": {},
   "outputs": [],
   "source": [
    "name_dict = {\n",
    " 'ARGUS_DisCharge2020': {'text': 'TEXT', 'meta': None},\n",
    " 'ARGUS_DisCharge2024': {'text': 'text', 'meta': ['type2_display_original']},\n",
    " 'ARGUS_echo': {'text': 'FINAL', 'meta': None},\n",
    " 'ARGUS_RADIO2020': {'text': 'TEXT', 'meta': None},\n",
    " 'ARGUS_RADIO2024': {'text': 'TEXT', 'meta': ['status_display_original2', 'isy_category_display']},\n",
    " 'ARGUS_Referal_2024': {'text': 'text', 'meta': None},\n",
    " 'CARQ': {'text': 'TEXT', 'meta': None},\n",
    " 'CARQ_REFERALS': {'text': 'TEXT', 'meta': None},\n",
    " 'CCN_consults': {'text': 'MH_EXTRA', 'meta': None},\n",
    " 'CCN_decursus': {'text': 'text', 'meta': None},\n",
    " 'DIGIN_echo': {'text': 'TEXT', 'meta': None},\n",
    " 'DIGIN_POLI': {'text': 'TEXT', 'meta': None},\n",
    " 'dt4h_echo': {'text': 'conclusion', 'meta': None},\n",
    " 'HMC_decursus': {'text': 'ReportTxt', 'meta': None},\n",
    " 'HMC_radio': {'text': 'ReportTxt', 'meta': None},\n",
    " 'HMC_radio_cardio': {'text': 'ReportTxt', 'meta': None},\n",
    " 'INKBrieven_PoBTriage': {'text': 'reporttxt', 'meta': None},\n",
    " 'ontslagbrieven_PoBTriage': {'text': 'text', 'meta': ['docOmsch']},\n",
    " 'SCAD': {'text': 'text', 'meta': None},\n",
    " 'SMART': {'text': 'text', 'meta': None},\n",
    " 'verslagen_PoBTriage': {'text': 'text', 'meta': None},\n",
    " 'ZDBrieven_PoBTriage': {'text': 'InkomendeBriefTekst_DOC', 'meta': None},\n",
    "} "
   ]
  },
  {
   "cell_type": "code",
   "execution_count": 76,
   "metadata": {},
   "outputs": [],
   "source": [
    "concat_df = pd.DataFrame()\n",
    "for fname, fdict in name_dict.items():\n",
    "    df = pd.read_parquet(f\"{fname}.parquet\")\n",
    "    df['meta'] = np.nan\n",
    "    if fdict['meta'] is not None:\n",
    "        df = df.assign(meta=df[fdict['meta']].apply(lambda x: \",\".join(x), axis=1))\n",
    "    df = df.rename(columns={fdict['text']: 'text'})\n",
    "\n",
    "    concat_df = pd.concat([concat_df, df[['text', 'meta']]], axis=0)"
   ]
  },
  {
   "cell_type": "code",
   "execution_count": null,
   "metadata": {},
   "outputs": [],
   "source": [
    "concat_df.to_parquet('COMBINED.parquet')"
   ]
  },
  {
   "metadata": {},
   "cell_type": "code",
   "outputs": [],
   "execution_count": null,
   "source": ""
  },
  {
   "cell_type": "code",
   "execution_count": 97,
   "metadata": {},
   "outputs": [],
   "source": [
    "DeID = deduce.Deidentify(n_jobs=1, \n",
    "                        to_dataframe=True,\n",
    "                        bsn_check=False,\n",
    "                        date_check=False,\n",
    "                        phone_check=False,\n",
    "                        pid_check=False,\n",
    "                        number_replace=False,\n",
    "                        backend='multiprocessing', \n",
    "                        custom_list = None,\n",
    "                        clear_brackets=False,\n",
    "                        kwargs=None,\n",
    "                        data_index=None, \n",
    "                        text_cols='TEXT'\n",
    "                        )"
   ]
  },
  {
   "cell_type": "code",
   "execution_count": 98,
   "metadata": {},
   "outputs": [
    {
     "name": "stderr",
     "output_type": "stream",
     "text": [
      "100%|██████████| 3584/3584 [3:26:33<00:00,  3.46s/it]  \n"
     ]
    }
   ],
   "source": [
    "batch_size = 1_000\n",
    "\n",
    "df_list = []\n",
    "num_rows = concat_df.shape[0]\n",
    "for k in tqdm(range(num_rows // batch_size + 1)):\n",
    "    start_i = k*batch_size\n",
    "    end_i = min((k+1)*batch_size, num_rows)\n",
    "    df_list.append(DeID.fit_transform(concat_df[['text']].iloc[start_i:end_i]))\n",
    "deid_df = pd.concat(df_list, axis=0)"
   ]
  },
  {
   "cell_type": "code",
   "execution_count": 99,
   "metadata": {},
   "outputs": [],
   "source": [
    "deid_df['meta'] = concat_df['meta']"
   ]
  },
  {
   "cell_type": "code",
   "execution_count": 100,
   "metadata": {},
   "outputs": [],
   "source": [
    "deid_df.to_parquet('deidentified/COMBINED_DEID.parquet')"
   ]
  },
  {
   "cell_type": "code",
   "execution_count": 101,
   "metadata": {},
   "outputs": [],
   "source": [
    "import ftfy"
   ]
  },
  {
   "cell_type": "code",
   "execution_count": 103,
   "metadata": {},
   "outputs": [
    {
     "data": {
      "text/plain": [
       "'Some random text with a patiënt'"
      ]
     },
     "execution_count": 103,
     "metadata": {},
     "output_type": "execute_result"
    }
   ],
   "source": [
    "text = \"Some random text with a patiÃ«nt\"\n",
    "\n",
    "ftfy.fix_encoding(text)"
   ]
  },
  {
   "cell_type": "code",
   "execution_count": 105,
   "metadata": {},
   "outputs": [],
   "source": [
    "DeID = deduce.Deidentify(n_jobs=1, \n",
    "                        to_dataframe=True,\n",
    "                        bsn_check=False,\n",
    "                        date_check=False,\n",
    "                        phone_check=False,\n",
    "                        pid_check=False,\n",
    "                        number_replace=False,\n",
    "                        backend='multiprocessing', \n",
    "                        custom_list = None,\n",
    "                        clear_brackets=False,\n",
    "                        kwargs=None,\n",
    "                        data_index=None, \n",
    "                        text_cols='TEXT'\n",
    "                        )"
   ]
  },
  {
   "cell_type": "code",
   "execution_count": 106,
   "metadata": {},
   "outputs": [],
   "source": [
    "refletters = pd.read_parquet(r'L:\\lab_research\\RES-Folder-UPOD\\ODIN-UC4\\E_ResearchData\\2_ResearchData\\20241118\\refletters.parquet')"
   ]
  },
  {
   "cell_type": "code",
   "execution_count": 123,
   "metadata": {},
   "outputs": [],
   "source": [
    "refletters_anom = DeID.fit_transform(refletters[['stripped_text']])"
   ]
  },
  {
   "cell_type": "code",
   "execution_count": 124,
   "metadata": {},
   "outputs": [],
   "source": [
    "refletters_anom[['studyId_0831', 'created']] = refletters[['studyId_0831', 'created']]"
   ]
  },
  {
   "cell_type": "code",
   "execution_count": 125,
   "metadata": {},
   "outputs": [],
   "source": [
    "refletters_anom.to_parquet(r'L:\\lab_research\\RES-Folder-UPOD\\ODIN-UC4\\E_ResearchData\\2_ResearchData\\20241118\\refletters_deid.parquet')"
   ]
  },
  {
   "cell_type": "code",
   "execution_count": null,
   "metadata": {},
   "outputs": [],
   "source": []
  }
 ],
 "metadata": {
  "kernelspec": {
   "display_name": "pubscience-GFzZkKDp-py3.12",
   "language": "python",
   "name": "python3"
  },
  "language_info": {
   "codemirror_mode": {
    "name": "ipython",
    "version": 3
   },
   "file_extension": ".py",
   "mimetype": "text/x-python",
   "name": "python",
   "nbconvert_exporter": "python",
   "pygments_lexer": "ipython3",
   "version": "3.12.6"
  }
 },
 "nbformat": 4,
 "nbformat_minor": 2
}

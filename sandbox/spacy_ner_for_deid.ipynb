{
 "cells": [
  {
   "cell_type": "code",
   "execution_count": 3,
   "metadata": {},
   "outputs": [
    {
     "name": "stderr",
     "output_type": "stream",
     "text": [
      "c:\\Users\\bes3\\AppData\\Local\\pypoetry\\Cache\\virtualenvs\\pubscience-GFzZkKDp-py3.12\\Lib\\site-packages\\pysbd\\segmenter.py:66: SyntaxWarning: invalid escape sequence '\\s'\n",
      "  for match in re.finditer('{0}\\s*'.format(re.escape(sent)), self.original_text):\n",
      "c:\\Users\\bes3\\AppData\\Local\\pypoetry\\Cache\\virtualenvs\\pubscience-GFzZkKDp-py3.12\\Lib\\site-packages\\pysbd\\lang\\arabic.py:29: SyntaxWarning: invalid escape sequence '\\.'\n",
      "  txt = re.sub('(?<={0})\\.'.format(am), '∯', txt)\n",
      "c:\\Users\\bes3\\AppData\\Local\\pypoetry\\Cache\\virtualenvs\\pubscience-GFzZkKDp-py3.12\\Lib\\site-packages\\pysbd\\lang\\persian.py:29: SyntaxWarning: invalid escape sequence '\\.'\n",
      "  txt = re.sub('(?<={0})\\.'.format(am), '∯', txt)\n"
     ]
    }
   ],
   "source": [
    "import spacy\n",
    "nlp = spacy.load(\"nl_core_news_sm\")"
   ]
  },
  {
   "cell_type": "code",
   "execution_count": 4,
   "metadata": {},
   "outputs": [],
   "source": [
    "text = \"\"\"\n",
    "Reden van komst: \n",
    "Analyse hartkloppingen.\n",
    " \n",
    "Cardiale voorgeschiedenis:\n",
    "Blanco.\n",
    "\n",
    "Niet-cardiale voorgeschiedenis:\n",
    "Blanco.\n",
    "\n",
    "Thuismedicatie:\n",
    "Geen.\n",
    "\n",
    "Anamnese:\n",
    "Patiënt heeft eigenlijk al langere tijd klachten van hartbonzen en een harde/snelle hartslag. Hij kon dit niet goed plaatsen. Tijdens het hardlopen heeft hij met zijn hartslagband echter een onregelmatige frequentie gevangen. Tijdens het hardlopen piekte de hartslag naar 230/min en was over het hele verloop onregelmatig. Hierbij had hij ook klachten van overmatig zweten, snel verzuren en niet volledig op niveau kunnen lopen. Aan het eind van de sessie waren de klachten weg en ook normaliseerde de hartslagregistratie. Ook in rust heeft patiënt soms klachten. Dit komt wel wekelijks voor. De klachten houden maximaal een half uur aan. Er zijn geen duidelijk uitlokkende factoren. Wel spreekt stress mogelijk een rol.\n",
    "Verder heeft hij geen pijn op de borst en geen palpitaties. Er is ook geen sprake van wegrakingen of licht gevoel in het hoofd.\n",
    "Intoxicaties: koffie. Alcohol sporadisch.\n",
    "Werk: hoofdbureau opleiding en trainingsontwikkeling, Landmacht. Veel stress na wegvallen collega, moet dit werk erbij nemen.\n",
    "Sporten: hardlopen 2x p/w. Krachttraining: 2-3x per week. Zonder problemen.\n",
    "\n",
    "Cardiovasculaire risicofactoren:\n",
    "Hypertensie: nee.\n",
    "Hypercholesterolemie: niet bekend.\n",
    "Roken: nee.\n",
    "DM: nee.\n",
    "Obesitas: nee.\n",
    "Positieve familieanamnese: moeder lekkende hartklep (76 jaar), geen plotse hartdood.\n",
    "    \n",
    "Lichamelijk onderzoek:\n",
    "Indruk: niet zieke man.\n",
    "Controles: bloeddruk 141/66 mmHg.\n",
    "Hals: halsvenen niet gestuwd.\n",
    "Cor: S1S2 geen souffle.\n",
    "Pul: VAG bdz.\n",
    "Abdomen: peristaltiek +.\n",
    "Enkels: slank, pulsaties +/+. \n",
    "\n",
    "Aanvullend onderzoek:\n",
    "ECG: \n",
    "Sinusritme 61/min, intermediaire hartas, normale geleidingstijden, normale R-progressie, geen STT afwijkingen.\n",
    "\n",
    "Echo: \n",
    "Niet gedilateerde LV, normale systolische functie. 3d EF 65%. Geen LVH, geen regionale wandbewegingsstoornissen. Normale RVF, normale diastolische functie. Normaal aorta traject. LA matig gedilateerd. Spoor MI en TI.\n",
    " \"\"\""
   ]
  },
  {
   "cell_type": "code",
   "execution_count": null,
   "metadata": {},
   "outputs": [],
   "source": [
    "doc=nlp(text)"
   ]
  },
  {
   "cell_type": "code",
   "execution_count": 7,
   "metadata": {},
   "outputs": [
    {
     "name": "stdout",
     "output_type": "stream",
     "text": [
      "Reden van komst FAC\n",
      "Blanco LOC\n",
      "Blanco LOC\n",
      "Anamnese NORP\n",
      "wekelijks DATE\n",
      "half uur TIME\n",
      "Wel ORG\n",
      "Intoxicaties PERSON\n",
      "Werk FAC\n",
      "Landmacht GPE\n",
      "2x ORDINAL\n",
      "2-3x CARDINAL\n",
      "Hypercholesterolemie ORG\n",
      "Roken FAC\n",
      "DM ORG\n",
      "Obesitas FAC\n",
      "76 jaar DATE\n",
      "Lichamelijk GPE\n",
      "Indruk PERSON\n",
      "141/66 DATE\n",
      "Hals GPE\n",
      "Cor WORK_OF_ART\n",
      "+ CARDINAL\n",
      "Enkels LANGUAGE\n",
      "+ CARDINAL\n",
      "ECG ORG\n",
      "Sinusritme NORP\n",
      "STT ORG\n",
      "3d CARDINAL\n",
      "diastolische NORP\n",
      "LA ORDINAL\n",
      "TI ORG\n"
     ]
    }
   ],
   "source": [
    "for ent in doc.ents:\n",
    "    print(ent.text, ent.label_)"
   ]
  },
  {
   "cell_type": "code",
   "execution_count": null,
   "metadata": {},
   "outputs": [],
   "source": []
  }
 ],
 "metadata": {
  "kernelspec": {
   "display_name": "pubscience-GFzZkKDp-py3.12",
   "language": "python",
   "name": "python3"
  },
  "language_info": {
   "codemirror_mode": {
    "name": "ipython",
    "version": 3
   },
   "file_extension": ".py",
   "mimetype": "text/x-python",
   "name": "python",
   "nbconvert_exporter": "python",
   "pygments_lexer": "ipython3",
   "version": "3.12.6"
  }
 },
 "nbformat": 4,
 "nbformat_minor": 2
}

{
 "cells": [
  {
   "cell_type": "code",
   "execution_count": null,
   "metadata": {},
   "outputs": [],
   "source": [
    "# read in pdf and extract text\n",
    "# We want to ignore all the decorum and only extract the text (i.e. no page number etc.)\n",
    "import os\n",
    "from pubscience.retrieve.OAI.parse_pdfs import pdf_to_text, extract_summary, text_extractor"
   ]
  },
  {
   "cell_type": "code",
   "execution_count": null,
   "metadata": {},
   "outputs": [],
   "source": [
    "institute = 'Leiden'\n",
    "pdf_path = f'//Ds/data/LAB/laupodteam/AIOS/Bram/language_modeling/MEDICAL_TEXT/RAW/PRETRAINING/PhDTheses/{institute}/theses/'"
   ]
  },
  {
   "cell_type": "code",
   "execution_count": null,
   "metadata": {},
   "outputs": [],
   "source": [
    "Files = [f for f in os.listdir(pdf_path) if f.endswith('.pdf')]\n",
    "Files.sort()\n",
    "\n",
    "ListOfTexts = []    \n",
    "ListOfSummaries = []\n",
    "ListOfNumWordLists = []\n",
    "ListOfErrors = []"
   ]
  },
  {
   "cell_type": "code",
   "execution_count": null,
   "metadata": {},
   "outputs": [],
   "source": [
    "len(ListOfNumWordLists), len(Files)"
   ]
  },
  {
   "cell_type": "code",
   "execution_count": null,
   "metadata": {},
   "outputs": [],
   "source": [
    "for k, _File in enumerate(Files):\n",
    "    print(f\"Processing file {k+1}/{len(Files)}: {_File}\")\n",
    "    _path = os.path.join(pdf_path, _File)\n",
    "    try:\n",
    "        Text, error, scanned, producer = pdf_to_text(_path)\n",
    "    except Exception as e:\n",
    "        print(f\"Error processing {_File}: {e}\")\n",
    "        continue\n",
    "    SummaryEnglish, SummaryDutch = extract_summary(Text)\n",
    "    CleanedText, NumWordList = text_extractor(Text, min_words=30)\n",
    "\n",
    "    for k, page in enumerate(CleanedText):\n",
    "        ListOfTexts.append({\n",
    "            'institute': institute,\n",
    "            'file': _File,\n",
    "            'pseudo_pagenum': k,\n",
    "            'text': page\n",
    "        })\n",
    "    ListOfSummaries.append({\n",
    "        'institute': institute,\n",
    "        'file': _File,\n",
    "        'summary_english': SummaryEnglish,\n",
    "        'summary_dutch': SummaryDutch\n",
    "    })\n",
    "    ListOfNumWordLists.append({\n",
    "        'institute': institute,\n",
    "        'file': _File,\n",
    "        'num_words_per_page': NumWordList\n",
    "    })          \n",
    "    ListOfErrors.append({\n",
    "        'institute': institute,\n",
    "        'file': _File,\n",
    "        'error': error,\n",
    "        'scanned': scanned,\n",
    "        'pdf_producer': producer\n",
    "    })\n",
    "            "
   ]
  },
  {
   "cell_type": "code",
   "execution_count": null,
   "metadata": {},
   "outputs": [],
   "source": [
    "sum([_r for r in ListOfNumWordLists for _r in r['num_words_per_page']])"
   ]
  },
  {
   "cell_type": "code",
   "execution_count": null,
   "metadata": {},
   "outputs": [],
   "source": [
    "ListOfSummariesWith = [d for d in ListOfSummaries if (d['summary_english']!='') or (d['summary_dutch']!='')]\n",
    "with_sum = len(ListOfSummariesWith)\n",
    "ListOfSummariesWithout = [d for d in ListOfSummaries if (d['summary_english']=='') and (d['summary_dutch']=='')]\n",
    "without_sum = len(ListOfSummariesWithout)\n",
    "print(f'Out of {len(ListOfSummaries)} theses, {with_sum} have summaries and {without_sum} do not have summaries.')"
   ]
  },
  {
   "cell_type": "code",
   "execution_count": null,
   "metadata": {},
   "outputs": [],
   "source": [
    "import json\n",
    "\n",
    "with open(f'//Ds/data/LAB/laupodteam/AIOS/Bram/language_modeling/MEDICAL_TEXT/RAW/PRETRAINING/PhDTheses/{institute}_texts.jsonl', 'w', encoding='utf-8') as f:\n",
    "    for item in ListOfTexts:\n",
    "        f.write(json.dumps(item, ensure_ascii=False) + '\\n')"
   ]
  },
  {
   "cell_type": "code",
   "execution_count": null,
   "metadata": {},
   "outputs": [],
   "source": [
    "# the same for the summaries\n",
    "with open(f'//Ds/data/LAB/laupodteam/AIOS/Bram/language_modeling/MEDICAL_TEXT/RAW/PRETRAINING/PhDTheses/{institute}_summaries.jsonl', 'w', encoding='utf-8') as f:\n",
    "    for item in ListOfSummariesWith:\n",
    "        f.write(json.dumps(item, ensure_ascii=True) + '\\n')"
   ]
  },
  {
   "cell_type": "code",
   "execution_count": null,
   "metadata": {},
   "outputs": [],
   "source": []
  }
 ],
 "metadata": {
  "kernelspec": {
   "display_name": "pubscience-GFzZkKDp-py3.12",
   "language": "python",
   "name": "python3"
  },
  "language_info": {
   "codemirror_mode": {
    "name": "ipython",
    "version": 3
   },
   "file_extension": ".py",
   "mimetype": "text/x-python",
   "name": "python",
   "nbconvert_exporter": "python",
   "pygments_lexer": "ipython3",
   "version": "3.12.3"
  },
  "orig_nbformat": 4
 },
 "nbformat": 4,
 "nbformat_minor": 2
}
